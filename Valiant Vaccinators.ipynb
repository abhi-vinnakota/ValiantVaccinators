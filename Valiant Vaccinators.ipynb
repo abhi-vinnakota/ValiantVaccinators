{
 "cells": [
  {
   "cell_type": "markdown",
   "metadata": {},
   "source": [
    "### Team: Valiant Vaccinators\n",
    "### Analyzing the Correlation between Covid Vaccinations and Infection/Death Rates"
   ]
  },
  {
   "cell_type": "markdown",
   "metadata": {},
   "source": [
    "# Importing Libraries"
   ]
  },
  {
   "cell_type": "code",
   "execution_count": 1,
   "metadata": {},
   "outputs": [],
   "source": [
    "import pandas as pd\n",
    "import matplotlib.pyplot as plt\n",
    "import numpy as np\n",
    "import math\n",
    "import seaborn as sns\n",
    "from scipy import stats\n",
    "from scipy.optimize import curve_fit\n",
    "from sklearn.model_selection import train_test_split\n",
    "from sklearn.neighbors import KNeighborsRegressor\n",
    "from sklearn.preprocessing import StandardScaler\n",
    "from sklearn import metrics "
   ]
  },
  {
   "cell_type": "markdown",
   "metadata": {},
   "source": [
    "# Reading Dataset"
   ]
  },
  {
   "cell_type": "code",
   "execution_count": 2,
   "metadata": {},
   "outputs": [
    {
     "data": {
      "text/html": [
       "<div>\n",
       "<style scoped>\n",
       "    .dataframe tbody tr th:only-of-type {\n",
       "        vertical-align: middle;\n",
       "    }\n",
       "\n",
       "    .dataframe tbody tr th {\n",
       "        vertical-align: top;\n",
       "    }\n",
       "\n",
       "    .dataframe thead th {\n",
       "        text-align: right;\n",
       "    }\n",
       "</style>\n",
       "<table border=\"1\" class=\"dataframe\">\n",
       "  <thead>\n",
       "    <tr style=\"text-align: right;\">\n",
       "      <th></th>\n",
       "      <th>iso_code</th>\n",
       "      <th>continent</th>\n",
       "      <th>location</th>\n",
       "      <th>date</th>\n",
       "      <th>total_cases</th>\n",
       "      <th>new_cases</th>\n",
       "      <th>new_cases_smoothed</th>\n",
       "      <th>total_deaths</th>\n",
       "      <th>new_deaths</th>\n",
       "      <th>new_deaths_smoothed</th>\n",
       "      <th>...</th>\n",
       "      <th>extreme_poverty</th>\n",
       "      <th>cardiovasc_death_rate</th>\n",
       "      <th>diabetes_prevalence</th>\n",
       "      <th>female_smokers</th>\n",
       "      <th>male_smokers</th>\n",
       "      <th>handwashing_facilities</th>\n",
       "      <th>hospital_beds_per_thousand</th>\n",
       "      <th>life_expectancy</th>\n",
       "      <th>human_development_index</th>\n",
       "      <th>excess_mortality</th>\n",
       "    </tr>\n",
       "  </thead>\n",
       "  <tbody>\n",
       "    <tr>\n",
       "      <th>0</th>\n",
       "      <td>USA</td>\n",
       "      <td>North America</td>\n",
       "      <td>United States</td>\n",
       "      <td>3/5/2020</td>\n",
       "      <td>184</td>\n",
       "      <td>77</td>\n",
       "      <td>23.857</td>\n",
       "      <td>12</td>\n",
       "      <td>1</td>\n",
       "      <td>1.714</td>\n",
       "      <td>...</td>\n",
       "      <td>1.2</td>\n",
       "      <td>151.089</td>\n",
       "      <td>10.79</td>\n",
       "      <td>19.1</td>\n",
       "      <td>24.6</td>\n",
       "      <td>NaN</td>\n",
       "      <td>2.77</td>\n",
       "      <td>78.86</td>\n",
       "      <td>0.926</td>\n",
       "      <td>NaN</td>\n",
       "    </tr>\n",
       "    <tr>\n",
       "      <th>1</th>\n",
       "      <td>USA</td>\n",
       "      <td>North America</td>\n",
       "      <td>United States</td>\n",
       "      <td>3/6/2020</td>\n",
       "      <td>237</td>\n",
       "      <td>53</td>\n",
       "      <td>31.429</td>\n",
       "      <td>14</td>\n",
       "      <td>2</td>\n",
       "      <td>2.000</td>\n",
       "      <td>...</td>\n",
       "      <td>1.2</td>\n",
       "      <td>151.089</td>\n",
       "      <td>10.79</td>\n",
       "      <td>19.1</td>\n",
       "      <td>24.6</td>\n",
       "      <td>NaN</td>\n",
       "      <td>2.77</td>\n",
       "      <td>78.86</td>\n",
       "      <td>0.926</td>\n",
       "      <td>NaN</td>\n",
       "    </tr>\n",
       "    <tr>\n",
       "      <th>2</th>\n",
       "      <td>USA</td>\n",
       "      <td>North America</td>\n",
       "      <td>United States</td>\n",
       "      <td>3/7/2020</td>\n",
       "      <td>403</td>\n",
       "      <td>166</td>\n",
       "      <td>54.000</td>\n",
       "      <td>17</td>\n",
       "      <td>3</td>\n",
       "      <td>2.286</td>\n",
       "      <td>...</td>\n",
       "      <td>1.2</td>\n",
       "      <td>151.089</td>\n",
       "      <td>10.79</td>\n",
       "      <td>19.1</td>\n",
       "      <td>24.6</td>\n",
       "      <td>NaN</td>\n",
       "      <td>2.77</td>\n",
       "      <td>78.86</td>\n",
       "      <td>0.926</td>\n",
       "      <td>NaN</td>\n",
       "    </tr>\n",
       "    <tr>\n",
       "      <th>3</th>\n",
       "      <td>USA</td>\n",
       "      <td>North America</td>\n",
       "      <td>United States</td>\n",
       "      <td>3/8/2020</td>\n",
       "      <td>519</td>\n",
       "      <td>116</td>\n",
       "      <td>69.571</td>\n",
       "      <td>21</td>\n",
       "      <td>4</td>\n",
       "      <td>2.857</td>\n",
       "      <td>...</td>\n",
       "      <td>1.2</td>\n",
       "      <td>151.089</td>\n",
       "      <td>10.79</td>\n",
       "      <td>19.1</td>\n",
       "      <td>24.6</td>\n",
       "      <td>NaN</td>\n",
       "      <td>2.77</td>\n",
       "      <td>78.86</td>\n",
       "      <td>0.926</td>\n",
       "      <td>4.38</td>\n",
       "    </tr>\n",
       "    <tr>\n",
       "      <th>4</th>\n",
       "      <td>USA</td>\n",
       "      <td>North America</td>\n",
       "      <td>United States</td>\n",
       "      <td>3/9/2020</td>\n",
       "      <td>594</td>\n",
       "      <td>75</td>\n",
       "      <td>77.000</td>\n",
       "      <td>22</td>\n",
       "      <td>1</td>\n",
       "      <td>2.286</td>\n",
       "      <td>...</td>\n",
       "      <td>1.2</td>\n",
       "      <td>151.089</td>\n",
       "      <td>10.79</td>\n",
       "      <td>19.1</td>\n",
       "      <td>24.6</td>\n",
       "      <td>NaN</td>\n",
       "      <td>2.77</td>\n",
       "      <td>78.86</td>\n",
       "      <td>0.926</td>\n",
       "      <td>NaN</td>\n",
       "    </tr>\n",
       "  </tbody>\n",
       "</table>\n",
       "<p>5 rows × 60 columns</p>\n",
       "</div>"
      ],
      "text/plain": [
       "  iso_code      continent       location      date  total_cases  new_cases  \\\n",
       "0      USA  North America  United States  3/5/2020          184         77   \n",
       "1      USA  North America  United States  3/6/2020          237         53   \n",
       "2      USA  North America  United States  3/7/2020          403        166   \n",
       "3      USA  North America  United States  3/8/2020          519        116   \n",
       "4      USA  North America  United States  3/9/2020          594         75   \n",
       "\n",
       "   new_cases_smoothed  total_deaths  new_deaths  new_deaths_smoothed  ...  \\\n",
       "0              23.857            12           1                1.714  ...   \n",
       "1              31.429            14           2                2.000  ...   \n",
       "2              54.000            17           3                2.286  ...   \n",
       "3              69.571            21           4                2.857  ...   \n",
       "4              77.000            22           1                2.286  ...   \n",
       "\n",
       "   extreme_poverty  cardiovasc_death_rate  diabetes_prevalence  \\\n",
       "0              1.2                151.089                10.79   \n",
       "1              1.2                151.089                10.79   \n",
       "2              1.2                151.089                10.79   \n",
       "3              1.2                151.089                10.79   \n",
       "4              1.2                151.089                10.79   \n",
       "\n",
       "   female_smokers  male_smokers  handwashing_facilities  \\\n",
       "0            19.1          24.6                     NaN   \n",
       "1            19.1          24.6                     NaN   \n",
       "2            19.1          24.6                     NaN   \n",
       "3            19.1          24.6                     NaN   \n",
       "4            19.1          24.6                     NaN   \n",
       "\n",
       "   hospital_beds_per_thousand  life_expectancy  human_development_index  \\\n",
       "0                        2.77            78.86                    0.926   \n",
       "1                        2.77            78.86                    0.926   \n",
       "2                        2.77            78.86                    0.926   \n",
       "3                        2.77            78.86                    0.926   \n",
       "4                        2.77            78.86                    0.926   \n",
       "\n",
       "   excess_mortality  \n",
       "0               NaN  \n",
       "1               NaN  \n",
       "2               NaN  \n",
       "3              4.38  \n",
       "4               NaN  \n",
       "\n",
       "[5 rows x 60 columns]"
      ]
     },
     "execution_count": 2,
     "metadata": {},
     "output_type": "execute_result"
    }
   ],
   "source": [
    "covid_national = pd.read_csv(r\"./covidnational.csv\")\n",
    "covid_national.head()"
   ]
  },
  {
   "cell_type": "markdown",
   "metadata": {},
   "source": [
    "# Data Cleaning"
   ]
  },
  {
   "cell_type": "code",
   "execution_count": 3,
   "metadata": {},
   "outputs": [
    {
     "data": {
      "text/html": [
       "<div>\n",
       "<style scoped>\n",
       "    .dataframe tbody tr th:only-of-type {\n",
       "        vertical-align: middle;\n",
       "    }\n",
       "\n",
       "    .dataframe tbody tr th {\n",
       "        vertical-align: top;\n",
       "    }\n",
       "\n",
       "    .dataframe thead th {\n",
       "        text-align: right;\n",
       "    }\n",
       "</style>\n",
       "<table border=\"1\" class=\"dataframe\">\n",
       "  <thead>\n",
       "    <tr style=\"text-align: right;\">\n",
       "      <th></th>\n",
       "      <th>date</th>\n",
       "      <th>total_cases</th>\n",
       "      <th>new_cases</th>\n",
       "      <th>new_cases_smoothed</th>\n",
       "      <th>total_deaths</th>\n",
       "      <th>new_deaths</th>\n",
       "      <th>new_deaths_smoothed</th>\n",
       "      <th>total_cases_per_million</th>\n",
       "      <th>new_cases_per_million</th>\n",
       "      <th>new_cases_smoothed_per_million</th>\n",
       "      <th>...</th>\n",
       "      <th>tests_per_case</th>\n",
       "      <th>total_vaccinations</th>\n",
       "      <th>people_vaccinated</th>\n",
       "      <th>people_fully_vaccinated</th>\n",
       "      <th>new_vaccinations</th>\n",
       "      <th>new_vaccinations_smoothed</th>\n",
       "      <th>total_vaccinations_per_hundred</th>\n",
       "      <th>people_vaccinated_per_hundred</th>\n",
       "      <th>people_fully_vaccinated_per_hundred</th>\n",
       "      <th>new_vaccinations_smoothed_per_million</th>\n",
       "    </tr>\n",
       "  </thead>\n",
       "  <tbody>\n",
       "    <tr>\n",
       "      <th>0</th>\n",
       "      <td>3/5/2020</td>\n",
       "      <td>184</td>\n",
       "      <td>77</td>\n",
       "      <td>23.857</td>\n",
       "      <td>12</td>\n",
       "      <td>1</td>\n",
       "      <td>1.714</td>\n",
       "      <td>0.556</td>\n",
       "      <td>0.233</td>\n",
       "      <td>0.072</td>\n",
       "      <td>...</td>\n",
       "      <td>NaN</td>\n",
       "      <td>NaN</td>\n",
       "      <td>NaN</td>\n",
       "      <td>NaN</td>\n",
       "      <td>NaN</td>\n",
       "      <td>NaN</td>\n",
       "      <td>NaN</td>\n",
       "      <td>NaN</td>\n",
       "      <td>NaN</td>\n",
       "      <td>NaN</td>\n",
       "    </tr>\n",
       "    <tr>\n",
       "      <th>1</th>\n",
       "      <td>3/6/2020</td>\n",
       "      <td>237</td>\n",
       "      <td>53</td>\n",
       "      <td>31.429</td>\n",
       "      <td>14</td>\n",
       "      <td>2</td>\n",
       "      <td>2.000</td>\n",
       "      <td>0.716</td>\n",
       "      <td>0.160</td>\n",
       "      <td>0.095</td>\n",
       "      <td>...</td>\n",
       "      <td>NaN</td>\n",
       "      <td>NaN</td>\n",
       "      <td>NaN</td>\n",
       "      <td>NaN</td>\n",
       "      <td>NaN</td>\n",
       "      <td>NaN</td>\n",
       "      <td>NaN</td>\n",
       "      <td>NaN</td>\n",
       "      <td>NaN</td>\n",
       "      <td>NaN</td>\n",
       "    </tr>\n",
       "    <tr>\n",
       "      <th>2</th>\n",
       "      <td>3/7/2020</td>\n",
       "      <td>403</td>\n",
       "      <td>166</td>\n",
       "      <td>54.000</td>\n",
       "      <td>17</td>\n",
       "      <td>3</td>\n",
       "      <td>2.286</td>\n",
       "      <td>1.218</td>\n",
       "      <td>0.502</td>\n",
       "      <td>0.163</td>\n",
       "      <td>...</td>\n",
       "      <td>6.1</td>\n",
       "      <td>NaN</td>\n",
       "      <td>NaN</td>\n",
       "      <td>NaN</td>\n",
       "      <td>NaN</td>\n",
       "      <td>NaN</td>\n",
       "      <td>NaN</td>\n",
       "      <td>NaN</td>\n",
       "      <td>NaN</td>\n",
       "      <td>NaN</td>\n",
       "    </tr>\n",
       "    <tr>\n",
       "      <th>3</th>\n",
       "      <td>3/8/2020</td>\n",
       "      <td>519</td>\n",
       "      <td>116</td>\n",
       "      <td>69.571</td>\n",
       "      <td>21</td>\n",
       "      <td>4</td>\n",
       "      <td>2.857</td>\n",
       "      <td>1.568</td>\n",
       "      <td>0.350</td>\n",
       "      <td>0.210</td>\n",
       "      <td>...</td>\n",
       "      <td>6.0</td>\n",
       "      <td>NaN</td>\n",
       "      <td>NaN</td>\n",
       "      <td>NaN</td>\n",
       "      <td>NaN</td>\n",
       "      <td>NaN</td>\n",
       "      <td>NaN</td>\n",
       "      <td>NaN</td>\n",
       "      <td>NaN</td>\n",
       "      <td>NaN</td>\n",
       "    </tr>\n",
       "    <tr>\n",
       "      <th>4</th>\n",
       "      <td>3/9/2020</td>\n",
       "      <td>594</td>\n",
       "      <td>75</td>\n",
       "      <td>77.000</td>\n",
       "      <td>22</td>\n",
       "      <td>1</td>\n",
       "      <td>2.286</td>\n",
       "      <td>1.795</td>\n",
       "      <td>0.227</td>\n",
       "      <td>0.233</td>\n",
       "      <td>...</td>\n",
       "      <td>5.3</td>\n",
       "      <td>NaN</td>\n",
       "      <td>NaN</td>\n",
       "      <td>NaN</td>\n",
       "      <td>NaN</td>\n",
       "      <td>NaN</td>\n",
       "      <td>NaN</td>\n",
       "      <td>NaN</td>\n",
       "      <td>NaN</td>\n",
       "      <td>NaN</td>\n",
       "    </tr>\n",
       "  </tbody>\n",
       "</table>\n",
       "<p>5 rows × 35 columns</p>\n",
       "</div>"
      ],
      "text/plain": [
       "       date  total_cases  new_cases  new_cases_smoothed  total_deaths  \\\n",
       "0  3/5/2020          184         77              23.857            12   \n",
       "1  3/6/2020          237         53              31.429            14   \n",
       "2  3/7/2020          403        166              54.000            17   \n",
       "3  3/8/2020          519        116              69.571            21   \n",
       "4  3/9/2020          594         75              77.000            22   \n",
       "\n",
       "   new_deaths  new_deaths_smoothed  total_cases_per_million  \\\n",
       "0           1                1.714                    0.556   \n",
       "1           2                2.000                    0.716   \n",
       "2           3                2.286                    1.218   \n",
       "3           4                2.857                    1.568   \n",
       "4           1                2.286                    1.795   \n",
       "\n",
       "   new_cases_per_million  new_cases_smoothed_per_million  ...  tests_per_case  \\\n",
       "0                  0.233                           0.072  ...             NaN   \n",
       "1                  0.160                           0.095  ...             NaN   \n",
       "2                  0.502                           0.163  ...             6.1   \n",
       "3                  0.350                           0.210  ...             6.0   \n",
       "4                  0.227                           0.233  ...             5.3   \n",
       "\n",
       "   total_vaccinations  people_vaccinated  people_fully_vaccinated  \\\n",
       "0                 NaN                NaN                      NaN   \n",
       "1                 NaN                NaN                      NaN   \n",
       "2                 NaN                NaN                      NaN   \n",
       "3                 NaN                NaN                      NaN   \n",
       "4                 NaN                NaN                      NaN   \n",
       "\n",
       "   new_vaccinations  new_vaccinations_smoothed  \\\n",
       "0               NaN                        NaN   \n",
       "1               NaN                        NaN   \n",
       "2               NaN                        NaN   \n",
       "3               NaN                        NaN   \n",
       "4               NaN                        NaN   \n",
       "\n",
       "   total_vaccinations_per_hundred  people_vaccinated_per_hundred  \\\n",
       "0                             NaN                            NaN   \n",
       "1                             NaN                            NaN   \n",
       "2                             NaN                            NaN   \n",
       "3                             NaN                            NaN   \n",
       "4                             NaN                            NaN   \n",
       "\n",
       "   people_fully_vaccinated_per_hundred  new_vaccinations_smoothed_per_million  \n",
       "0                                  NaN                                    NaN  \n",
       "1                                  NaN                                    NaN  \n",
       "2                                  NaN                                    NaN  \n",
       "3                                  NaN                                    NaN  \n",
       "4                                  NaN                                    NaN  \n",
       "\n",
       "[5 rows x 35 columns]"
      ]
     },
     "execution_count": 3,
     "metadata": {},
     "output_type": "execute_result"
    }
   ],
   "source": [
    "covid_national = covid_national.drop([\"iso_code\", \"continent\", \"location\", \"weekly_icu_admissions\", \"weekly_icu_admissions_per_million\", \"weekly_hosp_admissions\", \"weekly_hosp_admissions_per_million\", \"tests_units\", \"excess_mortality\", \"handwashing_facilities\", \"population_density\", \"aged_65_older\", \"gdp_per_capita\", \"cardiovasc_death_rate\", \"diabetes_prevalence\", \"female_smokers\", \"male_smokers\", \"hospital_beds_per_thousand\", \"life_expectancy\", \"human_development_index\", \"stringency_index\", \"population\", \"median_age\", \"aged_70_older\", \"extreme_poverty\"], axis = 1)\n",
    "covid_national.head()"
   ]
  },
  {
   "cell_type": "code",
   "execution_count": 4,
   "metadata": {},
   "outputs": [
    {
     "data": {
      "text/plain": [
       "(486, 35)"
      ]
     },
     "execution_count": 4,
     "metadata": {},
     "output_type": "execute_result"
    }
   ],
   "source": [
    "covid_national.shape"
   ]
  },
  {
   "cell_type": "markdown",
   "metadata": {},
   "source": [
    "# Data Visualization"
   ]
  },
  {
   "cell_type": "code",
   "execution_count": 5,
   "metadata": {},
   "outputs": [
    {
     "data": {
      "text/plain": [
       "[<matplotlib.lines.Line2D at 0x7ff61a593ee0>]"
      ]
     },
     "execution_count": 5,
     "metadata": {},
     "output_type": "execute_result"
    },
    {
     "data": {
      "image/png": "[encoded data removed]",
      "text/plain": [
       "<Figure size 432x288 with 1 Axes>"
      ]
     },
     "metadata": {
      "needs_background": "light"
     },
     "output_type": "display_data"
    }
   ],
   "source": [
    "plt.xlabel('Days Since March 3rd, 2020')\n",
    "plt.ylabel('Total Cases')\n",
    "plt.rcParams[\"figure.figsize\"] = [10,5]\n",
    "plt.title('Covid Cases in America over Time')\n",
    "x_vals = np.linspace(0, 486, 486)\n",
    "plt.plot(x_vals, covid_national[\"total_cases\"], 'b')"
   ]
  },
  {
   "cell_type": "code",
   "execution_count": 6,
   "metadata": {},
   "outputs": [
    {
     "data": {
      "text/plain": [
       "[<matplotlib.lines.Line2D at 0x7ff61a6e78e0>]"
      ]
     },
     "execution_count": 6,
     "metadata": {},
     "output_type": "execute_result"
    },
    {
     "data": {
      "image/png": "[encoded data removed]",
      "text/plain": [
       "<Figure size 720x360 with 1 Axes>"
      ]
     },
     "metadata": {
      "needs_background": "light"
     },
     "output_type": "display_data"
    }
   ],
   "source": [
    "plt.xlabel('Days Since March 3rd, 2020')\n",
    "plt.ylabel('Cases Per Day')\n",
    "plt.rcParams[\"figure.figsize\"] = [10,5]\n",
    "plt.title('Rate of Infection in America over Time')\n",
    "x_vals = np.linspace(0, 486, 486)\n",
    "plt.plot(x_vals, covid_national[\"new_cases\"], 'b')"
   ]
  },
  {
   "cell_type": "code",
   "execution_count": 7,
   "metadata": {},
   "outputs": [
    {
     "data": {
      "text/plain": [
       "[<matplotlib.lines.Line2D at 0x7ff61a73b9a0>]"
      ]
     },
     "execution_count": 7,
     "metadata": {},
     "output_type": "execute_result"
    },
    {
     "data": {
      "image/png": "[encoded data removed]",
      "text/plain": [
       "<Figure size 720x360 with 1 Axes>"
      ]
     },
     "metadata": {
      "needs_background": "light"
     },
     "output_type": "display_data"
    }
   ],
   "source": [
    "plt.xlabel('Days Since March 3rd, 2020')\n",
    "plt.ylabel('Total Deaths')\n",
    "plt.rcParams[\"figure.figsize\"] = [10,5]\n",
    "plt.title('Covid Deaths in America Over Time')\n",
    "x_vals = np.linspace(0, 486, 486)\n",
    "plt.plot(x_vals, covid_national[\"total_deaths\"], 'b')"
   ]
  },
  {
   "cell_type": "code",
   "execution_count": 8,
   "metadata": {},
   "outputs": [
    {
     "data": {
      "text/plain": [
       "[<matplotlib.lines.Line2D at 0x7ff61a798790>]"
      ]
     },
     "execution_count": 8,
     "metadata": {},
     "output_type": "execute_result"
    },
    {
     "data": {
      "image/png": "[encoded data removed]",
      "text/plain": [
       "<Figure size 720x360 with 1 Axes>"
      ]
     },
     "metadata": {
      "needs_background": "light"
     },
     "output_type": "display_data"
    }
   ],
   "source": [
    "plt.xlabel('Days Since March 3rd, 2020')\n",
    "plt.ylabel('Deaths Per Day')\n",
    "plt.rcParams[\"figure.figsize\"] = [10,5]\n",
    "plt.title('Covid Death Rate in America Over Time')\n",
    "x_vals = np.linspace(0, 486, 486)\n",
    "plt.plot(x_vals, covid_national[\"new_deaths\"], 'b')"
   ]
  },
  {
   "cell_type": "code",
   "execution_count": 9,
   "metadata": {},
   "outputs": [
    {
     "data": {
      "text/plain": [
       "[<matplotlib.lines.Line2D at 0x7ff61a864c70>]"
      ]
     },
     "execution_count": 9,
     "metadata": {},
     "output_type": "execute_result"
    },
    {
     "data": {
      "image/png": "[encoded data removed]",
      "text/plain": [
       "<Figure size 720x360 with 1 Axes>"
      ]
     },
     "metadata": {
      "needs_background": "light"
     },
     "output_type": "display_data"
    }
   ],
   "source": [
    "plt.xlabel('Days Since March 3rd, 2020')\n",
    "plt.ylabel('Total Vaccinations (In Ten Millions)')\n",
    "plt.rcParams[\"figure.figsize\"] = [10,5]\n",
    "plt.title('Covid Vaccinations in America Over Time')\n",
    "x_vals = np.linspace(0, 486, 486)\n",
    "plt.plot(x_vals, covid_national[\"people_fully_vaccinated\"], 'b')"
   ]
  },
  {
   "cell_type": "code",
   "execution_count": 10,
   "metadata": {},
   "outputs": [
    {
     "data": {
      "text/plain": [
       "<AxesSubplot:>"
      ]
     },
     "execution_count": 10,
     "metadata": {},
     "output_type": "execute_result"
    },
    {
     "data": {
      "image/png": "[encoded data removed]",
      "text/plain": [
       "<Figure size 720x360 with 2 Axes>"
      ]
     },
     "metadata": {
      "needs_background": "light"
     },
     "output_type": "display_data"
    }
   ],
   "source": [
    "sns.heatmap(covid_national.corr())"
   ]
  },
  {
   "cell_type": "markdown",
   "metadata": {},
   "source": [
    "# Visualizing Correlation Between Vaccinations and Infection/Death Rates"
   ]
  },
  {
   "cell_type": "code",
   "execution_count": 11,
   "metadata": {},
   "outputs": [
    {
     "data": {
      "image/png": "[encoded data removed]",
      "text/plain": [
       "<Figure size 720x360 with 1 Axes>"
      ]
     },
     "metadata": {
      "needs_background": "light"
     },
     "output_type": "display_data"
    }
   ],
   "source": [
    "plt.ylabel('Cases')\n",
    "plt.xlabel('Total Vaccinated')\n",
    "plt.title('Cases vs People Vaccinated in America')\n",
    "covid_national = covid_national.dropna()\n",
    "plt.scatter(covid_national[\"people_fully_vaccinated\"], covid_national[\"new_cases\"], c = \"b\")\n",
    "y = np.array(covid_national[\"new_cases\"])\n",
    "x = np.array(covid_national[\"people_fully_vaccinated\"])\n",
    "res = stats.linregress(x,y)\n",
    "plt.plot(x, res.intercept + res.slope*x, 'r')\n",
    "plt.legend([\"Linear Regression\", \"Actual Values\"])\n",
    "plt.show()"
   ]
  },
  {
   "cell_type": "code",
   "execution_count": 12,
   "metadata": {},
   "outputs": [
    {
     "name": "stdout",
     "output_type": "stream",
     "text": [
      "R-squared: 0.638530\n",
      "R-value: -0.799081\n"
     ]
    }
   ],
   "source": [
    "print(f\"R-squared: {res.rvalue**2:.6f}\")\n",
    "print(f\"R-value: {res.rvalue:.6f}\")"
   ]
  },
  {
   "cell_type": "code",
   "execution_count": 13,
   "metadata": {},
   "outputs": [
    {
     "name": "stdout",
     "output_type": "stream",
     "text": [
      "-0.7990808576491994\n"
     ]
    }
   ],
   "source": [
    "print(covid_national[\"people_fully_vaccinated\"].corr(covid_national[\"new_cases\"]))"
   ]
  },
  {
   "cell_type": "code",
   "execution_count": 14,
   "metadata": {},
   "outputs": [
    {
     "data": {
      "text/plain": [
       "<matplotlib.legend.Legend at 0x7ff61adb7340>"
      ]
     },
     "execution_count": 14,
     "metadata": {},
     "output_type": "execute_result"
    },
    {
     "data": {
      "image/png": "[encoded data removed]",
      "text/plain": [
       "<Figure size 720x360 with 1 Axes>"
      ]
     },
     "metadata": {
      "needs_background": "light"
     },
     "output_type": "display_data"
    }
   ],
   "source": [
    "plt.ylabel('Deaths')\n",
    "plt.xlabel('Total Vaccinated')\n",
    "plt.rcParams[\"figure.figsize\"] = [10,5]\n",
    "plt.title('Deaths vs People Vaccinated in America')\n",
    "covid_national = covid_national.dropna()\n",
    "plt.scatter(covid_national[\"people_fully_vaccinated\"], covid_national[\"new_deaths\"], c = \"b\")\n",
    "y = np.array(covid_national[\"new_deaths\"])\n",
    "x = np.array(covid_national[\"people_fully_vaccinated\"])\n",
    "res = stats.linregress(x,y)\n",
    "plt.plot(x, res.intercept + res.slope*x, 'r')\n",
    "plt.legend([\"Linear Regression\", \"Actual Values\"])"
   ]
  },
  {
   "cell_type": "code",
   "execution_count": 15,
   "metadata": {},
   "outputs": [
    {
     "name": "stdout",
     "output_type": "stream",
     "text": [
      "R-squared: 0.613742\n",
      "R-value: -0.783417\n"
     ]
    }
   ],
   "source": [
    "print(f\"R-squared: {res.rvalue**2:.6f}\")\n",
    "print(f\"R-value: {res.rvalue:.6f}\")"
   ]
  },
  {
   "cell_type": "code",
   "execution_count": 16,
   "metadata": {},
   "outputs": [
    {
     "name": "stdout",
     "output_type": "stream",
     "text": [
      "-0.7834169484770184\n"
     ]
    }
   ],
   "source": [
    "print(covid_national[\"people_fully_vaccinated\"].corr(covid_national[\"new_deaths\"]))"
   ]
  },
  {
   "cell_type": "markdown",
   "metadata": {},
   "source": [
    "# Training a Regression Model to Predict Future Deaths"
   ]
  },
  {
   "cell_type": "code",
   "execution_count": 17,
   "metadata": {},
   "outputs": [],
   "source": [
    "covid_national_temp = covid_national.dropna()\n",
    "X = covid_national_temp.filter(['people_fully_vaccinated', 'positive_rate', 'new_cases'])\n",
    "y = covid_national_temp['new_deaths']"
   ]
  },
  {
   "cell_type": "code",
   "execution_count": 18,
   "metadata": {},
   "outputs": [
    {
     "data": {
      "text/html": [
       "<div>\n",
       "<style scoped>\n",
       "    .dataframe tbody tr th:only-of-type {\n",
       "        vertical-align: middle;\n",
       "    }\n",
       "\n",
       "    .dataframe tbody tr th {\n",
       "        vertical-align: top;\n",
       "    }\n",
       "\n",
       "    .dataframe thead th {\n",
       "        text-align: right;\n",
       "    }\n",
       "</style>\n",
       "<table border=\"1\" class=\"dataframe\">\n",
       "  <thead>\n",
       "    <tr style=\"text-align: right;\">\n",
       "      <th></th>\n",
       "      <th>people_fully_vaccinated</th>\n",
       "      <th>positive_rate</th>\n",
       "      <th>new_cases</th>\n",
       "    </tr>\n",
       "  </thead>\n",
       "  <tbody>\n",
       "    <tr>\n",
       "      <th>315</th>\n",
       "      <td>1342086.0</td>\n",
       "      <td>0.126</td>\n",
       "      <td>235766</td>\n",
       "    </tr>\n",
       "    <tr>\n",
       "      <th>316</th>\n",
       "      <td>1610524.0</td>\n",
       "      <td>0.121</td>\n",
       "      <td>242780</td>\n",
       "    </tr>\n",
       "    <tr>\n",
       "      <th>321</th>\n",
       "      <td>2161419.0</td>\n",
       "      <td>0.109</td>\n",
       "      <td>183261</td>\n",
       "    </tr>\n",
       "    <tr>\n",
       "      <th>322</th>\n",
       "      <td>2394961.0</td>\n",
       "      <td>0.107</td>\n",
       "      <td>193856</td>\n",
       "    </tr>\n",
       "    <tr>\n",
       "      <th>323</th>\n",
       "      <td>2756953.0</td>\n",
       "      <td>0.104</td>\n",
       "      <td>190760</td>\n",
       "    </tr>\n",
       "  </tbody>\n",
       "</table>\n",
       "</div>"
      ],
      "text/plain": [
       "     people_fully_vaccinated  positive_rate  new_cases\n",
       "315                1342086.0          0.126     235766\n",
       "316                1610524.0          0.121     242780\n",
       "321                2161419.0          0.109     183261\n",
       "322                2394961.0          0.107     193856\n",
       "323                2756953.0          0.104     190760"
      ]
     },
     "execution_count": 18,
     "metadata": {},
     "output_type": "execute_result"
    }
   ],
   "source": [
    "X.head()"
   ]
  },
  {
   "cell_type": "code",
   "execution_count": 19,
   "metadata": {},
   "outputs": [
    {
     "data": {
      "text/plain": [
       "315    3970\n",
       "316    3908\n",
       "321    4416\n",
       "322    4185\n",
       "323    3823\n",
       "Name: new_deaths, dtype: int64"
      ]
     },
     "execution_count": 19,
     "metadata": {},
     "output_type": "execute_result"
    }
   ],
   "source": [
    "y.head()"
   ]
  },
  {
   "cell_type": "code",
   "execution_count": 20,
   "metadata": {},
   "outputs": [],
   "source": [
    "X_train, X_test, y_train, y_test = train_test_split(X, y, test_size = 0.20, random_state = 0)"
   ]
  },
  {
   "cell_type": "code",
   "execution_count": 21,
   "metadata": {},
   "outputs": [
    {
     "name": "stdout",
     "output_type": "stream",
     "text": [
      "Mean Absolute Error: 237.23636363636362\n",
      "Mean Squared Error: 139826.37333333332\n",
      "Root Mean Squared Error: 373.9336483031894\n"
     ]
    }
   ],
   "source": [
    "knn_reg = KNeighborsRegressor(n_neighbors=5)\n",
    "regressor = knn_reg.fit(X_train, y_train)\n",
    "\n",
    "y_pred = regressor.predict(X_test)\n",
    "\n",
    "print('Mean Absolute Error:', metrics.mean_absolute_error(y_test, y_pred))\n",
    "print('Mean Squared Error:', metrics.mean_squared_error(y_test, y_pred))\n",
    "print('Root Mean Squared Error:', np.sqrt(metrics.mean_squared_error(y_test, y_pred)))"
   ]
  },
  {
   "cell_type": "markdown",
   "metadata": {},
   "source": [
    "# Improving the Model"
   ]
  },
  {
   "cell_type": "code",
   "execution_count": 22,
   "metadata": {},
   "outputs": [
    {
     "data": {
      "text/html": [
       "<div>\n",
       "<style scoped>\n",
       "    .dataframe tbody tr th:only-of-type {\n",
       "        vertical-align: middle;\n",
       "    }\n",
       "\n",
       "    .dataframe tbody tr th {\n",
       "        vertical-align: top;\n",
       "    }\n",
       "\n",
       "    .dataframe thead th {\n",
       "        text-align: right;\n",
       "    }\n",
       "</style>\n",
       "<table border=\"1\" class=\"dataframe\">\n",
       "  <thead>\n",
       "    <tr style=\"text-align: right;\">\n",
       "      <th></th>\n",
       "      <th>total_cases</th>\n",
       "      <th>new_cases</th>\n",
       "      <th>new_cases_smoothed</th>\n",
       "      <th>total_deaths</th>\n",
       "      <th>new_deaths</th>\n",
       "      <th>new_deaths_smoothed</th>\n",
       "      <th>total_cases_per_million</th>\n",
       "      <th>new_cases_per_million</th>\n",
       "      <th>new_cases_smoothed_per_million</th>\n",
       "      <th>total_deaths_per_million</th>\n",
       "      <th>...</th>\n",
       "      <th>tests_per_case</th>\n",
       "      <th>total_vaccinations</th>\n",
       "      <th>people_vaccinated</th>\n",
       "      <th>people_fully_vaccinated</th>\n",
       "      <th>new_vaccinations</th>\n",
       "      <th>new_vaccinations_smoothed</th>\n",
       "      <th>total_vaccinations_per_hundred</th>\n",
       "      <th>people_vaccinated_per_hundred</th>\n",
       "      <th>people_fully_vaccinated_per_hundred</th>\n",
       "      <th>new_vaccinations_smoothed_per_million</th>\n",
       "    </tr>\n",
       "  </thead>\n",
       "  <tbody>\n",
       "    <tr>\n",
       "      <th>count</th>\n",
       "      <td>1.630000e+02</td>\n",
       "      <td>163.000000</td>\n",
       "      <td>163.000000</td>\n",
       "      <td>163.000000</td>\n",
       "      <td>163.000000</td>\n",
       "      <td>163.000000</td>\n",
       "      <td>163.000000</td>\n",
       "      <td>163.000000</td>\n",
       "      <td>163.00000</td>\n",
       "      <td>163.000000</td>\n",
       "      <td>...</td>\n",
       "      <td>163.000000</td>\n",
       "      <td>1.630000e+02</td>\n",
       "      <td>1.630000e+02</td>\n",
       "      <td>1.630000e+02</td>\n",
       "      <td>1.630000e+02</td>\n",
       "      <td>1.630000e+02</td>\n",
       "      <td>163.000000</td>\n",
       "      <td>163.000000</td>\n",
       "      <td>163.000000</td>\n",
       "      <td>163.000000</td>\n",
       "    </tr>\n",
       "    <tr>\n",
       "      <th>mean</th>\n",
       "      <td>3.062357e+07</td>\n",
       "      <td>59576.085890</td>\n",
       "      <td>62256.352301</td>\n",
       "      <td>546312.319018</td>\n",
       "      <td>1229.625767</td>\n",
       "      <td>1251.186656</td>\n",
       "      <td>92517.585914</td>\n",
       "      <td>179.986718</td>\n",
       "      <td>188.08411</td>\n",
       "      <td>1650.477172</td>\n",
       "      <td>...</td>\n",
       "      <td>26.931288</td>\n",
       "      <td>1.795991e+08</td>\n",
       "      <td>1.078190e+08</td>\n",
       "      <td>7.567289e+07</td>\n",
       "      <td>1.916885e+06</td>\n",
       "      <td>1.897226e+06</td>\n",
       "      <td>53.700982</td>\n",
       "      <td>32.238528</td>\n",
       "      <td>22.626442</td>\n",
       "      <td>5672.809816</td>\n",
       "    </tr>\n",
       "    <tr>\n",
       "      <th>std</th>\n",
       "      <td>2.687818e+06</td>\n",
       "      <td>45439.904457</td>\n",
       "      <td>46548.732697</td>\n",
       "      <td>53618.456036</td>\n",
       "      <td>1086.685884</td>\n",
       "      <td>960.304540</td>\n",
       "      <td>8120.230496</td>\n",
       "      <td>137.279551</td>\n",
       "      <td>140.62951</td>\n",
       "      <td>161.988046</td>\n",
       "      <td>...</td>\n",
       "      <td>13.295727</td>\n",
       "      <td>1.054287e+08</td>\n",
       "      <td>5.673543e+07</td>\n",
       "      <td>5.268550e+07</td>\n",
       "      <td>8.980587e+05</td>\n",
       "      <td>7.393331e+05</td>\n",
       "      <td>31.523815</td>\n",
       "      <td>16.963720</td>\n",
       "      <td>15.753337</td>\n",
       "      <td>2210.629070</td>\n",
       "    </tr>\n",
       "    <tr>\n",
       "      <th>min</th>\n",
       "      <td>2.339383e+07</td>\n",
       "      <td>3892.000000</td>\n",
       "      <td>11299.286000</td>\n",
       "      <td>395937.000000</td>\n",
       "      <td>74.000000</td>\n",
       "      <td>233.714000</td>\n",
       "      <td>70675.667000</td>\n",
       "      <td>11.758000</td>\n",
       "      <td>34.13700</td>\n",
       "      <td>1196.175000</td>\n",
       "      <td>...</td>\n",
       "      <td>7.900000</td>\n",
       "      <td>1.114899e+07</td>\n",
       "      <td>9.690757e+06</td>\n",
       "      <td>1.342086e+06</td>\n",
       "      <td>5.086520e+05</td>\n",
       "      <td>7.150440e+05</td>\n",
       "      <td>3.330000</td>\n",
       "      <td>2.900000</td>\n",
       "      <td>0.400000</td>\n",
       "      <td>2138.000000</td>\n",
       "    </tr>\n",
       "    <tr>\n",
       "      <th>25%</th>\n",
       "      <td>2.873808e+07</td>\n",
       "      <td>26631.500000</td>\n",
       "      <td>26437.928500</td>\n",
       "      <td>517458.500000</td>\n",
       "      <td>489.000000</td>\n",
       "      <td>578.071000</td>\n",
       "      <td>86821.315000</td>\n",
       "      <td>80.457000</td>\n",
       "      <td>79.87200</td>\n",
       "      <td>1563.306000</td>\n",
       "      <td>...</td>\n",
       "      <td>18.900000</td>\n",
       "      <td>7.776579e+07</td>\n",
       "      <td>5.124422e+07</td>\n",
       "      <td>2.581426e+07</td>\n",
       "      <td>1.205452e+06</td>\n",
       "      <td>1.265090e+06</td>\n",
       "      <td>23.250000</td>\n",
       "      <td>15.325000</td>\n",
       "      <td>7.715000</td>\n",
       "      <td>3782.500000</td>\n",
       "    </tr>\n",
       "    <tr>\n",
       "      <th>50%</th>\n",
       "      <td>3.120142e+07</td>\n",
       "      <td>55519.000000</td>\n",
       "      <td>57573.143000</td>\n",
       "      <td>562446.000000</td>\n",
       "      <td>795.000000</td>\n",
       "      <td>820.571000</td>\n",
       "      <td>94263.340000</td>\n",
       "      <td>167.730000</td>\n",
       "      <td>173.93600</td>\n",
       "      <td>1699.219000</td>\n",
       "      <td>...</td>\n",
       "      <td>22.700000</td>\n",
       "      <td>1.870471e+08</td>\n",
       "      <td>1.192429e+08</td>\n",
       "      <td>7.263089e+07</td>\n",
       "      <td>1.738102e+06</td>\n",
       "      <td>1.817502e+06</td>\n",
       "      <td>55.930000</td>\n",
       "      <td>35.650000</td>\n",
       "      <td>21.720000</td>\n",
       "      <td>5434.000000</td>\n",
       "    </tr>\n",
       "    <tr>\n",
       "      <th>75%</th>\n",
       "      <td>3.309848e+07</td>\n",
       "      <td>74528.500000</td>\n",
       "      <td>68380.857000</td>\n",
       "      <td>589363.000000</td>\n",
       "      <td>1595.000000</td>\n",
       "      <td>1898.786000</td>\n",
       "      <td>99994.602000</td>\n",
       "      <td>225.160000</td>\n",
       "      <td>206.58700</td>\n",
       "      <td>1780.538500</td>\n",
       "      <td>...</td>\n",
       "      <td>35.700000</td>\n",
       "      <td>2.827683e+08</td>\n",
       "      <td>1.618746e+08</td>\n",
       "      <td>1.283924e+08</td>\n",
       "      <td>2.432534e+06</td>\n",
       "      <td>2.493957e+06</td>\n",
       "      <td>84.550000</td>\n",
       "      <td>48.400000</td>\n",
       "      <td>38.390000</td>\n",
       "      <td>7457.000000</td>\n",
       "    </tr>\n",
       "    <tr>\n",
       "      <th>max</th>\n",
       "      <td>3.371406e+07</td>\n",
       "      <td>242780.000000</td>\n",
       "      <td>239619.571000</td>\n",
       "      <td>605493.000000</td>\n",
       "      <td>4416.000000</td>\n",
       "      <td>3420.571000</td>\n",
       "      <td>101854.364000</td>\n",
       "      <td>733.468000</td>\n",
       "      <td>723.92000</td>\n",
       "      <td>1829.269000</td>\n",
       "      <td>...</td>\n",
       "      <td>55.600000</td>\n",
       "      <td>3.299706e+08</td>\n",
       "      <td>1.821099e+08</td>\n",
       "      <td>1.569825e+08</td>\n",
       "      <td>4.629928e+06</td>\n",
       "      <td>3.384387e+06</td>\n",
       "      <td>98.660000</td>\n",
       "      <td>54.450000</td>\n",
       "      <td>46.940000</td>\n",
       "      <td>10120.000000</td>\n",
       "    </tr>\n",
       "  </tbody>\n",
       "</table>\n",
       "<p>8 rows × 34 columns</p>\n",
       "</div>"
      ],
      "text/plain": [
       "        total_cases      new_cases  new_cases_smoothed   total_deaths  \\\n",
       "count  1.630000e+02     163.000000          163.000000     163.000000   \n",
       "mean   3.062357e+07   59576.085890        62256.352301  546312.319018   \n",
       "std    2.687818e+06   45439.904457        46548.732697   53618.456036   \n",
       "min    2.339383e+07    3892.000000        11299.286000  395937.000000   \n",
       "25%    2.873808e+07   26631.500000        26437.928500  517458.500000   \n",
       "50%    3.120142e+07   55519.000000        57573.143000  562446.000000   \n",
       "75%    3.309848e+07   74528.500000        68380.857000  589363.000000   \n",
       "max    3.371406e+07  242780.000000       239619.571000  605493.000000   \n",
       "\n",
       "        new_deaths  new_deaths_smoothed  total_cases_per_million  \\\n",
       "count   163.000000           163.000000               163.000000   \n",
       "mean   1229.625767          1251.186656             92517.585914   \n",
       "std    1086.685884           960.304540              8120.230496   \n",
       "min      74.000000           233.714000             70675.667000   \n",
       "25%     489.000000           578.071000             86821.315000   \n",
       "50%     795.000000           820.571000             94263.340000   \n",
       "75%    1595.000000          1898.786000             99994.602000   \n",
       "max    4416.000000          3420.571000            101854.364000   \n",
       "\n",
       "       new_cases_per_million  new_cases_smoothed_per_million  \\\n",
       "count             163.000000                       163.00000   \n",
       "mean              179.986718                       188.08411   \n",
       "std               137.279551                       140.62951   \n",
       "min                11.758000                        34.13700   \n",
       "25%                80.457000                        79.87200   \n",
       "50%               167.730000                       173.93600   \n",
       "75%               225.160000                       206.58700   \n",
       "max               733.468000                       723.92000   \n",
       "\n",
       "       total_deaths_per_million  ...  tests_per_case  total_vaccinations  \\\n",
       "count                163.000000  ...      163.000000        1.630000e+02   \n",
       "mean                1650.477172  ...       26.931288        1.795991e+08   \n",
       "std                  161.988046  ...       13.295727        1.054287e+08   \n",
       "min                 1196.175000  ...        7.900000        1.114899e+07   \n",
       "25%                 1563.306000  ...       18.900000        7.776579e+07   \n",
       "50%                 1699.219000  ...       22.700000        1.870471e+08   \n",
       "75%                 1780.538500  ...       35.700000        2.827683e+08   \n",
       "max                 1829.269000  ...       55.600000        3.299706e+08   \n",
       "\n",
       "       people_vaccinated  people_fully_vaccinated  new_vaccinations  \\\n",
       "count       1.630000e+02             1.630000e+02      1.630000e+02   \n",
       "mean        1.078190e+08             7.567289e+07      1.916885e+06   \n",
       "std         5.673543e+07             5.268550e+07      8.980587e+05   \n",
       "min         9.690757e+06             1.342086e+06      5.086520e+05   \n",
       "25%         5.124422e+07             2.581426e+07      1.205452e+06   \n",
       "50%         1.192429e+08             7.263089e+07      1.738102e+06   \n",
       "75%         1.618746e+08             1.283924e+08      2.432534e+06   \n",
       "max         1.821099e+08             1.569825e+08      4.629928e+06   \n",
       "\n",
       "       new_vaccinations_smoothed  total_vaccinations_per_hundred  \\\n",
       "count               1.630000e+02                      163.000000   \n",
       "mean                1.897226e+06                       53.700982   \n",
       "std                 7.393331e+05                       31.523815   \n",
       "min                 7.150440e+05                        3.330000   \n",
       "25%                 1.265090e+06                       23.250000   \n",
       "50%                 1.817502e+06                       55.930000   \n",
       "75%                 2.493957e+06                       84.550000   \n",
       "max                 3.384387e+06                       98.660000   \n",
       "\n",
       "       people_vaccinated_per_hundred  people_fully_vaccinated_per_hundred  \\\n",
       "count                     163.000000                           163.000000   \n",
       "mean                       32.238528                            22.626442   \n",
       "std                        16.963720                            15.753337   \n",
       "min                         2.900000                             0.400000   \n",
       "25%                        15.325000                             7.715000   \n",
       "50%                        35.650000                            21.720000   \n",
       "75%                        48.400000                            38.390000   \n",
       "max                        54.450000                            46.940000   \n",
       "\n",
       "       new_vaccinations_smoothed_per_million  \n",
       "count                             163.000000  \n",
       "mean                             5672.809816  \n",
       "std                              2210.629070  \n",
       "min                              2138.000000  \n",
       "25%                              3782.500000  \n",
       "50%                              5434.000000  \n",
       "75%                              7457.000000  \n",
       "max                             10120.000000  \n",
       "\n",
       "[8 rows x 34 columns]"
      ]
     },
     "execution_count": 22,
     "metadata": {},
     "output_type": "execute_result"
    }
   ],
   "source": [
    "covid_national_temp.describe()"
   ]
  },
  {
   "cell_type": "code",
   "execution_count": 23,
   "metadata": {},
   "outputs": [
    {
     "data": {
      "text/plain": [
       "(291.4, 1934.6)"
      ]
     },
     "execution_count": 23,
     "metadata": {},
     "output_type": "execute_result"
    }
   ],
   "source": [
    "min_threshold, max_threshold = covid_national_temp.new_deaths.quantile([0.1, 0.8])\n",
    "min_threshold, max_threshold"
   ]
  },
  {
   "cell_type": "code",
   "execution_count": 24,
   "metadata": {},
   "outputs": [],
   "source": [
    "covid_national_normal = covid_national_temp[covid_national_temp.new_deaths < max_threshold]"
   ]
  },
  {
   "cell_type": "code",
   "execution_count": 25,
   "metadata": {},
   "outputs": [
    {
     "data": {
      "text/html": [
       "<div>\n",
       "<style scoped>\n",
       "    .dataframe tbody tr th:only-of-type {\n",
       "        vertical-align: middle;\n",
       "    }\n",
       "\n",
       "    .dataframe tbody tr th {\n",
       "        vertical-align: top;\n",
       "    }\n",
       "\n",
       "    .dataframe thead th {\n",
       "        text-align: right;\n",
       "    }\n",
       "</style>\n",
       "<table border=\"1\" class=\"dataframe\">\n",
       "  <thead>\n",
       "    <tr style=\"text-align: right;\">\n",
       "      <th></th>\n",
       "      <th>date</th>\n",
       "      <th>total_cases</th>\n",
       "      <th>new_cases</th>\n",
       "      <th>new_cases_smoothed</th>\n",
       "      <th>total_deaths</th>\n",
       "      <th>new_deaths</th>\n",
       "      <th>new_deaths_smoothed</th>\n",
       "      <th>total_cases_per_million</th>\n",
       "      <th>new_cases_per_million</th>\n",
       "      <th>new_cases_smoothed_per_million</th>\n",
       "      <th>...</th>\n",
       "      <th>tests_per_case</th>\n",
       "      <th>total_vaccinations</th>\n",
       "      <th>people_vaccinated</th>\n",
       "      <th>people_fully_vaccinated</th>\n",
       "      <th>new_vaccinations</th>\n",
       "      <th>new_vaccinations_smoothed</th>\n",
       "      <th>total_vaccinations_per_hundred</th>\n",
       "      <th>people_vaccinated_per_hundred</th>\n",
       "      <th>people_fully_vaccinated_per_hundred</th>\n",
       "      <th>new_vaccinations_smoothed_per_million</th>\n",
       "    </tr>\n",
       "  </thead>\n",
       "  <tbody>\n",
       "    <tr>\n",
       "      <th>325</th>\n",
       "      <td>1/24/2021</td>\n",
       "      <td>25206050</td>\n",
       "      <td>131198</td>\n",
       "      <td>169949.714</td>\n",
       "      <td>427082</td>\n",
       "      <td>1862</td>\n",
       "      <td>3131.714</td>\n",
       "      <td>76150.599</td>\n",
       "      <td>396.365</td>\n",
       "      <td>513.439</td>\n",
       "      <td>...</td>\n",
       "      <td>10.1</td>\n",
       "      <td>21848655.0</td>\n",
       "      <td>18502131.0</td>\n",
       "      <td>3216836.0</td>\n",
       "      <td>1310665.0</td>\n",
       "      <td>1122182.0</td>\n",
       "      <td>6.53</td>\n",
       "      <td>5.53</td>\n",
       "      <td>0.96</td>\n",
       "      <td>3355.0</td>\n",
       "    </tr>\n",
       "    <tr>\n",
       "      <th>332</th>\n",
       "      <td>1/31/2021</td>\n",
       "      <td>26249342</td>\n",
       "      <td>112152</td>\n",
       "      <td>149041.714</td>\n",
       "      <td>449340</td>\n",
       "      <td>1862</td>\n",
       "      <td>3179.714</td>\n",
       "      <td>79302.514</td>\n",
       "      <td>338.825</td>\n",
       "      <td>450.273</td>\n",
       "      <td>...</td>\n",
       "      <td>11.4</td>\n",
       "      <td>31123299.0</td>\n",
       "      <td>25201143.0</td>\n",
       "      <td>5657142.0</td>\n",
       "      <td>1545397.0</td>\n",
       "      <td>1324949.0</td>\n",
       "      <td>9.31</td>\n",
       "      <td>7.54</td>\n",
       "      <td>1.69</td>\n",
       "      <td>3962.0</td>\n",
       "    </tr>\n",
       "    <tr>\n",
       "      <th>339</th>\n",
       "      <td>2/7/2021</td>\n",
       "      <td>27073661</td>\n",
       "      <td>89746</td>\n",
       "      <td>117759.857</td>\n",
       "      <td>470257</td>\n",
       "      <td>1436</td>\n",
       "      <td>2988.143</td>\n",
       "      <td>81792.884</td>\n",
       "      <td>271.134</td>\n",
       "      <td>355.767</td>\n",
       "      <td>...</td>\n",
       "      <td>13.3</td>\n",
       "      <td>41210937.0</td>\n",
       "      <td>31579100.0</td>\n",
       "      <td>9147185.0</td>\n",
       "      <td>2172973.0</td>\n",
       "      <td>1441091.0</td>\n",
       "      <td>12.32</td>\n",
       "      <td>9.44</td>\n",
       "      <td>2.74</td>\n",
       "      <td>4309.0</td>\n",
       "    </tr>\n",
       "    <tr>\n",
       "      <th>340</th>\n",
       "      <td>2/8/2021</td>\n",
       "      <td>27164099</td>\n",
       "      <td>90438</td>\n",
       "      <td>111397.429</td>\n",
       "      <td>471877</td>\n",
       "      <td>1620</td>\n",
       "      <td>2922.429</td>\n",
       "      <td>82066.108</td>\n",
       "      <td>273.224</td>\n",
       "      <td>336.545</td>\n",
       "      <td>...</td>\n",
       "      <td>14.1</td>\n",
       "      <td>42417617.0</td>\n",
       "      <td>32340146.0</td>\n",
       "      <td>9518015.0</td>\n",
       "      <td>1206680.0</td>\n",
       "      <td>1456459.0</td>\n",
       "      <td>12.68</td>\n",
       "      <td>9.67</td>\n",
       "      <td>2.85</td>\n",
       "      <td>4355.0</td>\n",
       "    </tr>\n",
       "    <tr>\n",
       "      <th>346</th>\n",
       "      <td>2/14/2021</td>\n",
       "      <td>27712402</td>\n",
       "      <td>65135</td>\n",
       "      <td>91248.714</td>\n",
       "      <td>487741</td>\n",
       "      <td>1171</td>\n",
       "      <td>2497.714</td>\n",
       "      <td>83722.599</td>\n",
       "      <td>196.781</td>\n",
       "      <td>275.674</td>\n",
       "      <td>...</td>\n",
       "      <td>14.7</td>\n",
       "      <td>52884356.0</td>\n",
       "      <td>38292270.0</td>\n",
       "      <td>14077440.0</td>\n",
       "      <td>2242472.0</td>\n",
       "      <td>1667631.0</td>\n",
       "      <td>15.81</td>\n",
       "      <td>11.45</td>\n",
       "      <td>4.21</td>\n",
       "      <td>4986.0</td>\n",
       "    </tr>\n",
       "  </tbody>\n",
       "</table>\n",
       "<p>5 rows × 35 columns</p>\n",
       "</div>"
      ],
      "text/plain": [
       "          date  total_cases  new_cases  new_cases_smoothed  total_deaths  \\\n",
       "325  1/24/2021     25206050     131198          169949.714        427082   \n",
       "332  1/31/2021     26249342     112152          149041.714        449340   \n",
       "339   2/7/2021     27073661      89746          117759.857        470257   \n",
       "340   2/8/2021     27164099      90438          111397.429        471877   \n",
       "346  2/14/2021     27712402      65135           91248.714        487741   \n",
       "\n",
       "     new_deaths  new_deaths_smoothed  total_cases_per_million  \\\n",
       "325        1862             3131.714                76150.599   \n",
       "332        1862             3179.714                79302.514   \n",
       "339        1436             2988.143                81792.884   \n",
       "340        1620             2922.429                82066.108   \n",
       "346        1171             2497.714                83722.599   \n",
       "\n",
       "     new_cases_per_million  new_cases_smoothed_per_million  ...  \\\n",
       "325                396.365                         513.439  ...   \n",
       "332                338.825                         450.273  ...   \n",
       "339                271.134                         355.767  ...   \n",
       "340                273.224                         336.545  ...   \n",
       "346                196.781                         275.674  ...   \n",
       "\n",
       "     tests_per_case  total_vaccinations  people_vaccinated  \\\n",
       "325            10.1          21848655.0         18502131.0   \n",
       "332            11.4          31123299.0         25201143.0   \n",
       "339            13.3          41210937.0         31579100.0   \n",
       "340            14.1          42417617.0         32340146.0   \n",
       "346            14.7          52884356.0         38292270.0   \n",
       "\n",
       "     people_fully_vaccinated  new_vaccinations  new_vaccinations_smoothed  \\\n",
       "325                3216836.0         1310665.0                  1122182.0   \n",
       "332                5657142.0         1545397.0                  1324949.0   \n",
       "339                9147185.0         2172973.0                  1441091.0   \n",
       "340                9518015.0         1206680.0                  1456459.0   \n",
       "346               14077440.0         2242472.0                  1667631.0   \n",
       "\n",
       "     total_vaccinations_per_hundred  people_vaccinated_per_hundred  \\\n",
       "325                            6.53                           5.53   \n",
       "332                            9.31                           7.54   \n",
       "339                           12.32                           9.44   \n",
       "340                           12.68                           9.67   \n",
       "346                           15.81                          11.45   \n",
       "\n",
       "     people_fully_vaccinated_per_hundred  \\\n",
       "325                                 0.96   \n",
       "332                                 1.69   \n",
       "339                                 2.74   \n",
       "340                                 2.85   \n",
       "346                                 4.21   \n",
       "\n",
       "     new_vaccinations_smoothed_per_million  \n",
       "325                                 3355.0  \n",
       "332                                 3962.0  \n",
       "339                                 4309.0  \n",
       "340                                 4355.0  \n",
       "346                                 4986.0  \n",
       "\n",
       "[5 rows x 35 columns]"
      ]
     },
     "execution_count": 25,
     "metadata": {},
     "output_type": "execute_result"
    }
   ],
   "source": [
    "covid_national_normal.head()"
   ]
  },
  {
   "cell_type": "code",
   "execution_count": 26,
   "metadata": {},
   "outputs": [],
   "source": [
    "X = covid_national_normal.filter(['people_fully_vaccinated', 'positive_rate', 'new_cases'])\n",
    "y = covid_national_normal['new_deaths']\n",
    "\n",
    "X_train, X_test, y_train, y_test = train_test_split(X, y, test_size=0.20, random_state=0)\n",
    "\n",
    "sc = StandardScaler()\n",
    "X_train = sc.fit_transform(X_train)\n",
    "X_test = sc.transform(X_test)"
   ]
  },
  {
   "cell_type": "code",
   "execution_count": 27,
   "metadata": {},
   "outputs": [
    {
     "name": "stdout",
     "output_type": "stream",
     "text": [
      "Mean Absolute Error: 168.70000000000002\n",
      "Mean Squared Error: 46746.052307692305\n",
      "Root Mean Squared Error: 216.208353926698\n"
     ]
    }
   ],
   "source": [
    "knn_reg = KNeighborsRegressor(n_neighbors=10)\n",
    "regressor = knn_reg.fit(X_train, y_train)\n",
    "\n",
    "y_pred = regressor.predict(X_test)\n",
    "\n",
    "print('Mean Absolute Error:', metrics.mean_absolute_error(y_test, y_pred))\n",
    "print('Mean Squared Error:', metrics.mean_squared_error(y_test, y_pred))\n",
    "print('Root Mean Squared Error:', np.sqrt(metrics.mean_squared_error(y_test, y_pred)))"
   ]
  }
 ],
 "metadata": {
  "kernelspec": {
   "display_name": "Python 3",
   "language": "python",
   "name": "python3"
  },
  "language_info": {
   "codemirror_mode": {
    "name": "ipython",
    "version": 3
   },
   "file_extension": ".py",
   "mimetype": "text/x-python",
   "name": "python",
   "nbconvert_exporter": "python",
   "pygments_lexer": "ipython3",
   "version": "3.8.5"
  }
 },
 "nbformat": 4,
 "nbformat_minor": 4
}
