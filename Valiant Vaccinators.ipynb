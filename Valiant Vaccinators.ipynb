{
 "cells": [
  {
   "cell_type": "markdown",
   "metadata": {},
   "source": [
    "### Team: Valiant Vaccinators\n",
    "### The Correlation Between COVID-19 Vaccinations and Death Rates"
   ]
  },
  {
   "cell_type": "code",
   "execution_count": 2,
   "metadata": {},
   "outputs": [],
   "source": [
    "import pandas as pd\n",
    "import matplotlib.pyplot as plt\n",
    "import numpy as np\n",
    "import math"
   ]
  },
  {
   "cell_type": "code",
   "execution_count": 23,
   "metadata": {},
   "outputs": [
    {
     "data": {
      "text/html": [
       "<div>\n",
       "<style scoped>\n",
       "    .dataframe tbody tr th:only-of-type {\n",
       "        vertical-align: middle;\n",
       "    }\n",
       "\n",
       "    .dataframe tbody tr th {\n",
       "        vertical-align: top;\n",
       "    }\n",
       "\n",
       "    .dataframe thead th {\n",
       "        text-align: right;\n",
       "    }\n",
       "</style>\n",
       "<table border=\"1\" class=\"dataframe\">\n",
       "  <thead>\n",
       "    <tr style=\"text-align: right;\">\n",
       "      <th></th>\n",
       "      <th>Date</th>\n",
       "      <th>Antigen Positive Cases by Specimen Date</th>\n",
       "      <th>Deaths by Date of Death</th>\n",
       "      <th>Cases by Report Date</th>\n",
       "      <th>Molecular (PCR) Positive Cases by Specimen Date</th>\n",
       "    </tr>\n",
       "  </thead>\n",
       "  <tbody>\n",
       "    <tr>\n",
       "      <th>0</th>\n",
       "      <td>3/24/2020</td>\n",
       "      <td>1</td>\n",
       "      <td>1.0</td>\n",
       "      <td>101</td>\n",
       "      <td>175</td>\n",
       "    </tr>\n",
       "    <tr>\n",
       "      <th>1</th>\n",
       "      <td>3/25/2020</td>\n",
       "      <td>0</td>\n",
       "      <td>1.0</td>\n",
       "      <td>106</td>\n",
       "      <td>198</td>\n",
       "    </tr>\n",
       "    <tr>\n",
       "      <th>2</th>\n",
       "      <td>3/26/2020</td>\n",
       "      <td>0</td>\n",
       "      <td>1.0</td>\n",
       "      <td>132</td>\n",
       "      <td>197</td>\n",
       "    </tr>\n",
       "    <tr>\n",
       "      <th>3</th>\n",
       "      <td>3/27/2020</td>\n",
       "      <td>0</td>\n",
       "      <td>1.0</td>\n",
       "      <td>128</td>\n",
       "      <td>167</td>\n",
       "    </tr>\n",
       "    <tr>\n",
       "      <th>4</th>\n",
       "      <td>3/28/2020</td>\n",
       "      <td>1</td>\n",
       "      <td>1.0</td>\n",
       "      <td>171</td>\n",
       "      <td>99</td>\n",
       "    </tr>\n",
       "  </tbody>\n",
       "</table>\n",
       "</div>"
      ],
      "text/plain": [
       "        Date  Antigen Positive Cases by Specimen Date  \\\n",
       "0  3/24/2020                                        1   \n",
       "1  3/25/2020                                        0   \n",
       "2  3/26/2020                                        0   \n",
       "3  3/27/2020                                        0   \n",
       "4  3/28/2020                                        1   \n",
       "\n",
       "   Deaths by Date of Death  Cases by Report Date  \\\n",
       "0                      1.0                   101   \n",
       "1                      1.0                   106   \n",
       "2                      1.0                   132   \n",
       "3                      1.0                   128   \n",
       "4                      1.0                   171   \n",
       "\n",
       "   Molecular (PCR) Positive Cases by Specimen Date  \n",
       "0                                              175  \n",
       "1                                              198  \n",
       "2                                              197  \n",
       "3                                              167  \n",
       "4                                               99  "
      ]
     },
     "execution_count": 23,
     "metadata": {},
     "output_type": "execute_result"
    }
   ],
   "source": [
    "covid_data = pd.read_csv(r\"./NCCovidDeaths.csv\")\n",
    "covid_data.head()"
   ]
  },
  {
   "cell_type": "code",
   "execution_count": 24,
   "metadata": {},
   "outputs": [
    {
     "data": {
      "text/html": [
       "<div>\n",
       "<style scoped>\n",
       "    .dataframe tbody tr th:only-of-type {\n",
       "        vertical-align: middle;\n",
       "    }\n",
       "\n",
       "    .dataframe tbody tr th {\n",
       "        vertical-align: top;\n",
       "    }\n",
       "\n",
       "    .dataframe thead th {\n",
       "        text-align: right;\n",
       "    }\n",
       "</style>\n",
       "<table border=\"1\" class=\"dataframe\">\n",
       "  <thead>\n",
       "    <tr style=\"text-align: right;\">\n",
       "      <th></th>\n",
       "      <th>Antigen Positive Cases by Specimen Date</th>\n",
       "      <th>Deaths by Date of Death</th>\n",
       "      <th>Cases by Report Date</th>\n",
       "      <th>Molecular (PCR) Positive Cases by Specimen Date</th>\n",
       "    </tr>\n",
       "  </thead>\n",
       "  <tbody>\n",
       "    <tr>\n",
       "      <th>0</th>\n",
       "      <td>1</td>\n",
       "      <td>1.0</td>\n",
       "      <td>101</td>\n",
       "      <td>175</td>\n",
       "    </tr>\n",
       "    <tr>\n",
       "      <th>1</th>\n",
       "      <td>0</td>\n",
       "      <td>1.0</td>\n",
       "      <td>106</td>\n",
       "      <td>198</td>\n",
       "    </tr>\n",
       "    <tr>\n",
       "      <th>2</th>\n",
       "      <td>0</td>\n",
       "      <td>1.0</td>\n",
       "      <td>132</td>\n",
       "      <td>197</td>\n",
       "    </tr>\n",
       "    <tr>\n",
       "      <th>3</th>\n",
       "      <td>0</td>\n",
       "      <td>1.0</td>\n",
       "      <td>128</td>\n",
       "      <td>167</td>\n",
       "    </tr>\n",
       "    <tr>\n",
       "      <th>4</th>\n",
       "      <td>1</td>\n",
       "      <td>1.0</td>\n",
       "      <td>171</td>\n",
       "      <td>99</td>\n",
       "    </tr>\n",
       "  </tbody>\n",
       "</table>\n",
       "</div>"
      ],
      "text/plain": [
       "   Antigen Positive Cases by Specimen Date  Deaths by Date of Death  \\\n",
       "0                                        1                      1.0   \n",
       "1                                        0                      1.0   \n",
       "2                                        0                      1.0   \n",
       "3                                        0                      1.0   \n",
       "4                                        1                      1.0   \n",
       "\n",
       "   Cases by Report Date  Molecular (PCR) Positive Cases by Specimen Date  \n",
       "0                   101                                              175  \n",
       "1                   106                                              198  \n",
       "2                   132                                              197  \n",
       "3                   128                                              167  \n",
       "4                   171                                               99  "
      ]
     },
     "execution_count": 24,
     "metadata": {},
     "output_type": "execute_result"
    }
   ],
   "source": [
    "covid_data_drop = covid_data.drop([\"Date\"], axis = 1)\n",
    "covid_data_drop.head()"
   ]
  },
  {
   "cell_type": "code",
   "execution_count": 31,
   "metadata": {},
   "outputs": [
    {
     "data": {
      "text/plain": [
       "[<matplotlib.lines.Line2D at 0x7fc79d2ee730>]"
      ]
     },
     "execution_count": 31,
     "metadata": {},
     "output_type": "execute_result"
    },
    {
     "data": {
      "image/png": "[encoded data removed]",
      "text/plain": [
       "<Figure size 720x360 with 1 Axes>"
      ]
     },
     "metadata": {
      "needs_background": "light"
     },
     "output_type": "display_data"
    }
   ],
   "source": [
    "plt.xlabel('Days Since March 24th, 2020')\n",
    "plt.ylabel('Deaths')\n",
    "plt.rcParams[\"figure.figsize\"] = [10,5]\n",
    "plt.title('Covid Death Rate in North Carolina Over Time')\n",
    "x_vals = np.linspace(0, 470, 470)\n",
    "plt.plot(x_vals, covid_data[\"Deaths by Date of Death\"], 'b')"
   ]
  },
  {
   "cell_type": "code",
   "execution_count": 46,
   "metadata": {},
   "outputs": [
    {
     "data": {
      "text/plain": [
       "[<matplotlib.lines.Line2D at 0x7fc781c61cd0>]"
      ]
     },
     "execution_count": 46,
     "metadata": {},
     "output_type": "execute_result"
    },
    {
     "data": {
      "image/png": "[encoded data removed]",
      "text/plain": [
       "<Figure size 720x360 with 1 Axes>"
      ]
     },
     "metadata": {
      "needs_background": "light"
     },
     "output_type": "display_data"
    }
   ],
   "source": [
    "plt.xlabel('Days Since March 24th, 2020')\n",
    "plt.ylabel('Cases')\n",
    "plt.rcParams[\"figure.figsize\"] = [10,5]\n",
    "plt.title('Covid Cases in North Carolina Over Time')\n",
    "x_vals = np.linspace(0, 470, 470)\n",
    "plt.plot(x_vals, covid_data[\"Cases by Report Date\"], 'b')"
   ]
  },
  {
   "cell_type": "code",
   "execution_count": 12,
   "metadata": {},
   "outputs": [
    {
     "data": {
      "text/html": [
       "<div>\n",
       "<style scoped>\n",
       "    .dataframe tbody tr th:only-of-type {\n",
       "        vertical-align: middle;\n",
       "    }\n",
       "\n",
       "    .dataframe tbody tr th {\n",
       "        vertical-align: top;\n",
       "    }\n",
       "\n",
       "    .dataframe thead th {\n",
       "        text-align: right;\n",
       "    }\n",
       "</style>\n",
       "<table border=\"1\" class=\"dataframe\">\n",
       "  <thead>\n",
       "    <tr style=\"text-align: right;\">\n",
       "      <th></th>\n",
       "      <th>County</th>\n",
       "      <th>Date Range</th>\n",
       "      <th>Cases</th>\n",
       "      <th>Cases Per 10,000 Residents</th>\n",
       "      <th>Cases Per 100,000 Residents</th>\n",
       "      <th>Deaths</th>\n",
       "    </tr>\n",
       "  </thead>\n",
       "  <tbody>\n",
       "    <tr>\n",
       "      <th>0</th>\n",
       "      <td>Mecklenburg</td>\n",
       "      <td>Today</td>\n",
       "      <td>115088</td>\n",
       "      <td>1036</td>\n",
       "      <td>10365</td>\n",
       "      <td>980</td>\n",
       "    </tr>\n",
       "    <tr>\n",
       "      <th>1</th>\n",
       "      <td>Brunswick</td>\n",
       "      <td>Today</td>\n",
       "      <td>9402</td>\n",
       "      <td>658</td>\n",
       "      <td>6583</td>\n",
       "      <td>156</td>\n",
       "    </tr>\n",
       "    <tr>\n",
       "      <th>2</th>\n",
       "      <td>Caldwell</td>\n",
       "      <td>Today</td>\n",
       "      <td>9534</td>\n",
       "      <td>1160</td>\n",
       "      <td>11602</td>\n",
       "      <td>111</td>\n",
       "    </tr>\n",
       "    <tr>\n",
       "      <th>3</th>\n",
       "      <td>Rowan</td>\n",
       "      <td>Today</td>\n",
       "      <td>17327</td>\n",
       "      <td>1219</td>\n",
       "      <td>12195</td>\n",
       "      <td>313</td>\n",
       "    </tr>\n",
       "    <tr>\n",
       "      <th>4</th>\n",
       "      <td>Burke</td>\n",
       "      <td>Today</td>\n",
       "      <td>10161</td>\n",
       "      <td>1123</td>\n",
       "      <td>11229</td>\n",
       "      <td>164</td>\n",
       "    </tr>\n",
       "  </tbody>\n",
       "</table>\n",
       "</div>"
      ],
      "text/plain": [
       "        County Date Range   Cases  Cases Per 10,000 Residents  \\\n",
       "0  Mecklenburg      Today  115088                        1036   \n",
       "1    Brunswick      Today    9402                         658   \n",
       "2     Caldwell      Today    9534                        1160   \n",
       "3        Rowan      Today   17327                        1219   \n",
       "4        Burke      Today   10161                        1123   \n",
       "\n",
       "   Cases Per 100,000 Residents  Deaths  \n",
       "0                        10365     980  \n",
       "1                         6583     156  \n",
       "2                        11602     111  \n",
       "3                        12195     313  \n",
       "4                        11229     164  "
      ]
     },
     "execution_count": 12,
     "metadata": {},
     "output_type": "execute_result"
    }
   ],
   "source": [
    "covid_county_deaths = pd.read_csv(r\"./NCCountyDeaths.csv\")\n",
    "covid_county_deaths.head()"
   ]
  },
  {
   "cell_type": "code",
   "execution_count": 27,
   "metadata": {},
   "outputs": [
    {
     "data": {
      "text/html": [
       "<div>\n",
       "<style scoped>\n",
       "    .dataframe tbody tr th:only-of-type {\n",
       "        vertical-align: middle;\n",
       "    }\n",
       "\n",
       "    .dataframe tbody tr th {\n",
       "        vertical-align: top;\n",
       "    }\n",
       "\n",
       "    .dataframe thead th {\n",
       "        text-align: right;\n",
       "    }\n",
       "</style>\n",
       "<table border=\"1\" class=\"dataframe\">\n",
       "  <thead>\n",
       "    <tr style=\"text-align: right;\">\n",
       "      <th></th>\n",
       "      <th>County</th>\n",
       "      <th>Measure Names</th>\n",
       "      <th>Measure Values</th>\n",
       "    </tr>\n",
       "  </thead>\n",
       "  <tbody>\n",
       "    <tr>\n",
       "      <th>0</th>\n",
       "      <td>Yancey</td>\n",
       "      <td>Total                                       Po...</td>\n",
       "      <td>18069</td>\n",
       "    </tr>\n",
       "    <tr>\n",
       "      <th>1</th>\n",
       "      <td>Yadkin</td>\n",
       "      <td>Total                                       Po...</td>\n",
       "      <td>37667</td>\n",
       "    </tr>\n",
       "    <tr>\n",
       "      <th>2</th>\n",
       "      <td>Wilson</td>\n",
       "      <td>Total                                       Po...</td>\n",
       "      <td>81801</td>\n",
       "    </tr>\n",
       "    <tr>\n",
       "      <th>3</th>\n",
       "      <td>Wilkes</td>\n",
       "      <td>Total                                       Po...</td>\n",
       "      <td>68412</td>\n",
       "    </tr>\n",
       "    <tr>\n",
       "      <th>4</th>\n",
       "      <td>Wayne</td>\n",
       "      <td>Total                                       Po...</td>\n",
       "      <td>123131</td>\n",
       "    </tr>\n",
       "  </tbody>\n",
       "</table>\n",
       "</div>"
      ],
      "text/plain": [
       "   County                                      Measure Names  Measure Values\n",
       "0  Yancey  Total                                       Po...           18069\n",
       "1  Yadkin  Total                                       Po...           37667\n",
       "2  Wilson  Total                                       Po...           81801\n",
       "3  Wilkes  Total                                       Po...           68412\n",
       "4   Wayne  Total                                       Po...          123131"
      ]
     },
     "execution_count": 27,
     "metadata": {},
     "output_type": "execute_result"
    }
   ],
   "source": [
    "covid_county_vac = pd.read_csv(r\"./NCCovidVac.csv\")\n",
    "covid_county_vac.head()"
   ]
  },
  {
   "cell_type": "code",
   "execution_count": 31,
   "metadata": {},
   "outputs": [
    {
     "data": {
      "text/plain": [
       "(204, 3)"
      ]
     },
     "execution_count": 31,
     "metadata": {},
     "output_type": "execute_result"
    }
   ],
   "source": [
    "covid_county_vac = covid_county_vac.loc[covid_county_vac[\"Measure Names\"] != \"Total                                       Population\"]\n",
    "covid_county_vac = covid_county_vac.loc[covid_county_vac[\"Measure Names\"] != \"People Vaccinated with at Least One Doses Federal Pharmacy Programs\"]\n",
    "covid_county_vac = covid_county_vac.loc[covid_county_vac[\"Measure Names\"] != \"People Vaccinated with at Least One Doses NC Providers\"]\n",
    "covid_county_vac.shape"
   ]
  },
  {
   "cell_type": "code",
   "execution_count": 34,
   "metadata": {},
   "outputs": [],
   "source": [
    "covid_vac = covid_county_vac.loc[covid_county_vac[\"Measure Names\"] != \"People Fully Vaccinated                   NC Providers\"]\n",
    "covid_vac_nc = covid_county_vac.loc[covid_county_vac[\"Measure Names\"] != \"People Fully Vaccinated                         Federal Pharmacy Programs\"]"
   ]
  },
  {
   "cell_type": "code",
   "execution_count": 35,
   "metadata": {},
   "outputs": [
    {
     "data": {
      "text/html": [
       "<div>\n",
       "<style scoped>\n",
       "    .dataframe tbody tr th:only-of-type {\n",
       "        vertical-align: middle;\n",
       "    }\n",
       "\n",
       "    .dataframe tbody tr th {\n",
       "        vertical-align: top;\n",
       "    }\n",
       "\n",
       "    .dataframe thead th {\n",
       "        text-align: right;\n",
       "    }\n",
       "</style>\n",
       "<table border=\"1\" class=\"dataframe\">\n",
       "  <thead>\n",
       "    <tr style=\"text-align: right;\">\n",
       "      <th></th>\n",
       "      <th>County</th>\n",
       "      <th>Measure Names</th>\n",
       "      <th>Measure Values</th>\n",
       "    </tr>\n",
       "  </thead>\n",
       "  <tbody>\n",
       "    <tr>\n",
       "      <th>102</th>\n",
       "      <td>Yancey</td>\n",
       "      <td>People Fully Vaccinated                       ...</td>\n",
       "      <td>532</td>\n",
       "    </tr>\n",
       "    <tr>\n",
       "      <th>103</th>\n",
       "      <td>Yadkin</td>\n",
       "      <td>People Fully Vaccinated                       ...</td>\n",
       "      <td>2298</td>\n",
       "    </tr>\n",
       "    <tr>\n",
       "      <th>104</th>\n",
       "      <td>Wilson</td>\n",
       "      <td>People Fully Vaccinated                       ...</td>\n",
       "      <td>6308</td>\n",
       "    </tr>\n",
       "    <tr>\n",
       "      <th>105</th>\n",
       "      <td>Wilkes</td>\n",
       "      <td>People Fully Vaccinated                       ...</td>\n",
       "      <td>4946</td>\n",
       "    </tr>\n",
       "    <tr>\n",
       "      <th>106</th>\n",
       "      <td>Wayne</td>\n",
       "      <td>People Fully Vaccinated                       ...</td>\n",
       "      <td>8507</td>\n",
       "    </tr>\n",
       "  </tbody>\n",
       "</table>\n",
       "</div>"
      ],
      "text/plain": [
       "     County                                      Measure Names  Measure Values\n",
       "102  Yancey  People Fully Vaccinated                       ...             532\n",
       "103  Yadkin  People Fully Vaccinated                       ...            2298\n",
       "104  Wilson  People Fully Vaccinated                       ...            6308\n",
       "105  Wilkes  People Fully Vaccinated                       ...            4946\n",
       "106   Wayne  People Fully Vaccinated                       ...            8507"
      ]
     },
     "execution_count": 35,
     "metadata": {},
     "output_type": "execute_result"
    }
   ],
   "source": [
    "covid_vac.head()"
   ]
  },
  {
   "cell_type": "code",
   "execution_count": 36,
   "metadata": {},
   "outputs": [
    {
     "data": {
      "text/html": [
       "<div>\n",
       "<style scoped>\n",
       "    .dataframe tbody tr th:only-of-type {\n",
       "        vertical-align: middle;\n",
       "    }\n",
       "\n",
       "    .dataframe tbody tr th {\n",
       "        vertical-align: top;\n",
       "    }\n",
       "\n",
       "    .dataframe thead th {\n",
       "        text-align: right;\n",
       "    }\n",
       "</style>\n",
       "<table border=\"1\" class=\"dataframe\">\n",
       "  <thead>\n",
       "    <tr style=\"text-align: right;\">\n",
       "      <th></th>\n",
       "      <th>County</th>\n",
       "      <th>Measure Names</th>\n",
       "      <th>Measure Values</th>\n",
       "    </tr>\n",
       "  </thead>\n",
       "  <tbody>\n",
       "    <tr>\n",
       "      <th>306</th>\n",
       "      <td>Yancey</td>\n",
       "      <td>People Fully Vaccinated                   NC P...</td>\n",
       "      <td>6409</td>\n",
       "    </tr>\n",
       "    <tr>\n",
       "      <th>307</th>\n",
       "      <td>Yadkin</td>\n",
       "      <td>People Fully Vaccinated                   NC P...</td>\n",
       "      <td>11161</td>\n",
       "    </tr>\n",
       "    <tr>\n",
       "      <th>308</th>\n",
       "      <td>Wilson</td>\n",
       "      <td>People Fully Vaccinated                   NC P...</td>\n",
       "      <td>23943</td>\n",
       "    </tr>\n",
       "    <tr>\n",
       "      <th>309</th>\n",
       "      <td>Wilkes</td>\n",
       "      <td>People Fully Vaccinated                   NC P...</td>\n",
       "      <td>17159</td>\n",
       "    </tr>\n",
       "    <tr>\n",
       "      <th>310</th>\n",
       "      <td>Wayne</td>\n",
       "      <td>People Fully Vaccinated                   NC P...</td>\n",
       "      <td>29561</td>\n",
       "    </tr>\n",
       "  </tbody>\n",
       "</table>\n",
       "</div>"
      ],
      "text/plain": [
       "     County                                      Measure Names  Measure Values\n",
       "306  Yancey  People Fully Vaccinated                   NC P...            6409\n",
       "307  Yadkin  People Fully Vaccinated                   NC P...           11161\n",
       "308  Wilson  People Fully Vaccinated                   NC P...           23943\n",
       "309  Wilkes  People Fully Vaccinated                   NC P...           17159\n",
       "310   Wayne  People Fully Vaccinated                   NC P...           29561"
      ]
     },
     "execution_count": 36,
     "metadata": {},
     "output_type": "execute_result"
    }
   ],
   "source": [
    "covid_vac_nc.head()"
   ]
  },
  {
   "cell_type": "code",
   "execution_count": 38,
   "metadata": {},
   "outputs": [
    {
     "data": {
      "text/plain": [
       "<BarContainer object of 102 artists>"
      ]
     },
     "execution_count": 38,
     "metadata": {},
     "output_type": "execute_result"
    },
    {
     "data": {
      "image/png": "[encoded data removed]",
      "text/plain": [
       "<Figure size 432x288 with 1 Axes>"
      ]
     },
     "metadata": {
      "needs_background": "light"
     },
     "output_type": "display_data"
    }
   ],
   "source": [
    "plt.xlabel('County')\n",
    "plt.ylabel('People Vaccinated')\n",
    "plt.title('Number of Vaccinations')\n",
    "plt.bar(covid_vac[\"County\"], covid_vac[\"Measure Values\"])"
   ]
  },
  {
   "cell_type": "code",
   "execution_count": 41,
   "metadata": {},
   "outputs": [
    {
     "data": {
      "text/plain": [
       "<BarContainer object of 102 artists>"
      ]
     },
     "execution_count": 41,
     "metadata": {},
     "output_type": "execute_result"
    },
    {
     "data": {
      "image/png": "[encoded data removed]",
      "text/plain": [
       "<Figure size 432x288 with 1 Axes>"
      ]
     },
     "metadata": {
      "needs_background": "light"
     },
     "output_type": "display_data"
    }
   ],
   "source": [
    "plt.xlabel('County')\n",
    "plt.ylabel('People Vaccinated')\n",
    "plt.title('Number of Vaccinations')\n",
    "plt.bar(covid_vac_nc[\"County\"], covid_vac_nc[\"Measure Values\"])"
   ]
  },
  {
   "cell_type": "code",
   "execution_count": 42,
   "metadata": {},
   "outputs": [],
   "source": [
    "s1 = covid_vac.set_index('County')['Measure Values']\n",
    "s2 = covid_vac_nc.set_index('County')['Measure Values']"
   ]
  },
  {
   "cell_type": "code",
   "execution_count": 43,
   "metadata": {},
   "outputs": [],
   "source": [
    "covid_vac = (s1+s2).reset_index(name = 'Total Vaccinated')"
   ]
  },
  {
   "cell_type": "code",
   "execution_count": 44,
   "metadata": {},
   "outputs": [
    {
     "data": {
      "text/html": [
       "<div>\n",
       "<style scoped>\n",
       "    .dataframe tbody tr th:only-of-type {\n",
       "        vertical-align: middle;\n",
       "    }\n",
       "\n",
       "    .dataframe tbody tr th {\n",
       "        vertical-align: top;\n",
       "    }\n",
       "\n",
       "    .dataframe thead th {\n",
       "        text-align: right;\n",
       "    }\n",
       "</style>\n",
       "<table border=\"1\" class=\"dataframe\">\n",
       "  <thead>\n",
       "    <tr style=\"text-align: right;\">\n",
       "      <th></th>\n",
       "      <th>County</th>\n",
       "      <th>Total Vaccinated</th>\n",
       "    </tr>\n",
       "  </thead>\n",
       "  <tbody>\n",
       "    <tr>\n",
       "      <th>0</th>\n",
       "      <td>Yancey</td>\n",
       "      <td>6941</td>\n",
       "    </tr>\n",
       "    <tr>\n",
       "      <th>1</th>\n",
       "      <td>Yadkin</td>\n",
       "      <td>13459</td>\n",
       "    </tr>\n",
       "    <tr>\n",
       "      <th>2</th>\n",
       "      <td>Wilson</td>\n",
       "      <td>30251</td>\n",
       "    </tr>\n",
       "    <tr>\n",
       "      <th>3</th>\n",
       "      <td>Wilkes</td>\n",
       "      <td>22105</td>\n",
       "    </tr>\n",
       "    <tr>\n",
       "      <th>4</th>\n",
       "      <td>Wayne</td>\n",
       "      <td>38068</td>\n",
       "    </tr>\n",
       "  </tbody>\n",
       "</table>\n",
       "</div>"
      ],
      "text/plain": [
       "   County  Total Vaccinated\n",
       "0  Yancey              6941\n",
       "1  Yadkin             13459\n",
       "2  Wilson             30251\n",
       "3  Wilkes             22105\n",
       "4   Wayne             38068"
      ]
     },
     "execution_count": 44,
     "metadata": {},
     "output_type": "execute_result"
    }
   ],
   "source": [
    "covid_vac.head()"
   ]
  },
  {
   "cell_type": "code",
   "execution_count": 45,
   "metadata": {},
   "outputs": [
    {
     "data": {
      "text/html": [
       "<div>\n",
       "<style scoped>\n",
       "    .dataframe tbody tr th:only-of-type {\n",
       "        vertical-align: middle;\n",
       "    }\n",
       "\n",
       "    .dataframe tbody tr th {\n",
       "        vertical-align: top;\n",
       "    }\n",
       "\n",
       "    .dataframe thead th {\n",
       "        text-align: right;\n",
       "    }\n",
       "</style>\n",
       "<table border=\"1\" class=\"dataframe\">\n",
       "  <thead>\n",
       "    <tr style=\"text-align: right;\">\n",
       "      <th></th>\n",
       "      <th>County</th>\n",
       "      <th>Date Range</th>\n",
       "      <th>Cases</th>\n",
       "      <th>Cases Per 10,000 Residents</th>\n",
       "      <th>Cases Per 100,000 Residents</th>\n",
       "      <th>Deaths</th>\n",
       "    </tr>\n",
       "  </thead>\n",
       "  <tbody>\n",
       "    <tr>\n",
       "      <th>0</th>\n",
       "      <td>Mecklenburg</td>\n",
       "      <td>Today</td>\n",
       "      <td>115088</td>\n",
       "      <td>1036</td>\n",
       "      <td>10365</td>\n",
       "      <td>980</td>\n",
       "    </tr>\n",
       "    <tr>\n",
       "      <th>1</th>\n",
       "      <td>Brunswick</td>\n",
       "      <td>Today</td>\n",
       "      <td>9402</td>\n",
       "      <td>658</td>\n",
       "      <td>6583</td>\n",
       "      <td>156</td>\n",
       "    </tr>\n",
       "    <tr>\n",
       "      <th>2</th>\n",
       "      <td>Caldwell</td>\n",
       "      <td>Today</td>\n",
       "      <td>9534</td>\n",
       "      <td>1160</td>\n",
       "      <td>11602</td>\n",
       "      <td>111</td>\n",
       "    </tr>\n",
       "    <tr>\n",
       "      <th>3</th>\n",
       "      <td>Rowan</td>\n",
       "      <td>Today</td>\n",
       "      <td>17327</td>\n",
       "      <td>1219</td>\n",
       "      <td>12195</td>\n",
       "      <td>313</td>\n",
       "    </tr>\n",
       "    <tr>\n",
       "      <th>4</th>\n",
       "      <td>Burke</td>\n",
       "      <td>Today</td>\n",
       "      <td>10161</td>\n",
       "      <td>1123</td>\n",
       "      <td>11229</td>\n",
       "      <td>164</td>\n",
       "    </tr>\n",
       "  </tbody>\n",
       "</table>\n",
       "</div>"
      ],
      "text/plain": [
       "        County Date Range   Cases  Cases Per 10,000 Residents  \\\n",
       "0  Mecklenburg      Today  115088                        1036   \n",
       "1    Brunswick      Today    9402                         658   \n",
       "2     Caldwell      Today    9534                        1160   \n",
       "3        Rowan      Today   17327                        1219   \n",
       "4        Burke      Today   10161                        1123   \n",
       "\n",
       "   Cases Per 100,000 Residents  Deaths  \n",
       "0                        10365     980  \n",
       "1                         6583     156  \n",
       "2                        11602     111  \n",
       "3                        12195     313  \n",
       "4                        11229     164  "
      ]
     },
     "execution_count": 45,
     "metadata": {},
     "output_type": "execute_result"
    }
   ],
   "source": [
    "covid_county_deaths = pd.read_csv(r\"./NCCountyDeaths.csv\")\n",
    "covid_county_deaths.head()"
   ]
  },
  {
   "cell_type": "code",
   "execution_count": 46,
   "metadata": {},
   "outputs": [
    {
     "data": {
      "text/html": [
       "<div>\n",
       "<style scoped>\n",
       "    .dataframe tbody tr th:only-of-type {\n",
       "        vertical-align: middle;\n",
       "    }\n",
       "\n",
       "    .dataframe tbody tr th {\n",
       "        vertical-align: top;\n",
       "    }\n",
       "\n",
       "    .dataframe thead th {\n",
       "        text-align: right;\n",
       "    }\n",
       "</style>\n",
       "<table border=\"1\" class=\"dataframe\">\n",
       "  <thead>\n",
       "    <tr style=\"text-align: right;\">\n",
       "      <th></th>\n",
       "      <th>County</th>\n",
       "      <th>Date Range</th>\n",
       "      <th>Cases</th>\n",
       "      <th>Cases Per 10,000 Residents</th>\n",
       "      <th>Cases Per 100,000 Residents</th>\n",
       "      <th>Deaths</th>\n",
       "    </tr>\n",
       "  </thead>\n",
       "  <tbody>\n",
       "    <tr>\n",
       "      <th>78</th>\n",
       "      <td>Yancey</td>\n",
       "      <td>Today</td>\n",
       "      <td>1638</td>\n",
       "      <td>907</td>\n",
       "      <td>9065</td>\n",
       "      <td>28</td>\n",
       "    </tr>\n",
       "    <tr>\n",
       "      <th>94</th>\n",
       "      <td>Yadkin</td>\n",
       "      <td>Today</td>\n",
       "      <td>4142</td>\n",
       "      <td>1100</td>\n",
       "      <td>10996</td>\n",
       "      <td>55</td>\n",
       "    </tr>\n",
       "    <tr>\n",
       "      <th>69</th>\n",
       "      <td>Wilson</td>\n",
       "      <td>Today</td>\n",
       "      <td>9974</td>\n",
       "      <td>1219</td>\n",
       "      <td>12193</td>\n",
       "      <td>181</td>\n",
       "    </tr>\n",
       "    <tr>\n",
       "      <th>24</th>\n",
       "      <td>Wilkes</td>\n",
       "      <td>Today</td>\n",
       "      <td>6961</td>\n",
       "      <td>1018</td>\n",
       "      <td>10175</td>\n",
       "      <td>117</td>\n",
       "    </tr>\n",
       "    <tr>\n",
       "      <th>9</th>\n",
       "      <td>Wayne</td>\n",
       "      <td>Today</td>\n",
       "      <td>11559</td>\n",
       "      <td>939</td>\n",
       "      <td>9388</td>\n",
       "      <td>244</td>\n",
       "    </tr>\n",
       "  </tbody>\n",
       "</table>\n",
       "</div>"
      ],
      "text/plain": [
       "    County Date Range  Cases  Cases Per 10,000 Residents  \\\n",
       "78  Yancey      Today   1638                         907   \n",
       "94  Yadkin      Today   4142                        1100   \n",
       "69  Wilson      Today   9974                        1219   \n",
       "24  Wilkes      Today   6961                        1018   \n",
       "9    Wayne      Today  11559                         939   \n",
       "\n",
       "    Cases Per 100,000 Residents  Deaths  \n",
       "78                         9065      28  \n",
       "94                        10996      55  \n",
       "69                        12193     181  \n",
       "24                        10175     117  \n",
       "9                          9388     244  "
      ]
     },
     "execution_count": 46,
     "metadata": {},
     "output_type": "execute_result"
    }
   ],
   "source": [
    "covid_county_deaths = covid_county_deaths.sort_values('County', ascending=False)\n",
    "covid_county_deaths.head()"
   ]
  },
  {
   "cell_type": "code",
   "execution_count": 47,
   "metadata": {},
   "outputs": [
    {
     "data": {
      "text/html": [
       "<div>\n",
       "<style scoped>\n",
       "    .dataframe tbody tr th:only-of-type {\n",
       "        vertical-align: middle;\n",
       "    }\n",
       "\n",
       "    .dataframe tbody tr th {\n",
       "        vertical-align: top;\n",
       "    }\n",
       "\n",
       "    .dataframe thead th {\n",
       "        text-align: right;\n",
       "    }\n",
       "</style>\n",
       "<table border=\"1\" class=\"dataframe\">\n",
       "  <thead>\n",
       "    <tr style=\"text-align: right;\">\n",
       "      <th></th>\n",
       "      <th>County</th>\n",
       "      <th>Date Range</th>\n",
       "      <th>Cases</th>\n",
       "      <th>Cases Per 10,000 Residents</th>\n",
       "      <th>Cases Per 100,000 Residents</th>\n",
       "      <th>Deaths</th>\n",
       "      <th>Total Vaccinated</th>\n",
       "    </tr>\n",
       "  </thead>\n",
       "  <tbody>\n",
       "    <tr>\n",
       "      <th>78</th>\n",
       "      <td>Yancey</td>\n",
       "      <td>Today</td>\n",
       "      <td>1638</td>\n",
       "      <td>907</td>\n",
       "      <td>9065</td>\n",
       "      <td>28</td>\n",
       "      <td>17300</td>\n",
       "    </tr>\n",
       "    <tr>\n",
       "      <th>94</th>\n",
       "      <td>Yadkin</td>\n",
       "      <td>Today</td>\n",
       "      <td>4142</td>\n",
       "      <td>1100</td>\n",
       "      <td>10996</td>\n",
       "      <td>55</td>\n",
       "      <td>7510</td>\n",
       "    </tr>\n",
       "    <tr>\n",
       "      <th>69</th>\n",
       "      <td>Wilson</td>\n",
       "      <td>Today</td>\n",
       "      <td>9974</td>\n",
       "      <td>1219</td>\n",
       "      <td>12193</td>\n",
       "      <td>181</td>\n",
       "      <td>17607</td>\n",
       "    </tr>\n",
       "    <tr>\n",
       "      <th>24</th>\n",
       "      <td>Wilkes</td>\n",
       "      <td>Today</td>\n",
       "      <td>6961</td>\n",
       "      <td>1018</td>\n",
       "      <td>10175</td>\n",
       "      <td>117</td>\n",
       "      <td>44915</td>\n",
       "    </tr>\n",
       "    <tr>\n",
       "      <th>9</th>\n",
       "      <td>Wayne</td>\n",
       "      <td>Today</td>\n",
       "      <td>11559</td>\n",
       "      <td>939</td>\n",
       "      <td>9388</td>\n",
       "      <td>244</td>\n",
       "      <td>18058</td>\n",
       "    </tr>\n",
       "  </tbody>\n",
       "</table>\n",
       "</div>"
      ],
      "text/plain": [
       "    County Date Range  Cases  Cases Per 10,000 Residents  \\\n",
       "78  Yancey      Today   1638                         907   \n",
       "94  Yadkin      Today   4142                        1100   \n",
       "69  Wilson      Today   9974                        1219   \n",
       "24  Wilkes      Today   6961                        1018   \n",
       "9    Wayne      Today  11559                         939   \n",
       "\n",
       "    Cases Per 100,000 Residents  Deaths  Total Vaccinated  \n",
       "78                         9065      28             17300  \n",
       "94                        10996      55              7510  \n",
       "69                        12193     181             17607  \n",
       "24                        10175     117             44915  \n",
       "9                          9388     244             18058  "
      ]
     },
     "execution_count": 47,
     "metadata": {},
     "output_type": "execute_result"
    }
   ],
   "source": [
    "covid_nc = covid_county_deaths.join(covid_vac[\"Total Vaccinated\"])\n",
    "covid_nc.head()"
   ]
  },
  {
   "cell_type": "code",
   "execution_count": 49,
   "metadata": {},
   "outputs": [
    {
     "data": {
      "text/plain": [
       "<matplotlib.collections.PathCollection at 0x7fb19a426e20>"
      ]
     },
     "execution_count": 49,
     "metadata": {},
     "output_type": "execute_result"
    },
    {
     "data": {
      "image/png": "[encoded data removed]",
      "text/plain": [
       "<Figure size 432x288 with 1 Axes>"
      ]
     },
     "metadata": {
      "needs_background": "light"
     },
     "output_type": "display_data"
    }
   ],
   "source": [
    "plt.xlabel('Deaths')\n",
    "plt.ylabel('Total Vaccinated')\n",
    "plt.title('Deaths vs People Vaccinated')\n",
    "plt.scatter(covid_nc[\"Deaths\"], covid_nc[\"Total Vaccinated\"], c = \"b\")"
   ]
  },
  {
   "cell_type": "code",
   "execution_count": 51,
   "metadata": {},
   "outputs": [
    {
     "data": {
      "text/plain": [
       "<matplotlib.collections.PathCollection at 0x7fb199ca84c0>"
      ]
     },
     "execution_count": 51,
     "metadata": {},
     "output_type": "execute_result"
    },
    {
     "data": {
      "image/png": "[encoded data removed]",
      "text/plain": [
       "<Figure size 432x288 with 1 Axes>"
      ]
     },
     "metadata": {
      "needs_background": "light"
     },
     "output_type": "display_data"
    }
   ],
   "source": [
    "plt.xlabel('Cases')\n",
    "plt.ylabel('Total Vaccinated')\n",
    "plt.title('Cases vs People Vaccinated')\n",
    "plt.scatter(covid_nc[\"Cases Per 10,000 Residents\"], covid_nc[\"Total Vaccinated\"], c = \"b\")"
   ]
  },
  {
   "cell_type": "code",
   "execution_count": 52,
   "metadata": {},
   "outputs": [
    {
     "name": "stdout",
     "output_type": "stream",
     "text": [
      "0.00786776928864091\n"
     ]
    }
   ],
   "source": [
    "print(covid_nc[\"Deaths\"].corr(covid_nc[\"Total Vaccinated\"]))"
   ]
  },
  {
   "cell_type": "code",
   "execution_count": 96,
   "metadata": {},
   "outputs": [
    {
     "data": {
      "text/plain": [
       "450"
      ]
     },
     "execution_count": 96,
     "metadata": {},
     "output_type": "execute_result"
    }
   ],
   "source": [
    "covid_complete_data = pd.read_csv(\"./NCCovidTrain.csv\")\n",
    "covid_training_processed = covid_complete_data[['Deaths by Date of Death']].values\n",
    "\n",
    "from sklearn.preprocessing import MinMaxScaler\n",
    "scaler = MinMaxScaler(feature_range = (0,1))\n",
    "\n",
    "covid_training_scaled = scaler.fit_transform(covid_training_processed)\n",
    "\n",
    "len(covid_training_scaled)"
   ]
  },
  {
   "cell_type": "code",
   "execution_count": 97,
   "metadata": {},
   "outputs": [
    {
     "name": "stdout",
     "output_type": "stream",
     "text": [
      "(390, 60)\n",
      "(390,)\n"
     ]
    }
   ],
   "source": [
    "covid_training_features = []\n",
    "covid_training_labels = []\n",
    "for i in range(60, len(covid_training_scaled)):\n",
    "    covid_training_features.append(covid_training_scaled[i-60:i, 0])\n",
    "    covid_training_labels.append(covid_training_scaled[i, 0])\n",
    "    \n",
    "X_train = np.array(covid_training_features)\n",
    "y_train = np.array(covid_training_labels)\n",
    "print(X_train.shape)\n",
    "print(y_train.shape)"
   ]
  },
  {
   "cell_type": "code",
   "execution_count": 98,
   "metadata": {},
   "outputs": [],
   "source": [
    "X_train = np.reshape(X_train, (X_train.shape[0], X_train.shape[1], 1))"
   ]
  },
  {
   "cell_type": "code",
   "execution_count": 99,
   "metadata": {},
   "outputs": [],
   "source": [
    "from tensorflow.keras.layers import Input, Activation, Dense, Flatten, Dropout, Flatten, LSTM\n",
    "from tensorflow.keras.models import Model"
   ]
  },
  {
   "cell_type": "code",
   "execution_count": 100,
   "metadata": {},
   "outputs": [],
   "source": [
    "input_layer = Input(shape = (X_train.shape[1], 1))\n",
    "lstm1 = LSTM(100, activation = 'relu', return_sequences = True)(input_layer)\n",
    "do1 = Dropout(0.2)(lstm1)\n",
    "lstm2 = LSTM(100, activation = 'relu', return_sequences = True)(do1)\n",
    "do2 = Dropout(0.2)(lstm2)\n",
    "lstm3 = LSTM(100, activation = 'relu', return_sequences = True)(do2)\n",
    "do3 = Dropout(0.2)(lstm3)\n",
    "lstm4 = LSTM(100, activation = 'relu')(do3)\n",
    "do4 = Dropout(0.2)(lstm4)\n",
    "\n",
    "output_layer = Dense(1)(do4)\n",
    "model = Model(input_layer, output_layer)\n",
    "model.compile(optimizer = 'adam', loss = 'mse')"
   ]
  },
  {
   "cell_type": "code",
   "execution_count": 101,
   "metadata": {},
   "outputs": [
    {
     "name": "stdout",
     "output_type": "stream",
     "text": [
      "(390, 60, 1)\n",
      "(390,)\n",
      "(390, 1)\n"
     ]
    }
   ],
   "source": [
    "print(X_train.shape)\n",
    "print(y_train.shape)\n",
    "y_train = y_train.reshape(-1,1)\n",
    "print(y_train.shape)"
   ]
  },
  {
   "cell_type": "code",
   "execution_count": 102,
   "metadata": {},
   "outputs": [
    {
     "name": "stdout",
     "output_type": "stream",
     "text": [
      "Epoch 1/10\n",
      "13/13 [==============================] - 10s 67ms/step - loss: nan\n",
      "Epoch 2/10\n",
      "13/13 [==============================] - 1s 67ms/step - loss: nan\n",
      "Epoch 3/10\n",
      "13/13 [==============================] - 1s 63ms/step - loss: nan\n",
      "Epoch 4/10\n",
      "13/13 [==============================] - 1s 90ms/step - loss: nan\n",
      "Epoch 5/10\n",
      "13/13 [==============================] - 1s 57ms/step - loss: nan\n",
      "Epoch 6/10\n",
      "13/13 [==============================] - 1s 64ms/step - loss: nan\n",
      "Epoch 7/10\n",
      "13/13 [==============================] - 1s 61ms/step - loss: nan\n",
      "Epoch 8/10\n",
      "13/13 [==============================] - 1s 66ms/step - loss: nan\n",
      "Epoch 9/10\n",
      "13/13 [==============================] - 1s 64ms/step - loss: nan\n",
      "Epoch 10/10\n",
      "13/13 [==============================] - 1s 60ms/step - loss: nan\n"
     ]
    }
   ],
   "source": [
    "model_history = model.fit(X_train, y_train, epochs = 10, verbose = 1, batch_size = 32)"
   ]
  },
  {
   "cell_type": "code",
   "execution_count": 93,
   "metadata": {},
   "outputs": [
    {
     "name": "stdout",
     "output_type": "stream",
     "text": [
      "(80,)\n",
      "(80, 1)\n",
      "(20, 60)\n",
      "(20, 60, 1)\n",
      "(20, 1)\n"
     ]
    }
   ],
   "source": [
    "covid_testing_complete_data = pd.read_csv(\"./NCCovidTest.csv\")\n",
    "covid_testing_processed = covid_testing_complete_data[['Deaths by Date of Death']].values\n",
    "\n",
    "covid_all_data = pd.concat((covid_complete_data['Deaths by Date of Death'], covid_testing_complete_data['Deaths by Date of Death']), axis = 0)\n",
    "\n",
    "test_inputs = covid_all_data[len(covid_all_data) - len(covid_testing_complete_data) - 60:].values\n",
    "print(test_inputs.shape)\n",
    "\n",
    "test_inputs = test_inputs.reshape(-1,1)\n",
    "test_inputs = scaler.transform(test_inputs)\n",
    "print(test_inputs.shape)\n",
    "\n",
    "covid_test_features = []\n",
    "for i in range(60, 80):\n",
    "    covid_test_features.append(test_inputs[i-60:i, 0])\n",
    "\n",
    "X_test = np.array(covid_test_features)\n",
    "print(X_test.shape)\n",
    "\n",
    "X_test = np.reshape(X_test, (X_test.shape[0], X_test.shape[1], 1))\n",
    "print(X_test.shape)\n",
    "\n",
    "y_pred = model.predict(X_test)\n",
    "\n",
    "y_pred = scaler.inverse_transform(y_pred)\n",
    "print(y_pred.shape)"
   ]
  },
  {
   "cell_type": "code",
   "execution_count": 95,
   "metadata": {},
   "outputs": [
    {
     "name": "stdout",
     "output_type": "stream",
     "text": [
      "[[nan]\n",
      " [nan]\n",
      " [nan]\n",
      " [nan]\n",
      " [nan]\n",
      " [nan]\n",
      " [nan]\n",
      " [nan]\n",
      " [nan]\n",
      " [nan]\n",
      " [nan]\n",
      " [nan]\n",
      " [nan]\n",
      " [nan]\n",
      " [nan]\n",
      " [nan]\n",
      " [nan]\n",
      " [nan]\n",
      " [nan]\n",
      " [nan]]\n"
     ]
    }
   ],
   "source": [
    "covid_all_data.head()\n",
    "print(y_pred)"
   ]
  },
  {
   "cell_type": "code",
   "execution_count": 83,
   "metadata": {},
   "outputs": [
    {
     "data": {
      "image/png": "[encoded data removed]",
      "text/plain": [
       "<Figure size 576x432 with 1 Axes>"
      ]
     },
     "metadata": {
      "needs_background": "light"
     },
     "output_type": "display_data"
    }
   ],
   "source": [
    "plt.figure(figsize=(8,6))\n",
    "#plt.plot(covid_testing_processed, color='red', label = 'Actual Covid Deaths')\n",
    "plt.plot(y_pred, color = 'green', label = 'Predicted Covid Deaths')\n",
    "plt.title('Covid Deaths Over Time')\n",
    "plt.xlabel('Date')\n",
    "plt.ylabel('Death Rate')\n",
    "plt.legend()\n",
    "plt.show()"
   ]
  }
 ],
 "metadata": {
  "kernelspec": {
   "display_name": "Python 3",
   "language": "python",
   "name": "python3"
  },
  "language_info": {
   "codemirror_mode": {
    "name": "ipython",
    "version": 3
   },
   "file_extension": ".py",
   "mimetype": "text/x-python",
   "name": "python",
   "nbconvert_exporter": "python",
   "pygments_lexer": "ipython3",
   "version": "3.8.5"
  }
 },
 "nbformat": 4,
 "nbformat_minor": 4
}
