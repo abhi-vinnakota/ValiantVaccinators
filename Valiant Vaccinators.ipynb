{
 "cells": [
  {
   "cell_type": "markdown",
   "metadata": {},
   "source": [
    "### Team: Valiant Vaccinators\n",
    "### Using Pandas and Predictive Regression Techniques to Analyze the Correlation between Vaccination and Covid Infections"
   ]
  },
  {
   "cell_type": "markdown",
   "metadata": {},
   "source": [
    "# Importing Libraries"
   ]
  },
  {
   "cell_type": "code",
   "execution_count": 2,
   "metadata": {},
   "outputs": [],
   "source": [
    "import pandas as pd\n",
    "import matplotlib.pyplot as plt\n",
    "import numpy as np\n",
    "import math"
   ]
  },
  {
   "cell_type": "markdown",
   "metadata": {},
   "source": [
    "# Reading Dataset"
   ]
  },
  {
   "cell_type": "code",
   "execution_count": 157,
   "metadata": {},
   "outputs": [
    {
     "data": {
      "text/html": [
       "<div>\n",
       "<style scoped>\n",
       "    .dataframe tbody tr th:only-of-type {\n",
       "        vertical-align: middle;\n",
       "    }\n",
       "\n",
       "    .dataframe tbody tr th {\n",
       "        vertical-align: top;\n",
       "    }\n",
       "\n",
       "    .dataframe thead th {\n",
       "        text-align: right;\n",
       "    }\n",
       "</style>\n",
       "<table border=\"1\" class=\"dataframe\">\n",
       "  <thead>\n",
       "    <tr style=\"text-align: right;\">\n",
       "      <th></th>\n",
       "      <th>iso_code</th>\n",
       "      <th>continent</th>\n",
       "      <th>location</th>\n",
       "      <th>date</th>\n",
       "      <th>total_cases</th>\n",
       "      <th>new_cases</th>\n",
       "      <th>new_cases_smoothed</th>\n",
       "      <th>total_deaths</th>\n",
       "      <th>new_deaths</th>\n",
       "      <th>new_deaths_smoothed</th>\n",
       "      <th>...</th>\n",
       "      <th>extreme_poverty</th>\n",
       "      <th>cardiovasc_death_rate</th>\n",
       "      <th>diabetes_prevalence</th>\n",
       "      <th>female_smokers</th>\n",
       "      <th>male_smokers</th>\n",
       "      <th>handwashing_facilities</th>\n",
       "      <th>hospital_beds_per_thousand</th>\n",
       "      <th>life_expectancy</th>\n",
       "      <th>human_development_index</th>\n",
       "      <th>excess_mortality</th>\n",
       "    </tr>\n",
       "  </thead>\n",
       "  <tbody>\n",
       "    <tr>\n",
       "      <th>0</th>\n",
       "      <td>USA</td>\n",
       "      <td>North America</td>\n",
       "      <td>United States</td>\n",
       "      <td>3/5/2020</td>\n",
       "      <td>184</td>\n",
       "      <td>77</td>\n",
       "      <td>23.857</td>\n",
       "      <td>12</td>\n",
       "      <td>1</td>\n",
       "      <td>1.714</td>\n",
       "      <td>...</td>\n",
       "      <td>1.2</td>\n",
       "      <td>151.089</td>\n",
       "      <td>10.79</td>\n",
       "      <td>19.1</td>\n",
       "      <td>24.6</td>\n",
       "      <td>NaN</td>\n",
       "      <td>2.77</td>\n",
       "      <td>78.86</td>\n",
       "      <td>0.926</td>\n",
       "      <td>NaN</td>\n",
       "    </tr>\n",
       "    <tr>\n",
       "      <th>1</th>\n",
       "      <td>USA</td>\n",
       "      <td>North America</td>\n",
       "      <td>United States</td>\n",
       "      <td>3/6/2020</td>\n",
       "      <td>237</td>\n",
       "      <td>53</td>\n",
       "      <td>31.429</td>\n",
       "      <td>14</td>\n",
       "      <td>2</td>\n",
       "      <td>2.000</td>\n",
       "      <td>...</td>\n",
       "      <td>1.2</td>\n",
       "      <td>151.089</td>\n",
       "      <td>10.79</td>\n",
       "      <td>19.1</td>\n",
       "      <td>24.6</td>\n",
       "      <td>NaN</td>\n",
       "      <td>2.77</td>\n",
       "      <td>78.86</td>\n",
       "      <td>0.926</td>\n",
       "      <td>NaN</td>\n",
       "    </tr>\n",
       "    <tr>\n",
       "      <th>2</th>\n",
       "      <td>USA</td>\n",
       "      <td>North America</td>\n",
       "      <td>United States</td>\n",
       "      <td>3/7/2020</td>\n",
       "      <td>403</td>\n",
       "      <td>166</td>\n",
       "      <td>54.000</td>\n",
       "      <td>17</td>\n",
       "      <td>3</td>\n",
       "      <td>2.286</td>\n",
       "      <td>...</td>\n",
       "      <td>1.2</td>\n",
       "      <td>151.089</td>\n",
       "      <td>10.79</td>\n",
       "      <td>19.1</td>\n",
       "      <td>24.6</td>\n",
       "      <td>NaN</td>\n",
       "      <td>2.77</td>\n",
       "      <td>78.86</td>\n",
       "      <td>0.926</td>\n",
       "      <td>NaN</td>\n",
       "    </tr>\n",
       "    <tr>\n",
       "      <th>3</th>\n",
       "      <td>USA</td>\n",
       "      <td>North America</td>\n",
       "      <td>United States</td>\n",
       "      <td>3/8/2020</td>\n",
       "      <td>519</td>\n",
       "      <td>116</td>\n",
       "      <td>69.571</td>\n",
       "      <td>21</td>\n",
       "      <td>4</td>\n",
       "      <td>2.857</td>\n",
       "      <td>...</td>\n",
       "      <td>1.2</td>\n",
       "      <td>151.089</td>\n",
       "      <td>10.79</td>\n",
       "      <td>19.1</td>\n",
       "      <td>24.6</td>\n",
       "      <td>NaN</td>\n",
       "      <td>2.77</td>\n",
       "      <td>78.86</td>\n",
       "      <td>0.926</td>\n",
       "      <td>4.38</td>\n",
       "    </tr>\n",
       "    <tr>\n",
       "      <th>4</th>\n",
       "      <td>USA</td>\n",
       "      <td>North America</td>\n",
       "      <td>United States</td>\n",
       "      <td>3/9/2020</td>\n",
       "      <td>594</td>\n",
       "      <td>75</td>\n",
       "      <td>77.000</td>\n",
       "      <td>22</td>\n",
       "      <td>1</td>\n",
       "      <td>2.286</td>\n",
       "      <td>...</td>\n",
       "      <td>1.2</td>\n",
       "      <td>151.089</td>\n",
       "      <td>10.79</td>\n",
       "      <td>19.1</td>\n",
       "      <td>24.6</td>\n",
       "      <td>NaN</td>\n",
       "      <td>2.77</td>\n",
       "      <td>78.86</td>\n",
       "      <td>0.926</td>\n",
       "      <td>NaN</td>\n",
       "    </tr>\n",
       "  </tbody>\n",
       "</table>\n",
       "<p>5 rows × 60 columns</p>\n",
       "</div>"
      ],
      "text/plain": [
       "  iso_code      continent       location      date  total_cases  new_cases  \\\n",
       "0      USA  North America  United States  3/5/2020          184         77   \n",
       "1      USA  North America  United States  3/6/2020          237         53   \n",
       "2      USA  North America  United States  3/7/2020          403        166   \n",
       "3      USA  North America  United States  3/8/2020          519        116   \n",
       "4      USA  North America  United States  3/9/2020          594         75   \n",
       "\n",
       "   new_cases_smoothed  total_deaths  new_deaths  new_deaths_smoothed  ...  \\\n",
       "0              23.857            12           1                1.714  ...   \n",
       "1              31.429            14           2                2.000  ...   \n",
       "2              54.000            17           3                2.286  ...   \n",
       "3              69.571            21           4                2.857  ...   \n",
       "4              77.000            22           1                2.286  ...   \n",
       "\n",
       "   extreme_poverty  cardiovasc_death_rate  diabetes_prevalence  \\\n",
       "0              1.2                151.089                10.79   \n",
       "1              1.2                151.089                10.79   \n",
       "2              1.2                151.089                10.79   \n",
       "3              1.2                151.089                10.79   \n",
       "4              1.2                151.089                10.79   \n",
       "\n",
       "   female_smokers  male_smokers  handwashing_facilities  \\\n",
       "0            19.1          24.6                     NaN   \n",
       "1            19.1          24.6                     NaN   \n",
       "2            19.1          24.6                     NaN   \n",
       "3            19.1          24.6                     NaN   \n",
       "4            19.1          24.6                     NaN   \n",
       "\n",
       "   hospital_beds_per_thousand  life_expectancy  human_development_index  \\\n",
       "0                        2.77            78.86                    0.926   \n",
       "1                        2.77            78.86                    0.926   \n",
       "2                        2.77            78.86                    0.926   \n",
       "3                        2.77            78.86                    0.926   \n",
       "4                        2.77            78.86                    0.926   \n",
       "\n",
       "   excess_mortality  \n",
       "0               NaN  \n",
       "1               NaN  \n",
       "2               NaN  \n",
       "3              4.38  \n",
       "4               NaN  \n",
       "\n",
       "[5 rows x 60 columns]"
      ]
     },
     "execution_count": 157,
     "metadata": {},
     "output_type": "execute_result"
    }
   ],
   "source": [
    "covid_national = pd.read_csv(r\"./covidnational.csv\")\n",
    "covid_national.head()"
   ]
  },
  {
   "cell_type": "markdown",
   "metadata": {},
   "source": [
    "# Data Cleaning"
   ]
  },
  {
   "cell_type": "code",
   "execution_count": 158,
   "metadata": {},
   "outputs": [
    {
     "data": {
      "text/html": [
       "<div>\n",
       "<style scoped>\n",
       "    .dataframe tbody tr th:only-of-type {\n",
       "        vertical-align: middle;\n",
       "    }\n",
       "\n",
       "    .dataframe tbody tr th {\n",
       "        vertical-align: top;\n",
       "    }\n",
       "\n",
       "    .dataframe thead th {\n",
       "        text-align: right;\n",
       "    }\n",
       "</style>\n",
       "<table border=\"1\" class=\"dataframe\">\n",
       "  <thead>\n",
       "    <tr style=\"text-align: right;\">\n",
       "      <th></th>\n",
       "      <th>date</th>\n",
       "      <th>total_cases</th>\n",
       "      <th>new_cases</th>\n",
       "      <th>new_cases_smoothed</th>\n",
       "      <th>total_deaths</th>\n",
       "      <th>new_deaths</th>\n",
       "      <th>new_deaths_smoothed</th>\n",
       "      <th>total_cases_per_million</th>\n",
       "      <th>new_cases_per_million</th>\n",
       "      <th>new_cases_smoothed_per_million</th>\n",
       "      <th>...</th>\n",
       "      <th>aged_70_older</th>\n",
       "      <th>gdp_per_capita</th>\n",
       "      <th>extreme_poverty</th>\n",
       "      <th>cardiovasc_death_rate</th>\n",
       "      <th>diabetes_prevalence</th>\n",
       "      <th>female_smokers</th>\n",
       "      <th>male_smokers</th>\n",
       "      <th>hospital_beds_per_thousand</th>\n",
       "      <th>life_expectancy</th>\n",
       "      <th>human_development_index</th>\n",
       "    </tr>\n",
       "  </thead>\n",
       "  <tbody>\n",
       "    <tr>\n",
       "      <th>0</th>\n",
       "      <td>3/5/2020</td>\n",
       "      <td>184</td>\n",
       "      <td>77</td>\n",
       "      <td>23.857</td>\n",
       "      <td>12</td>\n",
       "      <td>1</td>\n",
       "      <td>1.714</td>\n",
       "      <td>0.556</td>\n",
       "      <td>0.233</td>\n",
       "      <td>0.072</td>\n",
       "      <td>...</td>\n",
       "      <td>9.732</td>\n",
       "      <td>54225.446</td>\n",
       "      <td>1.2</td>\n",
       "      <td>151.089</td>\n",
       "      <td>10.79</td>\n",
       "      <td>19.1</td>\n",
       "      <td>24.6</td>\n",
       "      <td>2.77</td>\n",
       "      <td>78.86</td>\n",
       "      <td>0.926</td>\n",
       "    </tr>\n",
       "    <tr>\n",
       "      <th>1</th>\n",
       "      <td>3/6/2020</td>\n",
       "      <td>237</td>\n",
       "      <td>53</td>\n",
       "      <td>31.429</td>\n",
       "      <td>14</td>\n",
       "      <td>2</td>\n",
       "      <td>2.000</td>\n",
       "      <td>0.716</td>\n",
       "      <td>0.160</td>\n",
       "      <td>0.095</td>\n",
       "      <td>...</td>\n",
       "      <td>9.732</td>\n",
       "      <td>54225.446</td>\n",
       "      <td>1.2</td>\n",
       "      <td>151.089</td>\n",
       "      <td>10.79</td>\n",
       "      <td>19.1</td>\n",
       "      <td>24.6</td>\n",
       "      <td>2.77</td>\n",
       "      <td>78.86</td>\n",
       "      <td>0.926</td>\n",
       "    </tr>\n",
       "    <tr>\n",
       "      <th>2</th>\n",
       "      <td>3/7/2020</td>\n",
       "      <td>403</td>\n",
       "      <td>166</td>\n",
       "      <td>54.000</td>\n",
       "      <td>17</td>\n",
       "      <td>3</td>\n",
       "      <td>2.286</td>\n",
       "      <td>1.218</td>\n",
       "      <td>0.502</td>\n",
       "      <td>0.163</td>\n",
       "      <td>...</td>\n",
       "      <td>9.732</td>\n",
       "      <td>54225.446</td>\n",
       "      <td>1.2</td>\n",
       "      <td>151.089</td>\n",
       "      <td>10.79</td>\n",
       "      <td>19.1</td>\n",
       "      <td>24.6</td>\n",
       "      <td>2.77</td>\n",
       "      <td>78.86</td>\n",
       "      <td>0.926</td>\n",
       "    </tr>\n",
       "    <tr>\n",
       "      <th>3</th>\n",
       "      <td>3/8/2020</td>\n",
       "      <td>519</td>\n",
       "      <td>116</td>\n",
       "      <td>69.571</td>\n",
       "      <td>21</td>\n",
       "      <td>4</td>\n",
       "      <td>2.857</td>\n",
       "      <td>1.568</td>\n",
       "      <td>0.350</td>\n",
       "      <td>0.210</td>\n",
       "      <td>...</td>\n",
       "      <td>9.732</td>\n",
       "      <td>54225.446</td>\n",
       "      <td>1.2</td>\n",
       "      <td>151.089</td>\n",
       "      <td>10.79</td>\n",
       "      <td>19.1</td>\n",
       "      <td>24.6</td>\n",
       "      <td>2.77</td>\n",
       "      <td>78.86</td>\n",
       "      <td>0.926</td>\n",
       "    </tr>\n",
       "    <tr>\n",
       "      <th>4</th>\n",
       "      <td>3/9/2020</td>\n",
       "      <td>594</td>\n",
       "      <td>75</td>\n",
       "      <td>77.000</td>\n",
       "      <td>22</td>\n",
       "      <td>1</td>\n",
       "      <td>2.286</td>\n",
       "      <td>1.795</td>\n",
       "      <td>0.227</td>\n",
       "      <td>0.233</td>\n",
       "      <td>...</td>\n",
       "      <td>9.732</td>\n",
       "      <td>54225.446</td>\n",
       "      <td>1.2</td>\n",
       "      <td>151.089</td>\n",
       "      <td>10.79</td>\n",
       "      <td>19.1</td>\n",
       "      <td>24.6</td>\n",
       "      <td>2.77</td>\n",
       "      <td>78.86</td>\n",
       "      <td>0.926</td>\n",
       "    </tr>\n",
       "  </tbody>\n",
       "</table>\n",
       "<p>5 rows × 50 columns</p>\n",
       "</div>"
      ],
      "text/plain": [
       "       date  total_cases  new_cases  new_cases_smoothed  total_deaths  \\\n",
       "0  3/5/2020          184         77              23.857            12   \n",
       "1  3/6/2020          237         53              31.429            14   \n",
       "2  3/7/2020          403        166              54.000            17   \n",
       "3  3/8/2020          519        116              69.571            21   \n",
       "4  3/9/2020          594         75              77.000            22   \n",
       "\n",
       "   new_deaths  new_deaths_smoothed  total_cases_per_million  \\\n",
       "0           1                1.714                    0.556   \n",
       "1           2                2.000                    0.716   \n",
       "2           3                2.286                    1.218   \n",
       "3           4                2.857                    1.568   \n",
       "4           1                2.286                    1.795   \n",
       "\n",
       "   new_cases_per_million  new_cases_smoothed_per_million  ...  aged_70_older  \\\n",
       "0                  0.233                           0.072  ...          9.732   \n",
       "1                  0.160                           0.095  ...          9.732   \n",
       "2                  0.502                           0.163  ...          9.732   \n",
       "3                  0.350                           0.210  ...          9.732   \n",
       "4                  0.227                           0.233  ...          9.732   \n",
       "\n",
       "   gdp_per_capita  extreme_poverty  cardiovasc_death_rate  \\\n",
       "0       54225.446              1.2                151.089   \n",
       "1       54225.446              1.2                151.089   \n",
       "2       54225.446              1.2                151.089   \n",
       "3       54225.446              1.2                151.089   \n",
       "4       54225.446              1.2                151.089   \n",
       "\n",
       "   diabetes_prevalence  female_smokers  male_smokers  \\\n",
       "0                10.79            19.1          24.6   \n",
       "1                10.79            19.1          24.6   \n",
       "2                10.79            19.1          24.6   \n",
       "3                10.79            19.1          24.6   \n",
       "4                10.79            19.1          24.6   \n",
       "\n",
       "   hospital_beds_per_thousand  life_expectancy  human_development_index  \n",
       "0                        2.77            78.86                    0.926  \n",
       "1                        2.77            78.86                    0.926  \n",
       "2                        2.77            78.86                    0.926  \n",
       "3                        2.77            78.86                    0.926  \n",
       "4                        2.77            78.86                    0.926  \n",
       "\n",
       "[5 rows x 50 columns]"
      ]
     },
     "execution_count": 158,
     "metadata": {},
     "output_type": "execute_result"
    }
   ],
   "source": [
    "covid_national = covid_national.drop([\"iso_code\", \"continent\", \"location\", \"weekly_icu_admissions\", \"weekly_icu_admissions_per_million\", \"weekly_hosp_admissions\", \"weekly_hosp_admissions_per_million\", \"tests_units\", \"excess_mortality\", \"handwashing_facilities\"], axis = 1)\n",
    "covid_national.head()"
   ]
  },
  {
   "cell_type": "code",
   "execution_count": 159,
   "metadata": {},
   "outputs": [
    {
     "data": {
      "text/plain": [
       "(486, 50)"
      ]
     },
     "execution_count": 159,
     "metadata": {},
     "output_type": "execute_result"
    }
   ],
   "source": [
    "covid_national.shape"
   ]
  },
  {
   "cell_type": "markdown",
   "metadata": {},
   "source": [
    "# Data Visualization"
   ]
  },
  {
   "cell_type": "code",
   "execution_count": 86,
   "metadata": {},
   "outputs": [
    {
     "data": {
      "text/plain": [
       "[<matplotlib.lines.Line2D at 0x7fb1a11f6100>]"
      ]
     },
     "execution_count": 86,
     "metadata": {},
     "output_type": "execute_result"
    },
    {
     "data": {
      "image/png": "[encoded data removed]",
      "text/plain": [
       "<Figure size 432x288 with 1 Axes>"
      ]
     },
     "metadata": {
      "needs_background": "light"
     },
     "output_type": "display_data"
    }
   ],
   "source": [
    "plt.xlabel('Days Since March 3rd, 2020')\n",
    "plt.ylabel('Total Cases')\n",
    "plt.rcParams[\"figure.figsize\"] = [10,5]\n",
    "plt.title('Covid Cases in America over Time')\n",
    "x_vals = np.linspace(0, 486, 486)\n",
    "plt.plot(x_vals, covid_national[\"total_cases\"], 'b')"
   ]
  },
  {
   "cell_type": "code",
   "execution_count": 88,
   "metadata": {},
   "outputs": [
    {
     "data": {
      "text/plain": [
       "[<matplotlib.lines.Line2D at 0x7fb186ef0940>]"
      ]
     },
     "execution_count": 88,
     "metadata": {},
     "output_type": "execute_result"
    },
    {
     "data": {
      "image/png": "[encoded data removed]",
      "text/plain": [
       "<Figure size 720x360 with 1 Axes>"
      ]
     },
     "metadata": {
      "needs_background": "light"
     },
     "output_type": "display_data"
    }
   ],
   "source": [
    "plt.xlabel('Days Since March 3rd, 2020')\n",
    "plt.ylabel('Cases Per Day')\n",
    "plt.rcParams[\"figure.figsize\"] = [10,5]\n",
    "plt.title('Rate of Infection in America over Time')\n",
    "x_vals = np.linspace(0, 486, 486)\n",
    "plt.plot(x_vals, covid_national[\"new_cases\"], 'b')"
   ]
  },
  {
   "cell_type": "code",
   "execution_count": 89,
   "metadata": {},
   "outputs": [
    {
     "data": {
      "text/plain": [
       "[<matplotlib.lines.Line2D at 0x7fb186f4b700>]"
      ]
     },
     "execution_count": 89,
     "metadata": {},
     "output_type": "execute_result"
    },
    {
     "data": {
      "image/png": "[encoded data removed]",
      "text/plain": [
       "<Figure size 720x360 with 1 Axes>"
      ]
     },
     "metadata": {
      "needs_background": "light"
     },
     "output_type": "display_data"
    }
   ],
   "source": [
    "plt.xlabel('Days Since March 3rd, 2020')\n",
    "plt.ylabel('Total Deaths')\n",
    "plt.rcParams[\"figure.figsize\"] = [10,5]\n",
    "plt.title('Covid Deaths in America Over Time')\n",
    "x_vals = np.linspace(0, 486, 486)\n",
    "plt.plot(x_vals, covid_national[\"total_deaths\"], 'b')"
   ]
  },
  {
   "cell_type": "code",
   "execution_count": 90,
   "metadata": {},
   "outputs": [
    {
     "data": {
      "text/plain": [
       "[<matplotlib.lines.Line2D at 0x7fb1874860d0>]"
      ]
     },
     "execution_count": 90,
     "metadata": {},
     "output_type": "execute_result"
    },
    {
     "data": {
      "image/png": "[encoded data removed]",
      "text/plain": [
       "<Figure size 720x360 with 1 Axes>"
      ]
     },
     "metadata": {
      "needs_background": "light"
     },
     "output_type": "display_data"
    }
   ],
   "source": [
    "plt.xlabel('Days Since March 3rd, 2020')\n",
    "plt.ylabel('Deaths Per Day')\n",
    "plt.rcParams[\"figure.figsize\"] = [10,5]\n",
    "plt.title('Covid Death Rate in America Over Time')\n",
    "x_vals = np.linspace(0, 486, 486)\n",
    "plt.plot(x_vals, covid_national[\"new_deaths\"], 'b')"
   ]
  },
  {
   "cell_type": "code",
   "execution_count": 93,
   "metadata": {},
   "outputs": [
    {
     "data": {
      "text/plain": [
       "[<matplotlib.lines.Line2D at 0x7fb187c2cd00>]"
      ]
     },
     "execution_count": 93,
     "metadata": {},
     "output_type": "execute_result"
    },
    {
     "data": {
      "image/png": "[encoded data removed]",
      "text/plain": [
       "<Figure size 720x360 with 1 Axes>"
      ]
     },
     "metadata": {
      "needs_background": "light"
     },
     "output_type": "display_data"
    }
   ],
   "source": [
    "plt.xlabel('Days Since March 3rd, 2020')\n",
    "plt.ylabel('Total Vaccinations (In Ten Millions)')\n",
    "plt.rcParams[\"figure.figsize\"] = [10,5]\n",
    "plt.title('Covid Vaccinations in America Over Time')\n",
    "x_vals = np.linspace(0, 486, 486)\n",
    "plt.plot(x_vals, covid_national[\"people_fully_vaccinated\"], 'b')"
   ]
  },
  {
   "cell_type": "code",
   "execution_count": 100,
   "metadata": {},
   "outputs": [
    {
     "data": {
      "text/plain": [
       "[<matplotlib.lines.Line2D at 0x7fb188252790>]"
      ]
     },
     "execution_count": 100,
     "metadata": {},
     "output_type": "execute_result"
    },
    {
     "data": {
      "image/png": "[encoded data removed]",
      "text/plain": [
       "<Figure size 720x360 with 1 Axes>"
      ]
     },
     "metadata": {
      "needs_background": "light"
     },
     "output_type": "display_data"
    }
   ],
   "source": [
    "plt.xlabel('Cases')\n",
    "plt.ylabel('Total Vaccinated')\n",
    "plt.title('Cases vs People Vaccinated in America')\n",
    "plt.scatter(covid_national[\"new_cases\"], covid_national[\"people_fully_vaccinated\"], c = \"b\")\n",
    "covid_national_temp = covid_national.dropna(inplace=True)\n",
    "x = np.array(covid_national[\"new_cases\"])\n",
    "y = np.array(covid_national[\"people_fully_vaccinated\"])\n",
    "m, b = np.polyfit(x,y,1)\n",
    "plt.plot(x, m*x + b)"
   ]
  },
  {
   "cell_type": "code",
   "execution_count": 180,
   "metadata": {},
   "outputs": [
    {
     "name": "stdout",
     "output_type": "stream",
     "text": [
      "-0.7710218434946624\n"
     ]
    }
   ],
   "source": [
    "print(covid_national[\"people_fully_vaccinated\"].corr(covid_national[\"new_cases\"]))"
   ]
  },
  {
   "cell_type": "code",
   "execution_count": 177,
   "metadata": {},
   "outputs": [
    {
     "data": {
      "text/plain": [
       "[<matplotlib.lines.Line2D at 0x7fb1898da520>]"
      ]
     },
     "execution_count": 177,
     "metadata": {},
     "output_type": "execute_result"
    },
    {
     "data": {
      "image/png": "[encoded data removed]",
      "text/plain": [
       "<Figure size 720x360 with 1 Axes>"
      ]
     },
     "metadata": {
      "needs_background": "light"
     },
     "output_type": "display_data"
    }
   ],
   "source": [
    "plt.xlabel('Deaths')\n",
    "plt.ylabel('Total Vaccinated')\n",
    "plt.rcParams[\"figure.figsize\"] = [10,5]\n",
    "plt.title('Deaths vs People Vaccinated in America')\n",
    "plt.scatter(covid_national[\"new_deaths\"], covid_national[\"people_fully_vaccinated\"], c = \"b\")\n",
    "covid_national_temp = covid_national.dropna(inplace=True)\n",
    "x = np.array(covid_national[\"new_deaths\"])\n",
    "y = np.array(covid_national[\"people_fully_vaccinated\"])\n",
    "m, b = np.polyfit(x,y,1)\n",
    "plt.plot(x, m*x + b)"
   ]
  },
  {
   "cell_type": "markdown",
   "metadata": {},
   "source": [
    "# Predicting Future Covid Cases in America with Linear Regression"
   ]
  },
  {
   "cell_type": "code",
   "execution_count": 124,
   "metadata": {},
   "outputs": [],
   "source": [
    "X = covid_national.filter(['people_fully_vaccinated', 'positive_rate', 'new_cases'])\n",
    "y = covid_national['new_deaths']\n",
    "\n",
    "from sklearn.model_selection import train_test_split\n",
    "\n",
    "X_train, X_test, y_train, y_test = train_test_split(X, y, test_size=0.20, random_state=0)\n",
    "\n",
    "from sklearn.preprocessing import StandardScaler\n",
    "sc = StandardScaler()\n",
    "#scaling the training set\n",
    "X_train = sc.fit_transform(X_train)\n",
    "#scaling the test set\n",
    "X_test = sc.transform(X_test)"
   ]
  },
  {
   "cell_type": "code",
   "execution_count": 125,
   "metadata": {},
   "outputs": [
    {
     "data": {
      "text/html": [
       "<div>\n",
       "<style scoped>\n",
       "    .dataframe tbody tr th:only-of-type {\n",
       "        vertical-align: middle;\n",
       "    }\n",
       "\n",
       "    .dataframe tbody tr th {\n",
       "        vertical-align: top;\n",
       "    }\n",
       "\n",
       "    .dataframe thead th {\n",
       "        text-align: right;\n",
       "    }\n",
       "</style>\n",
       "<table border=\"1\" class=\"dataframe\">\n",
       "  <thead>\n",
       "    <tr style=\"text-align: right;\">\n",
       "      <th></th>\n",
       "      <th>people_fully_vaccinated</th>\n",
       "      <th>positive_rate</th>\n",
       "      <th>new_cases</th>\n",
       "    </tr>\n",
       "  </thead>\n",
       "  <tbody>\n",
       "    <tr>\n",
       "      <th>315</th>\n",
       "      <td>1342086.0</td>\n",
       "      <td>0.126</td>\n",
       "      <td>235766</td>\n",
       "    </tr>\n",
       "    <tr>\n",
       "      <th>316</th>\n",
       "      <td>1610524.0</td>\n",
       "      <td>0.121</td>\n",
       "      <td>242780</td>\n",
       "    </tr>\n",
       "    <tr>\n",
       "      <th>321</th>\n",
       "      <td>2161419.0</td>\n",
       "      <td>0.109</td>\n",
       "      <td>183261</td>\n",
       "    </tr>\n",
       "    <tr>\n",
       "      <th>322</th>\n",
       "      <td>2394961.0</td>\n",
       "      <td>0.107</td>\n",
       "      <td>193856</td>\n",
       "    </tr>\n",
       "    <tr>\n",
       "      <th>323</th>\n",
       "      <td>2756953.0</td>\n",
       "      <td>0.104</td>\n",
       "      <td>190760</td>\n",
       "    </tr>\n",
       "  </tbody>\n",
       "</table>\n",
       "</div>"
      ],
      "text/plain": [
       "     people_fully_vaccinated  positive_rate  new_cases\n",
       "315                1342086.0          0.126     235766\n",
       "316                1610524.0          0.121     242780\n",
       "321                2161419.0          0.109     183261\n",
       "322                2394961.0          0.107     193856\n",
       "323                2756953.0          0.104     190760"
      ]
     },
     "execution_count": 125,
     "metadata": {},
     "output_type": "execute_result"
    }
   ],
   "source": [
    "X.head()"
   ]
  },
  {
   "cell_type": "code",
   "execution_count": 126,
   "metadata": {},
   "outputs": [
    {
     "name": "stdout",
     "output_type": "stream",
     "text": [
      "Mean Absolute Error: 693.8623696510882\n",
      "Mean Squared Error: 1232939.169278202\n",
      "Root Mean Squared Error: 1110.3779398376942\n"
     ]
    }
   ],
   "source": [
    "from sklearn import svm\n",
    "svm_reg = svm.SVR()\n",
    "\n",
    "regressor = svm_reg.fit(X_train, y_train)\n",
    "y_pred = regressor.predict(X_test)\n",
    "\n",
    "from sklearn import metrics \n",
    "\n",
    "print('Mean Absolute Error:', metrics.mean_absolute_error(y_test, y_pred))\n",
    "print('Mean Squared Error:', metrics.mean_squared_error(y_test, y_pred))\n",
    "print('Root Mean Squared Error:', np.sqrt(metrics.mean_squared_error(y_test, y_pred)))"
   ]
  },
  {
   "cell_type": "code",
   "execution_count": 134,
   "metadata": {},
   "outputs": [
    {
     "data": {
      "text/plain": [
       "[<matplotlib.lines.Line2D at 0x7fb188d06820>]"
      ]
     },
     "execution_count": 134,
     "metadata": {},
     "output_type": "execute_result"
    },
    {
     "data": {
      "image/png": "[encoded data removed]",
      "text/plain": [
       "<Figure size 432x288 with 1 Axes>"
      ]
     },
     "metadata": {
      "needs_background": "light"
     },
     "output_type": "display_data"
    }
   ],
   "source": [
    "plt.scatter(X_test[:,0], y_test, color = 'black')\n",
    "plt.plot(X_test[:,0], y_pred, color = 'blue')"
   ]
  },
  {
   "cell_type": "code",
   "execution_count": 161,
   "metadata": {},
   "outputs": [
    {
     "data": {
      "text/html": [
       "<div>\n",
       "<style scoped>\n",
       "    .dataframe tbody tr th:only-of-type {\n",
       "        vertical-align: middle;\n",
       "    }\n",
       "\n",
       "    .dataframe tbody tr th {\n",
       "        vertical-align: top;\n",
       "    }\n",
       "\n",
       "    .dataframe thead th {\n",
       "        text-align: right;\n",
       "    }\n",
       "</style>\n",
       "<table border=\"1\" class=\"dataframe\">\n",
       "  <thead>\n",
       "    <tr style=\"text-align: right;\">\n",
       "      <th></th>\n",
       "      <th>total_cases</th>\n",
       "      <th>new_cases</th>\n",
       "      <th>new_cases_smoothed</th>\n",
       "      <th>total_deaths</th>\n",
       "      <th>new_deaths</th>\n",
       "      <th>new_deaths_smoothed</th>\n",
       "      <th>total_cases_per_million</th>\n",
       "      <th>new_cases_per_million</th>\n",
       "      <th>new_cases_smoothed_per_million</th>\n",
       "      <th>total_deaths_per_million</th>\n",
       "      <th>...</th>\n",
       "      <th>aged_70_older</th>\n",
       "      <th>gdp_per_capita</th>\n",
       "      <th>extreme_poverty</th>\n",
       "      <th>cardiovasc_death_rate</th>\n",
       "      <th>diabetes_prevalence</th>\n",
       "      <th>female_smokers</th>\n",
       "      <th>male_smokers</th>\n",
       "      <th>hospital_beds_per_thousand</th>\n",
       "      <th>life_expectancy</th>\n",
       "      <th>human_development_index</th>\n",
       "    </tr>\n",
       "  </thead>\n",
       "  <tbody>\n",
       "    <tr>\n",
       "      <th>count</th>\n",
       "      <td>1.480000e+02</td>\n",
       "      <td>148.000000</td>\n",
       "      <td>148.000000</td>\n",
       "      <td>148.000000</td>\n",
       "      <td>148.000000</td>\n",
       "      <td>148.000000</td>\n",
       "      <td>148.000000</td>\n",
       "      <td>148.000000</td>\n",
       "      <td>148.000000</td>\n",
       "      <td>148.000000</td>\n",
       "      <td>...</td>\n",
       "      <td>1.480000e+02</td>\n",
       "      <td>1.480000e+02</td>\n",
       "      <td>1.480000e+02</td>\n",
       "      <td>1.480000e+02</td>\n",
       "      <td>1.480000e+02</td>\n",
       "      <td>1.480000e+02</td>\n",
       "      <td>1.480000e+02</td>\n",
       "      <td>1.480000e+02</td>\n",
       "      <td>1.480000e+02</td>\n",
       "      <td>1.480000e+02</td>\n",
       "    </tr>\n",
       "    <tr>\n",
       "      <th>mean</th>\n",
       "      <td>3.032618e+07</td>\n",
       "      <td>64408.682432</td>\n",
       "      <td>67347.094568</td>\n",
       "      <td>540641.358108</td>\n",
       "      <td>1326.013514</td>\n",
       "      <td>1347.009628</td>\n",
       "      <td>91619.134547</td>\n",
       "      <td>194.586581</td>\n",
       "      <td>203.463872</td>\n",
       "      <td>1633.344486</td>\n",
       "      <td>...</td>\n",
       "      <td>9.732000e+00</td>\n",
       "      <td>5.422545e+04</td>\n",
       "      <td>1.200000e+00</td>\n",
       "      <td>1.510890e+02</td>\n",
       "      <td>1.079000e+01</td>\n",
       "      <td>1.910000e+01</td>\n",
       "      <td>2.460000e+01</td>\n",
       "      <td>2.770000e+00</td>\n",
       "      <td>7.886000e+01</td>\n",
       "      <td>9.260000e-01</td>\n",
       "    </tr>\n",
       "    <tr>\n",
       "      <th>std</th>\n",
       "      <td>2.644557e+06</td>\n",
       "      <td>44914.449154</td>\n",
       "      <td>45872.582205</td>\n",
       "      <td>53068.675653</td>\n",
       "      <td>1094.368572</td>\n",
       "      <td>956.964618</td>\n",
       "      <td>7989.534628</td>\n",
       "      <td>135.692093</td>\n",
       "      <td>138.586781</td>\n",
       "      <td>160.327085</td>\n",
       "      <td>...</td>\n",
       "      <td>1.425911e-14</td>\n",
       "      <td>2.117193e-10</td>\n",
       "      <td>1.782389e-15</td>\n",
       "      <td>2.851822e-14</td>\n",
       "      <td>2.138866e-14</td>\n",
       "      <td>5.347166e-14</td>\n",
       "      <td>6.060121e-14</td>\n",
       "      <td>4.010374e-15</td>\n",
       "      <td>8.555465e-14</td>\n",
       "      <td>4.455972e-16</td>\n",
       "    </tr>\n",
       "    <tr>\n",
       "      <th>min</th>\n",
       "      <td>2.339383e+07</td>\n",
       "      <td>4739.000000</td>\n",
       "      <td>12376.714000</td>\n",
       "      <td>395937.000000</td>\n",
       "      <td>80.000000</td>\n",
       "      <td>233.714000</td>\n",
       "      <td>70675.667000</td>\n",
       "      <td>14.317000</td>\n",
       "      <td>37.392000</td>\n",
       "      <td>1196.175000</td>\n",
       "      <td>...</td>\n",
       "      <td>9.732000e+00</td>\n",
       "      <td>5.422545e+04</td>\n",
       "      <td>1.200000e+00</td>\n",
       "      <td>1.510890e+02</td>\n",
       "      <td>1.079000e+01</td>\n",
       "      <td>1.910000e+01</td>\n",
       "      <td>2.460000e+01</td>\n",
       "      <td>2.770000e+00</td>\n",
       "      <td>7.886000e+01</td>\n",
       "      <td>9.260000e-01</td>\n",
       "    </tr>\n",
       "    <tr>\n",
       "      <th>25%</th>\n",
       "      <td>2.851605e+07</td>\n",
       "      <td>33671.750000</td>\n",
       "      <td>38749.821500</td>\n",
       "      <td>511837.500000</td>\n",
       "      <td>560.250000</td>\n",
       "      <td>665.321250</td>\n",
       "      <td>86150.527750</td>\n",
       "      <td>101.726250</td>\n",
       "      <td>117.068000</td>\n",
       "      <td>1546.324500</td>\n",
       "      <td>...</td>\n",
       "      <td>9.732000e+00</td>\n",
       "      <td>5.422545e+04</td>\n",
       "      <td>1.200000e+00</td>\n",
       "      <td>1.510890e+02</td>\n",
       "      <td>1.079000e+01</td>\n",
       "      <td>1.910000e+01</td>\n",
       "      <td>2.460000e+01</td>\n",
       "      <td>2.770000e+00</td>\n",
       "      <td>7.886000e+01</td>\n",
       "      <td>9.260000e-01</td>\n",
       "    </tr>\n",
       "    <tr>\n",
       "      <th>50%</th>\n",
       "      <td>3.069495e+07</td>\n",
       "      <td>58008.500000</td>\n",
       "      <td>60252.857000</td>\n",
       "      <td>555403.500000</td>\n",
       "      <td>874.500000</td>\n",
       "      <td>980.286000</td>\n",
       "      <td>92733.244500</td>\n",
       "      <td>175.250500</td>\n",
       "      <td>182.031500</td>\n",
       "      <td>1677.942500</td>\n",
       "      <td>...</td>\n",
       "      <td>9.732000e+00</td>\n",
       "      <td>5.422545e+04</td>\n",
       "      <td>1.200000e+00</td>\n",
       "      <td>1.510890e+02</td>\n",
       "      <td>1.079000e+01</td>\n",
       "      <td>1.910000e+01</td>\n",
       "      <td>2.460000e+01</td>\n",
       "      <td>2.770000e+00</td>\n",
       "      <td>7.886000e+01</td>\n",
       "      <td>9.260000e-01</td>\n",
       "    </tr>\n",
       "    <tr>\n",
       "      <th>75%</th>\n",
       "      <td>3.275758e+07</td>\n",
       "      <td>77356.000000</td>\n",
       "      <td>69610.714500</td>\n",
       "      <td>582497.750000</td>\n",
       "      <td>1813.250000</td>\n",
       "      <td>1971.857250</td>\n",
       "      <td>98964.693250</td>\n",
       "      <td>233.702250</td>\n",
       "      <td>210.302750</td>\n",
       "      <td>1759.797750</td>\n",
       "      <td>...</td>\n",
       "      <td>9.732000e+00</td>\n",
       "      <td>5.422545e+04</td>\n",
       "      <td>1.200000e+00</td>\n",
       "      <td>1.510890e+02</td>\n",
       "      <td>1.079000e+01</td>\n",
       "      <td>1.910000e+01</td>\n",
       "      <td>2.460000e+01</td>\n",
       "      <td>2.770000e+00</td>\n",
       "      <td>7.886000e+01</td>\n",
       "      <td>9.260000e-01</td>\n",
       "    </tr>\n",
       "    <tr>\n",
       "      <th>max</th>\n",
       "      <td>3.371406e+07</td>\n",
       "      <td>242780.000000</td>\n",
       "      <td>239619.571000</td>\n",
       "      <td>605493.000000</td>\n",
       "      <td>4416.000000</td>\n",
       "      <td>3420.571000</td>\n",
       "      <td>101854.364000</td>\n",
       "      <td>733.468000</td>\n",
       "      <td>723.920000</td>\n",
       "      <td>1829.269000</td>\n",
       "      <td>...</td>\n",
       "      <td>9.732000e+00</td>\n",
       "      <td>5.422545e+04</td>\n",
       "      <td>1.200000e+00</td>\n",
       "      <td>1.510890e+02</td>\n",
       "      <td>1.079000e+01</td>\n",
       "      <td>1.910000e+01</td>\n",
       "      <td>2.460000e+01</td>\n",
       "      <td>2.770000e+00</td>\n",
       "      <td>7.886000e+01</td>\n",
       "      <td>9.260000e-01</td>\n",
       "    </tr>\n",
       "  </tbody>\n",
       "</table>\n",
       "<p>8 rows × 49 columns</p>\n",
       "</div>"
      ],
      "text/plain": [
       "        total_cases      new_cases  new_cases_smoothed   total_deaths  \\\n",
       "count  1.480000e+02     148.000000          148.000000     148.000000   \n",
       "mean   3.032618e+07   64408.682432        67347.094568  540641.358108   \n",
       "std    2.644557e+06   44914.449154        45872.582205   53068.675653   \n",
       "min    2.339383e+07    4739.000000        12376.714000  395937.000000   \n",
       "25%    2.851605e+07   33671.750000        38749.821500  511837.500000   \n",
       "50%    3.069495e+07   58008.500000        60252.857000  555403.500000   \n",
       "75%    3.275758e+07   77356.000000        69610.714500  582497.750000   \n",
       "max    3.371406e+07  242780.000000       239619.571000  605493.000000   \n",
       "\n",
       "        new_deaths  new_deaths_smoothed  total_cases_per_million  \\\n",
       "count   148.000000           148.000000               148.000000   \n",
       "mean   1326.013514          1347.009628             91619.134547   \n",
       "std    1094.368572           956.964618              7989.534628   \n",
       "min      80.000000           233.714000             70675.667000   \n",
       "25%     560.250000           665.321250             86150.527750   \n",
       "50%     874.500000           980.286000             92733.244500   \n",
       "75%    1813.250000          1971.857250             98964.693250   \n",
       "max    4416.000000          3420.571000            101854.364000   \n",
       "\n",
       "       new_cases_per_million  new_cases_smoothed_per_million  \\\n",
       "count             148.000000                      148.000000   \n",
       "mean              194.586581                      203.463872   \n",
       "std               135.692093                      138.586781   \n",
       "min                14.317000                       37.392000   \n",
       "25%               101.726250                      117.068000   \n",
       "50%               175.250500                      182.031500   \n",
       "75%               233.702250                      210.302750   \n",
       "max               733.468000                      723.920000   \n",
       "\n",
       "       total_deaths_per_million  ...  aged_70_older  gdp_per_capita  \\\n",
       "count                148.000000  ...   1.480000e+02    1.480000e+02   \n",
       "mean                1633.344486  ...   9.732000e+00    5.422545e+04   \n",
       "std                  160.327085  ...   1.425911e-14    2.117193e-10   \n",
       "min                 1196.175000  ...   9.732000e+00    5.422545e+04   \n",
       "25%                 1546.324500  ...   9.732000e+00    5.422545e+04   \n",
       "50%                 1677.942500  ...   9.732000e+00    5.422545e+04   \n",
       "75%                 1759.797750  ...   9.732000e+00    5.422545e+04   \n",
       "max                 1829.269000  ...   9.732000e+00    5.422545e+04   \n",
       "\n",
       "       extreme_poverty  cardiovasc_death_rate  diabetes_prevalence  \\\n",
       "count     1.480000e+02           1.480000e+02         1.480000e+02   \n",
       "mean      1.200000e+00           1.510890e+02         1.079000e+01   \n",
       "std       1.782389e-15           2.851822e-14         2.138866e-14   \n",
       "min       1.200000e+00           1.510890e+02         1.079000e+01   \n",
       "25%       1.200000e+00           1.510890e+02         1.079000e+01   \n",
       "50%       1.200000e+00           1.510890e+02         1.079000e+01   \n",
       "75%       1.200000e+00           1.510890e+02         1.079000e+01   \n",
       "max       1.200000e+00           1.510890e+02         1.079000e+01   \n",
       "\n",
       "       female_smokers  male_smokers  hospital_beds_per_thousand  \\\n",
       "count    1.480000e+02  1.480000e+02                1.480000e+02   \n",
       "mean     1.910000e+01  2.460000e+01                2.770000e+00   \n",
       "std      5.347166e-14  6.060121e-14                4.010374e-15   \n",
       "min      1.910000e+01  2.460000e+01                2.770000e+00   \n",
       "25%      1.910000e+01  2.460000e+01                2.770000e+00   \n",
       "50%      1.910000e+01  2.460000e+01                2.770000e+00   \n",
       "75%      1.910000e+01  2.460000e+01                2.770000e+00   \n",
       "max      1.910000e+01  2.460000e+01                2.770000e+00   \n",
       "\n",
       "       life_expectancy  human_development_index  \n",
       "count     1.480000e+02             1.480000e+02  \n",
       "mean      7.886000e+01             9.260000e-01  \n",
       "std       8.555465e-14             4.455972e-16  \n",
       "min       7.886000e+01             9.260000e-01  \n",
       "25%       7.886000e+01             9.260000e-01  \n",
       "50%       7.886000e+01             9.260000e-01  \n",
       "75%       7.886000e+01             9.260000e-01  \n",
       "max       7.886000e+01             9.260000e-01  \n",
       "\n",
       "[8 rows x 49 columns]"
      ]
     },
     "execution_count": 161,
     "metadata": {},
     "output_type": "execute_result"
    }
   ],
   "source": [
    "covid_national.describe()"
   ]
  },
  {
   "cell_type": "code",
   "execution_count": 162,
   "metadata": {},
   "outputs": [
    {
     "data": {
      "text/plain": [
       "(326.5, 2079.2)"
      ]
     },
     "execution_count": 162,
     "metadata": {},
     "output_type": "execute_result"
    }
   ],
   "source": [
    "min_threshold, max_threshold = covid_national.new_deaths.quantile([0.1, 0.8])\n",
    "min_threshold, max_threshold"
   ]
  },
  {
   "cell_type": "code",
   "execution_count": 163,
   "metadata": {},
   "outputs": [],
   "source": [
    "covid_national_normal = covid_national[covid_national.new_deaths < max_threshold]"
   ]
  },
  {
   "cell_type": "code",
   "execution_count": 164,
   "metadata": {},
   "outputs": [
    {
     "data": {
      "text/html": [
       "<div>\n",
       "<style scoped>\n",
       "    .dataframe tbody tr th:only-of-type {\n",
       "        vertical-align: middle;\n",
       "    }\n",
       "\n",
       "    .dataframe tbody tr th {\n",
       "        vertical-align: top;\n",
       "    }\n",
       "\n",
       "    .dataframe thead th {\n",
       "        text-align: right;\n",
       "    }\n",
       "</style>\n",
       "<table border=\"1\" class=\"dataframe\">\n",
       "  <thead>\n",
       "    <tr style=\"text-align: right;\">\n",
       "      <th></th>\n",
       "      <th>date</th>\n",
       "      <th>total_cases</th>\n",
       "      <th>new_cases</th>\n",
       "      <th>new_cases_smoothed</th>\n",
       "      <th>total_deaths</th>\n",
       "      <th>new_deaths</th>\n",
       "      <th>new_deaths_smoothed</th>\n",
       "      <th>total_cases_per_million</th>\n",
       "      <th>new_cases_per_million</th>\n",
       "      <th>new_cases_smoothed_per_million</th>\n",
       "      <th>...</th>\n",
       "      <th>aged_70_older</th>\n",
       "      <th>gdp_per_capita</th>\n",
       "      <th>extreme_poverty</th>\n",
       "      <th>cardiovasc_death_rate</th>\n",
       "      <th>diabetes_prevalence</th>\n",
       "      <th>female_smokers</th>\n",
       "      <th>male_smokers</th>\n",
       "      <th>hospital_beds_per_thousand</th>\n",
       "      <th>life_expectancy</th>\n",
       "      <th>human_development_index</th>\n",
       "    </tr>\n",
       "  </thead>\n",
       "  <tbody>\n",
       "    <tr>\n",
       "      <th>325</th>\n",
       "      <td>1/24/2021</td>\n",
       "      <td>25206050</td>\n",
       "      <td>131198</td>\n",
       "      <td>169949.714</td>\n",
       "      <td>427082</td>\n",
       "      <td>1862</td>\n",
       "      <td>3131.714</td>\n",
       "      <td>76150.599</td>\n",
       "      <td>396.365</td>\n",
       "      <td>513.439</td>\n",
       "      <td>...</td>\n",
       "      <td>9.732</td>\n",
       "      <td>54225.446</td>\n",
       "      <td>1.2</td>\n",
       "      <td>151.089</td>\n",
       "      <td>10.79</td>\n",
       "      <td>19.1</td>\n",
       "      <td>24.6</td>\n",
       "      <td>2.77</td>\n",
       "      <td>78.86</td>\n",
       "      <td>0.926</td>\n",
       "    </tr>\n",
       "    <tr>\n",
       "      <th>326</th>\n",
       "      <td>1/25/2021</td>\n",
       "      <td>25357727</td>\n",
       "      <td>151677</td>\n",
       "      <td>171103.857</td>\n",
       "      <td>429062</td>\n",
       "      <td>1980</td>\n",
       "      <td>3192.000</td>\n",
       "      <td>76608.834</td>\n",
       "      <td>458.235</td>\n",
       "      <td>516.926</td>\n",
       "      <td>...</td>\n",
       "      <td>9.732</td>\n",
       "      <td>54225.446</td>\n",
       "      <td>1.2</td>\n",
       "      <td>151.089</td>\n",
       "      <td>10.79</td>\n",
       "      <td>19.1</td>\n",
       "      <td>24.6</td>\n",
       "      <td>2.77</td>\n",
       "      <td>78.86</td>\n",
       "      <td>0.926</td>\n",
       "    </tr>\n",
       "    <tr>\n",
       "      <th>332</th>\n",
       "      <td>1/31/2021</td>\n",
       "      <td>26249342</td>\n",
       "      <td>112152</td>\n",
       "      <td>149041.714</td>\n",
       "      <td>449340</td>\n",
       "      <td>1862</td>\n",
       "      <td>3179.714</td>\n",
       "      <td>79302.514</td>\n",
       "      <td>338.825</td>\n",
       "      <td>450.273</td>\n",
       "      <td>...</td>\n",
       "      <td>9.732</td>\n",
       "      <td>54225.446</td>\n",
       "      <td>1.2</td>\n",
       "      <td>151.089</td>\n",
       "      <td>10.79</td>\n",
       "      <td>19.1</td>\n",
       "      <td>24.6</td>\n",
       "      <td>2.77</td>\n",
       "      <td>78.86</td>\n",
       "      <td>0.926</td>\n",
       "    </tr>\n",
       "    <tr>\n",
       "      <th>339</th>\n",
       "      <td>2/7/2021</td>\n",
       "      <td>27073661</td>\n",
       "      <td>89746</td>\n",
       "      <td>117759.857</td>\n",
       "      <td>470257</td>\n",
       "      <td>1436</td>\n",
       "      <td>2988.143</td>\n",
       "      <td>81792.884</td>\n",
       "      <td>271.134</td>\n",
       "      <td>355.767</td>\n",
       "      <td>...</td>\n",
       "      <td>9.732</td>\n",
       "      <td>54225.446</td>\n",
       "      <td>1.2</td>\n",
       "      <td>151.089</td>\n",
       "      <td>10.79</td>\n",
       "      <td>19.1</td>\n",
       "      <td>24.6</td>\n",
       "      <td>2.77</td>\n",
       "      <td>78.86</td>\n",
       "      <td>0.926</td>\n",
       "    </tr>\n",
       "    <tr>\n",
       "      <th>340</th>\n",
       "      <td>2/8/2021</td>\n",
       "      <td>27164099</td>\n",
       "      <td>90438</td>\n",
       "      <td>111397.429</td>\n",
       "      <td>471877</td>\n",
       "      <td>1620</td>\n",
       "      <td>2922.429</td>\n",
       "      <td>82066.108</td>\n",
       "      <td>273.224</td>\n",
       "      <td>336.545</td>\n",
       "      <td>...</td>\n",
       "      <td>9.732</td>\n",
       "      <td>54225.446</td>\n",
       "      <td>1.2</td>\n",
       "      <td>151.089</td>\n",
       "      <td>10.79</td>\n",
       "      <td>19.1</td>\n",
       "      <td>24.6</td>\n",
       "      <td>2.77</td>\n",
       "      <td>78.86</td>\n",
       "      <td>0.926</td>\n",
       "    </tr>\n",
       "  </tbody>\n",
       "</table>\n",
       "<p>5 rows × 50 columns</p>\n",
       "</div>"
      ],
      "text/plain": [
       "          date  total_cases  new_cases  new_cases_smoothed  total_deaths  \\\n",
       "325  1/24/2021     25206050     131198          169949.714        427082   \n",
       "326  1/25/2021     25357727     151677          171103.857        429062   \n",
       "332  1/31/2021     26249342     112152          149041.714        449340   \n",
       "339   2/7/2021     27073661      89746          117759.857        470257   \n",
       "340   2/8/2021     27164099      90438          111397.429        471877   \n",
       "\n",
       "     new_deaths  new_deaths_smoothed  total_cases_per_million  \\\n",
       "325        1862             3131.714                76150.599   \n",
       "326        1980             3192.000                76608.834   \n",
       "332        1862             3179.714                79302.514   \n",
       "339        1436             2988.143                81792.884   \n",
       "340        1620             2922.429                82066.108   \n",
       "\n",
       "     new_cases_per_million  new_cases_smoothed_per_million  ...  \\\n",
       "325                396.365                         513.439  ...   \n",
       "326                458.235                         516.926  ...   \n",
       "332                338.825                         450.273  ...   \n",
       "339                271.134                         355.767  ...   \n",
       "340                273.224                         336.545  ...   \n",
       "\n",
       "     aged_70_older  gdp_per_capita  extreme_poverty  cardiovasc_death_rate  \\\n",
       "325          9.732       54225.446              1.2                151.089   \n",
       "326          9.732       54225.446              1.2                151.089   \n",
       "332          9.732       54225.446              1.2                151.089   \n",
       "339          9.732       54225.446              1.2                151.089   \n",
       "340          9.732       54225.446              1.2                151.089   \n",
       "\n",
       "     diabetes_prevalence  female_smokers  male_smokers  \\\n",
       "325                10.79            19.1          24.6   \n",
       "326                10.79            19.1          24.6   \n",
       "332                10.79            19.1          24.6   \n",
       "339                10.79            19.1          24.6   \n",
       "340                10.79            19.1          24.6   \n",
       "\n",
       "     hospital_beds_per_thousand  life_expectancy  human_development_index  \n",
       "325                        2.77            78.86                    0.926  \n",
       "326                        2.77            78.86                    0.926  \n",
       "332                        2.77            78.86                    0.926  \n",
       "339                        2.77            78.86                    0.926  \n",
       "340                        2.77            78.86                    0.926  \n",
       "\n",
       "[5 rows x 50 columns]"
      ]
     },
     "execution_count": 164,
     "metadata": {},
     "output_type": "execute_result"
    }
   ],
   "source": [
    "covid_national_normal.head()"
   ]
  },
  {
   "cell_type": "code",
   "execution_count": 173,
   "metadata": {},
   "outputs": [],
   "source": [
    "X = covid_national_normal.filter(['people_fully_vaccinated', 'positive_rate', 'new_cases'])\n",
    "y = covid_national_normal['new_deaths']\n",
    "\n",
    "from sklearn.model_selection import train_test_split\n",
    "\n",
    "X_train, X_test, y_train, y_test = train_test_split(X, y, test_size=0.20, random_state=0)\n",
    "\n",
    "from sklearn.preprocessing import StandardScaler\n",
    "sc = StandardScaler()\n",
    "#scaling the training set\n",
    "X_train = sc.fit_transform(X_train)\n",
    "#scaling the test set\n",
    "X_test = sc.transform(X_test)"
   ]
  },
  {
   "cell_type": "code",
   "execution_count": 174,
   "metadata": {},
   "outputs": [
    {
     "name": "stdout",
     "output_type": "stream",
     "text": [
      "Mean Absolute Error: 353.89812303030163\n",
      "Mean Squared Error: 206171.6854932144\n",
      "Root Mean Squared Error: 454.06132349410075\n"
     ]
    }
   ],
   "source": [
    "from sklearn import svm\n",
    "svm_reg = svm.SVR()\n",
    "\n",
    "regressor = svm_reg.fit(X_train, y_train)\n",
    "y_pred = regressor.predict(X_test)\n",
    "\n",
    "from sklearn import metrics \n",
    "\n",
    "print('Mean Absolute Error:', metrics.mean_absolute_error(y_test, y_pred))\n",
    "print('Mean Squared Error:', metrics.mean_squared_error(y_test, y_pred))\n",
    "print('Root Mean Squared Error:', np.sqrt(metrics.mean_squared_error(y_test, y_pred)))"
   ]
  },
  {
   "cell_type": "code",
   "execution_count": 175,
   "metadata": {},
   "outputs": [
    {
     "data": {
      "text/plain": [
       "[<matplotlib.lines.Line2D at 0x7fb1896dbe80>]"
      ]
     },
     "execution_count": 175,
     "metadata": {},
     "output_type": "execute_result"
    },
    {
     "data": {
      "image/png": "[encoded data removed]",
      "text/plain": [
       "<Figure size 432x288 with 1 Axes>"
      ]
     },
     "metadata": {
      "needs_background": "light"
     },
     "output_type": "display_data"
    }
   ],
   "source": [
    "plt.scatter(X_test[:,0], y_test, color = 'black')\n",
    "plt.plot(X_test[:,0], y_pred, color = 'blue')"
   ]
  },
  {
   "cell_type": "code",
   "execution_count": 23,
   "metadata": {},
   "outputs": [
    {
     "data": {
      "text/html": [
       "<div>\n",
       "<style scoped>\n",
       "    .dataframe tbody tr th:only-of-type {\n",
       "        vertical-align: middle;\n",
       "    }\n",
       "\n",
       "    .dataframe tbody tr th {\n",
       "        vertical-align: top;\n",
       "    }\n",
       "\n",
       "    .dataframe thead th {\n",
       "        text-align: right;\n",
       "    }\n",
       "</style>\n",
       "<table border=\"1\" class=\"dataframe\">\n",
       "  <thead>\n",
       "    <tr style=\"text-align: right;\">\n",
       "      <th></th>\n",
       "      <th>Date</th>\n",
       "      <th>Antigen Positive Cases by Specimen Date</th>\n",
       "      <th>Deaths by Date of Death</th>\n",
       "      <th>Cases by Report Date</th>\n",
       "      <th>Molecular (PCR) Positive Cases by Specimen Date</th>\n",
       "    </tr>\n",
       "  </thead>\n",
       "  <tbody>\n",
       "    <tr>\n",
       "      <th>0</th>\n",
       "      <td>3/24/2020</td>\n",
       "      <td>1</td>\n",
       "      <td>1.0</td>\n",
       "      <td>101</td>\n",
       "      <td>175</td>\n",
       "    </tr>\n",
       "    <tr>\n",
       "      <th>1</th>\n",
       "      <td>3/25/2020</td>\n",
       "      <td>0</td>\n",
       "      <td>1.0</td>\n",
       "      <td>106</td>\n",
       "      <td>198</td>\n",
       "    </tr>\n",
       "    <tr>\n",
       "      <th>2</th>\n",
       "      <td>3/26/2020</td>\n",
       "      <td>0</td>\n",
       "      <td>1.0</td>\n",
       "      <td>132</td>\n",
       "      <td>197</td>\n",
       "    </tr>\n",
       "    <tr>\n",
       "      <th>3</th>\n",
       "      <td>3/27/2020</td>\n",
       "      <td>0</td>\n",
       "      <td>1.0</td>\n",
       "      <td>128</td>\n",
       "      <td>167</td>\n",
       "    </tr>\n",
       "    <tr>\n",
       "      <th>4</th>\n",
       "      <td>3/28/2020</td>\n",
       "      <td>1</td>\n",
       "      <td>1.0</td>\n",
       "      <td>171</td>\n",
       "      <td>99</td>\n",
       "    </tr>\n",
       "  </tbody>\n",
       "</table>\n",
       "</div>"
      ],
      "text/plain": [
       "        Date  Antigen Positive Cases by Specimen Date  \\\n",
       "0  3/24/2020                                        1   \n",
       "1  3/25/2020                                        0   \n",
       "2  3/26/2020                                        0   \n",
       "3  3/27/2020                                        0   \n",
       "4  3/28/2020                                        1   \n",
       "\n",
       "   Deaths by Date of Death  Cases by Report Date  \\\n",
       "0                      1.0                   101   \n",
       "1                      1.0                   106   \n",
       "2                      1.0                   132   \n",
       "3                      1.0                   128   \n",
       "4                      1.0                   171   \n",
       "\n",
       "   Molecular (PCR) Positive Cases by Specimen Date  \n",
       "0                                              175  \n",
       "1                                              198  \n",
       "2                                              197  \n",
       "3                                              167  \n",
       "4                                               99  "
      ]
     },
     "execution_count": 23,
     "metadata": {},
     "output_type": "execute_result"
    }
   ],
   "source": [
    "covid_data = pd.read_csv(r\"./NCCovidDeaths.csv\")\n",
    "covid_data.head()"
   ]
  },
  {
   "cell_type": "code",
   "execution_count": 24,
   "metadata": {},
   "outputs": [
    {
     "data": {
      "text/html": [
       "<div>\n",
       "<style scoped>\n",
       "    .dataframe tbody tr th:only-of-type {\n",
       "        vertical-align: middle;\n",
       "    }\n",
       "\n",
       "    .dataframe tbody tr th {\n",
       "        vertical-align: top;\n",
       "    }\n",
       "\n",
       "    .dataframe thead th {\n",
       "        text-align: right;\n",
       "    }\n",
       "</style>\n",
       "<table border=\"1\" class=\"dataframe\">\n",
       "  <thead>\n",
       "    <tr style=\"text-align: right;\">\n",
       "      <th></th>\n",
       "      <th>Antigen Positive Cases by Specimen Date</th>\n",
       "      <th>Deaths by Date of Death</th>\n",
       "      <th>Cases by Report Date</th>\n",
       "      <th>Molecular (PCR) Positive Cases by Specimen Date</th>\n",
       "    </tr>\n",
       "  </thead>\n",
       "  <tbody>\n",
       "    <tr>\n",
       "      <th>0</th>\n",
       "      <td>1</td>\n",
       "      <td>1.0</td>\n",
       "      <td>101</td>\n",
       "      <td>175</td>\n",
       "    </tr>\n",
       "    <tr>\n",
       "      <th>1</th>\n",
       "      <td>0</td>\n",
       "      <td>1.0</td>\n",
       "      <td>106</td>\n",
       "      <td>198</td>\n",
       "    </tr>\n",
       "    <tr>\n",
       "      <th>2</th>\n",
       "      <td>0</td>\n",
       "      <td>1.0</td>\n",
       "      <td>132</td>\n",
       "      <td>197</td>\n",
       "    </tr>\n",
       "    <tr>\n",
       "      <th>3</th>\n",
       "      <td>0</td>\n",
       "      <td>1.0</td>\n",
       "      <td>128</td>\n",
       "      <td>167</td>\n",
       "    </tr>\n",
       "    <tr>\n",
       "      <th>4</th>\n",
       "      <td>1</td>\n",
       "      <td>1.0</td>\n",
       "      <td>171</td>\n",
       "      <td>99</td>\n",
       "    </tr>\n",
       "  </tbody>\n",
       "</table>\n",
       "</div>"
      ],
      "text/plain": [
       "   Antigen Positive Cases by Specimen Date  Deaths by Date of Death  \\\n",
       "0                                        1                      1.0   \n",
       "1                                        0                      1.0   \n",
       "2                                        0                      1.0   \n",
       "3                                        0                      1.0   \n",
       "4                                        1                      1.0   \n",
       "\n",
       "   Cases by Report Date  Molecular (PCR) Positive Cases by Specimen Date  \n",
       "0                   101                                              175  \n",
       "1                   106                                              198  \n",
       "2                   132                                              197  \n",
       "3                   128                                              167  \n",
       "4                   171                                               99  "
      ]
     },
     "execution_count": 24,
     "metadata": {},
     "output_type": "execute_result"
    }
   ],
   "source": [
    "covid_data_drop = covid_data.drop([\"Date\"], axis = 1)\n",
    "covid_data_drop.head()"
   ]
  },
  {
   "cell_type": "code",
   "execution_count": 31,
   "metadata": {},
   "outputs": [
    {
     "data": {
      "text/plain": [
       "[<matplotlib.lines.Line2D at 0x7fc79d2ee730>]"
      ]
     },
     "execution_count": 31,
     "metadata": {},
     "output_type": "execute_result"
    },
    {
     "data": {
      "image/png": "[encoded data removed]",
      "text/plain": [
       "<Figure size 720x360 with 1 Axes>"
      ]
     },
     "metadata": {
      "needs_background": "light"
     },
     "output_type": "display_data"
    }
   ],
   "source": [
    "plt.xlabel('Days Since March 24th, 2020')\n",
    "plt.ylabel('Deaths')\n",
    "plt.rcParams[\"figure.figsize\"] = [10,5]\n",
    "plt.title('Covid Death Rate in North Carolina Over Time')\n",
    "x_vals = np.linspace(0, 470, 470)\n",
    "plt.plot(x_vals, covid_data[\"Deaths by Date of Death\"], 'b')"
   ]
  },
  {
   "cell_type": "code",
   "execution_count": 46,
   "metadata": {},
   "outputs": [
    {
     "data": {
      "text/plain": [
       "[<matplotlib.lines.Line2D at 0x7fc781c61cd0>]"
      ]
     },
     "execution_count": 46,
     "metadata": {},
     "output_type": "execute_result"
    },
    {
     "data": {
      "image/png": "[encoded data removed]",
      "text/plain": [
       "<Figure size 720x360 with 1 Axes>"
      ]
     },
     "metadata": {
      "needs_background": "light"
     },
     "output_type": "display_data"
    }
   ],
   "source": [
    "plt.xlabel('Days Since March 24th, 2020')\n",
    "plt.ylabel('Cases')\n",
    "plt.rcParams[\"figure.figsize\"] = [10,5]\n",
    "plt.title('Covid Cases in North Carolina Over Time')\n",
    "x_vals = np.linspace(0, 470, 470)\n",
    "plt.plot(x_vals, covid_data[\"Cases by Report Date\"], 'b')"
   ]
  },
  {
   "cell_type": "code",
   "execution_count": 12,
   "metadata": {},
   "outputs": [
    {
     "data": {
      "text/html": [
       "<div>\n",
       "<style scoped>\n",
       "    .dataframe tbody tr th:only-of-type {\n",
       "        vertical-align: middle;\n",
       "    }\n",
       "\n",
       "    .dataframe tbody tr th {\n",
       "        vertical-align: top;\n",
       "    }\n",
       "\n",
       "    .dataframe thead th {\n",
       "        text-align: right;\n",
       "    }\n",
       "</style>\n",
       "<table border=\"1\" class=\"dataframe\">\n",
       "  <thead>\n",
       "    <tr style=\"text-align: right;\">\n",
       "      <th></th>\n",
       "      <th>County</th>\n",
       "      <th>Date Range</th>\n",
       "      <th>Cases</th>\n",
       "      <th>Cases Per 10,000 Residents</th>\n",
       "      <th>Cases Per 100,000 Residents</th>\n",
       "      <th>Deaths</th>\n",
       "    </tr>\n",
       "  </thead>\n",
       "  <tbody>\n",
       "    <tr>\n",
       "      <th>0</th>\n",
       "      <td>Mecklenburg</td>\n",
       "      <td>Today</td>\n",
       "      <td>115088</td>\n",
       "      <td>1036</td>\n",
       "      <td>10365</td>\n",
       "      <td>980</td>\n",
       "    </tr>\n",
       "    <tr>\n",
       "      <th>1</th>\n",
       "      <td>Brunswick</td>\n",
       "      <td>Today</td>\n",
       "      <td>9402</td>\n",
       "      <td>658</td>\n",
       "      <td>6583</td>\n",
       "      <td>156</td>\n",
       "    </tr>\n",
       "    <tr>\n",
       "      <th>2</th>\n",
       "      <td>Caldwell</td>\n",
       "      <td>Today</td>\n",
       "      <td>9534</td>\n",
       "      <td>1160</td>\n",
       "      <td>11602</td>\n",
       "      <td>111</td>\n",
       "    </tr>\n",
       "    <tr>\n",
       "      <th>3</th>\n",
       "      <td>Rowan</td>\n",
       "      <td>Today</td>\n",
       "      <td>17327</td>\n",
       "      <td>1219</td>\n",
       "      <td>12195</td>\n",
       "      <td>313</td>\n",
       "    </tr>\n",
       "    <tr>\n",
       "      <th>4</th>\n",
       "      <td>Burke</td>\n",
       "      <td>Today</td>\n",
       "      <td>10161</td>\n",
       "      <td>1123</td>\n",
       "      <td>11229</td>\n",
       "      <td>164</td>\n",
       "    </tr>\n",
       "  </tbody>\n",
       "</table>\n",
       "</div>"
      ],
      "text/plain": [
       "        County Date Range   Cases  Cases Per 10,000 Residents  \\\n",
       "0  Mecklenburg      Today  115088                        1036   \n",
       "1    Brunswick      Today    9402                         658   \n",
       "2     Caldwell      Today    9534                        1160   \n",
       "3        Rowan      Today   17327                        1219   \n",
       "4        Burke      Today   10161                        1123   \n",
       "\n",
       "   Cases Per 100,000 Residents  Deaths  \n",
       "0                        10365     980  \n",
       "1                         6583     156  \n",
       "2                        11602     111  \n",
       "3                        12195     313  \n",
       "4                        11229     164  "
      ]
     },
     "execution_count": 12,
     "metadata": {},
     "output_type": "execute_result"
    }
   ],
   "source": [
    "covid_county_deaths = pd.read_csv(r\"./NCCountyDeaths.csv\")\n",
    "covid_county_deaths.head()"
   ]
  },
  {
   "cell_type": "code",
   "execution_count": 27,
   "metadata": {},
   "outputs": [
    {
     "data": {
      "text/html": [
       "<div>\n",
       "<style scoped>\n",
       "    .dataframe tbody tr th:only-of-type {\n",
       "        vertical-align: middle;\n",
       "    }\n",
       "\n",
       "    .dataframe tbody tr th {\n",
       "        vertical-align: top;\n",
       "    }\n",
       "\n",
       "    .dataframe thead th {\n",
       "        text-align: right;\n",
       "    }\n",
       "</style>\n",
       "<table border=\"1\" class=\"dataframe\">\n",
       "  <thead>\n",
       "    <tr style=\"text-align: right;\">\n",
       "      <th></th>\n",
       "      <th>County</th>\n",
       "      <th>Measure Names</th>\n",
       "      <th>Measure Values</th>\n",
       "    </tr>\n",
       "  </thead>\n",
       "  <tbody>\n",
       "    <tr>\n",
       "      <th>0</th>\n",
       "      <td>Yancey</td>\n",
       "      <td>Total                                       Po...</td>\n",
       "      <td>18069</td>\n",
       "    </tr>\n",
       "    <tr>\n",
       "      <th>1</th>\n",
       "      <td>Yadkin</td>\n",
       "      <td>Total                                       Po...</td>\n",
       "      <td>37667</td>\n",
       "    </tr>\n",
       "    <tr>\n",
       "      <th>2</th>\n",
       "      <td>Wilson</td>\n",
       "      <td>Total                                       Po...</td>\n",
       "      <td>81801</td>\n",
       "    </tr>\n",
       "    <tr>\n",
       "      <th>3</th>\n",
       "      <td>Wilkes</td>\n",
       "      <td>Total                                       Po...</td>\n",
       "      <td>68412</td>\n",
       "    </tr>\n",
       "    <tr>\n",
       "      <th>4</th>\n",
       "      <td>Wayne</td>\n",
       "      <td>Total                                       Po...</td>\n",
       "      <td>123131</td>\n",
       "    </tr>\n",
       "  </tbody>\n",
       "</table>\n",
       "</div>"
      ],
      "text/plain": [
       "   County                                      Measure Names  Measure Values\n",
       "0  Yancey  Total                                       Po...           18069\n",
       "1  Yadkin  Total                                       Po...           37667\n",
       "2  Wilson  Total                                       Po...           81801\n",
       "3  Wilkes  Total                                       Po...           68412\n",
       "4   Wayne  Total                                       Po...          123131"
      ]
     },
     "execution_count": 27,
     "metadata": {},
     "output_type": "execute_result"
    }
   ],
   "source": [
    "covid_county_vac = pd.read_csv(r\"./NCCovidVac.csv\")\n",
    "covid_county_vac.head()"
   ]
  },
  {
   "cell_type": "code",
   "execution_count": 31,
   "metadata": {},
   "outputs": [
    {
     "data": {
      "text/plain": [
       "(204, 3)"
      ]
     },
     "execution_count": 31,
     "metadata": {},
     "output_type": "execute_result"
    }
   ],
   "source": [
    "covid_county_vac = covid_county_vac.loc[covid_county_vac[\"Measure Names\"] != \"Total                                       Population\"]\n",
    "covid_county_vac = covid_county_vac.loc[covid_county_vac[\"Measure Names\"] != \"People Vaccinated with at Least One Doses Federal Pharmacy Programs\"]\n",
    "covid_county_vac = covid_county_vac.loc[covid_county_vac[\"Measure Names\"] != \"People Vaccinated with at Least One Doses NC Providers\"]\n",
    "covid_county_vac.shape"
   ]
  },
  {
   "cell_type": "code",
   "execution_count": 34,
   "metadata": {},
   "outputs": [],
   "source": [
    "covid_vac = covid_county_vac.loc[covid_county_vac[\"Measure Names\"] != \"People Fully Vaccinated                   NC Providers\"]\n",
    "covid_vac_nc = covid_county_vac.loc[covid_county_vac[\"Measure Names\"] != \"People Fully Vaccinated                         Federal Pharmacy Programs\"]"
   ]
  },
  {
   "cell_type": "code",
   "execution_count": 35,
   "metadata": {},
   "outputs": [
    {
     "data": {
      "text/html": [
       "<div>\n",
       "<style scoped>\n",
       "    .dataframe tbody tr th:only-of-type {\n",
       "        vertical-align: middle;\n",
       "    }\n",
       "\n",
       "    .dataframe tbody tr th {\n",
       "        vertical-align: top;\n",
       "    }\n",
       "\n",
       "    .dataframe thead th {\n",
       "        text-align: right;\n",
       "    }\n",
       "</style>\n",
       "<table border=\"1\" class=\"dataframe\">\n",
       "  <thead>\n",
       "    <tr style=\"text-align: right;\">\n",
       "      <th></th>\n",
       "      <th>County</th>\n",
       "      <th>Measure Names</th>\n",
       "      <th>Measure Values</th>\n",
       "    </tr>\n",
       "  </thead>\n",
       "  <tbody>\n",
       "    <tr>\n",
       "      <th>102</th>\n",
       "      <td>Yancey</td>\n",
       "      <td>People Fully Vaccinated                       ...</td>\n",
       "      <td>532</td>\n",
       "    </tr>\n",
       "    <tr>\n",
       "      <th>103</th>\n",
       "      <td>Yadkin</td>\n",
       "      <td>People Fully Vaccinated                       ...</td>\n",
       "      <td>2298</td>\n",
       "    </tr>\n",
       "    <tr>\n",
       "      <th>104</th>\n",
       "      <td>Wilson</td>\n",
       "      <td>People Fully Vaccinated                       ...</td>\n",
       "      <td>6308</td>\n",
       "    </tr>\n",
       "    <tr>\n",
       "      <th>105</th>\n",
       "      <td>Wilkes</td>\n",
       "      <td>People Fully Vaccinated                       ...</td>\n",
       "      <td>4946</td>\n",
       "    </tr>\n",
       "    <tr>\n",
       "      <th>106</th>\n",
       "      <td>Wayne</td>\n",
       "      <td>People Fully Vaccinated                       ...</td>\n",
       "      <td>8507</td>\n",
       "    </tr>\n",
       "  </tbody>\n",
       "</table>\n",
       "</div>"
      ],
      "text/plain": [
       "     County                                      Measure Names  Measure Values\n",
       "102  Yancey  People Fully Vaccinated                       ...             532\n",
       "103  Yadkin  People Fully Vaccinated                       ...            2298\n",
       "104  Wilson  People Fully Vaccinated                       ...            6308\n",
       "105  Wilkes  People Fully Vaccinated                       ...            4946\n",
       "106   Wayne  People Fully Vaccinated                       ...            8507"
      ]
     },
     "execution_count": 35,
     "metadata": {},
     "output_type": "execute_result"
    }
   ],
   "source": [
    "covid_vac.head()"
   ]
  },
  {
   "cell_type": "code",
   "execution_count": 36,
   "metadata": {},
   "outputs": [
    {
     "data": {
      "text/html": [
       "<div>\n",
       "<style scoped>\n",
       "    .dataframe tbody tr th:only-of-type {\n",
       "        vertical-align: middle;\n",
       "    }\n",
       "\n",
       "    .dataframe tbody tr th {\n",
       "        vertical-align: top;\n",
       "    }\n",
       "\n",
       "    .dataframe thead th {\n",
       "        text-align: right;\n",
       "    }\n",
       "</style>\n",
       "<table border=\"1\" class=\"dataframe\">\n",
       "  <thead>\n",
       "    <tr style=\"text-align: right;\">\n",
       "      <th></th>\n",
       "      <th>County</th>\n",
       "      <th>Measure Names</th>\n",
       "      <th>Measure Values</th>\n",
       "    </tr>\n",
       "  </thead>\n",
       "  <tbody>\n",
       "    <tr>\n",
       "      <th>306</th>\n",
       "      <td>Yancey</td>\n",
       "      <td>People Fully Vaccinated                   NC P...</td>\n",
       "      <td>6409</td>\n",
       "    </tr>\n",
       "    <tr>\n",
       "      <th>307</th>\n",
       "      <td>Yadkin</td>\n",
       "      <td>People Fully Vaccinated                   NC P...</td>\n",
       "      <td>11161</td>\n",
       "    </tr>\n",
       "    <tr>\n",
       "      <th>308</th>\n",
       "      <td>Wilson</td>\n",
       "      <td>People Fully Vaccinated                   NC P...</td>\n",
       "      <td>23943</td>\n",
       "    </tr>\n",
       "    <tr>\n",
       "      <th>309</th>\n",
       "      <td>Wilkes</td>\n",
       "      <td>People Fully Vaccinated                   NC P...</td>\n",
       "      <td>17159</td>\n",
       "    </tr>\n",
       "    <tr>\n",
       "      <th>310</th>\n",
       "      <td>Wayne</td>\n",
       "      <td>People Fully Vaccinated                   NC P...</td>\n",
       "      <td>29561</td>\n",
       "    </tr>\n",
       "  </tbody>\n",
       "</table>\n",
       "</div>"
      ],
      "text/plain": [
       "     County                                      Measure Names  Measure Values\n",
       "306  Yancey  People Fully Vaccinated                   NC P...            6409\n",
       "307  Yadkin  People Fully Vaccinated                   NC P...           11161\n",
       "308  Wilson  People Fully Vaccinated                   NC P...           23943\n",
       "309  Wilkes  People Fully Vaccinated                   NC P...           17159\n",
       "310   Wayne  People Fully Vaccinated                   NC P...           29561"
      ]
     },
     "execution_count": 36,
     "metadata": {},
     "output_type": "execute_result"
    }
   ],
   "source": [
    "covid_vac_nc.head()"
   ]
  },
  {
   "cell_type": "code",
   "execution_count": 38,
   "metadata": {},
   "outputs": [
    {
     "data": {
      "text/plain": [
       "<BarContainer object of 102 artists>"
      ]
     },
     "execution_count": 38,
     "metadata": {},
     "output_type": "execute_result"
    },
    {
     "data": {
      "image/png": "[encoded data removed]",
      "text/plain": [
       "<Figure size 432x288 with 1 Axes>"
      ]
     },
     "metadata": {
      "needs_background": "light"
     },
     "output_type": "display_data"
    }
   ],
   "source": [
    "plt.xlabel('County')\n",
    "plt.ylabel('People Vaccinated')\n",
    "plt.title('Number of Vaccinations')\n",
    "plt.bar(covid_vac[\"County\"], covid_vac[\"Measure Values\"])"
   ]
  },
  {
   "cell_type": "code",
   "execution_count": 41,
   "metadata": {},
   "outputs": [
    {
     "data": {
      "text/plain": [
       "<BarContainer object of 102 artists>"
      ]
     },
     "execution_count": 41,
     "metadata": {},
     "output_type": "execute_result"
    },
    {
     "data": {
      "image/png": "[encoded data removed]",
      "text/plain": [
       "<Figure size 432x288 with 1 Axes>"
      ]
     },
     "metadata": {
      "needs_background": "light"
     },
     "output_type": "display_data"
    }
   ],
   "source": [
    "plt.xlabel('County')\n",
    "plt.ylabel('People Vaccinated')\n",
    "plt.title('Number of Vaccinations')\n",
    "plt.bar(covid_vac_nc[\"County\"], covid_vac_nc[\"Measure Values\"])"
   ]
  },
  {
   "cell_type": "code",
   "execution_count": 42,
   "metadata": {},
   "outputs": [],
   "source": [
    "s1 = covid_vac.set_index('County')['Measure Values']\n",
    "s2 = covid_vac_nc.set_index('County')['Measure Values']"
   ]
  },
  {
   "cell_type": "code",
   "execution_count": 43,
   "metadata": {},
   "outputs": [],
   "source": [
    "covid_vac = (s1+s2).reset_index(name = 'Total Vaccinated')"
   ]
  },
  {
   "cell_type": "code",
   "execution_count": 44,
   "metadata": {},
   "outputs": [
    {
     "data": {
      "text/html": [
       "<div>\n",
       "<style scoped>\n",
       "    .dataframe tbody tr th:only-of-type {\n",
       "        vertical-align: middle;\n",
       "    }\n",
       "\n",
       "    .dataframe tbody tr th {\n",
       "        vertical-align: top;\n",
       "    }\n",
       "\n",
       "    .dataframe thead th {\n",
       "        text-align: right;\n",
       "    }\n",
       "</style>\n",
       "<table border=\"1\" class=\"dataframe\">\n",
       "  <thead>\n",
       "    <tr style=\"text-align: right;\">\n",
       "      <th></th>\n",
       "      <th>County</th>\n",
       "      <th>Total Vaccinated</th>\n",
       "    </tr>\n",
       "  </thead>\n",
       "  <tbody>\n",
       "    <tr>\n",
       "      <th>0</th>\n",
       "      <td>Yancey</td>\n",
       "      <td>6941</td>\n",
       "    </tr>\n",
       "    <tr>\n",
       "      <th>1</th>\n",
       "      <td>Yadkin</td>\n",
       "      <td>13459</td>\n",
       "    </tr>\n",
       "    <tr>\n",
       "      <th>2</th>\n",
       "      <td>Wilson</td>\n",
       "      <td>30251</td>\n",
       "    </tr>\n",
       "    <tr>\n",
       "      <th>3</th>\n",
       "      <td>Wilkes</td>\n",
       "      <td>22105</td>\n",
       "    </tr>\n",
       "    <tr>\n",
       "      <th>4</th>\n",
       "      <td>Wayne</td>\n",
       "      <td>38068</td>\n",
       "    </tr>\n",
       "  </tbody>\n",
       "</table>\n",
       "</div>"
      ],
      "text/plain": [
       "   County  Total Vaccinated\n",
       "0  Yancey              6941\n",
       "1  Yadkin             13459\n",
       "2  Wilson             30251\n",
       "3  Wilkes             22105\n",
       "4   Wayne             38068"
      ]
     },
     "execution_count": 44,
     "metadata": {},
     "output_type": "execute_result"
    }
   ],
   "source": [
    "covid_vac.head()"
   ]
  },
  {
   "cell_type": "code",
   "execution_count": 45,
   "metadata": {},
   "outputs": [
    {
     "data": {
      "text/html": [
       "<div>\n",
       "<style scoped>\n",
       "    .dataframe tbody tr th:only-of-type {\n",
       "        vertical-align: middle;\n",
       "    }\n",
       "\n",
       "    .dataframe tbody tr th {\n",
       "        vertical-align: top;\n",
       "    }\n",
       "\n",
       "    .dataframe thead th {\n",
       "        text-align: right;\n",
       "    }\n",
       "</style>\n",
       "<table border=\"1\" class=\"dataframe\">\n",
       "  <thead>\n",
       "    <tr style=\"text-align: right;\">\n",
       "      <th></th>\n",
       "      <th>County</th>\n",
       "      <th>Date Range</th>\n",
       "      <th>Cases</th>\n",
       "      <th>Cases Per 10,000 Residents</th>\n",
       "      <th>Cases Per 100,000 Residents</th>\n",
       "      <th>Deaths</th>\n",
       "    </tr>\n",
       "  </thead>\n",
       "  <tbody>\n",
       "    <tr>\n",
       "      <th>0</th>\n",
       "      <td>Mecklenburg</td>\n",
       "      <td>Today</td>\n",
       "      <td>115088</td>\n",
       "      <td>1036</td>\n",
       "      <td>10365</td>\n",
       "      <td>980</td>\n",
       "    </tr>\n",
       "    <tr>\n",
       "      <th>1</th>\n",
       "      <td>Brunswick</td>\n",
       "      <td>Today</td>\n",
       "      <td>9402</td>\n",
       "      <td>658</td>\n",
       "      <td>6583</td>\n",
       "      <td>156</td>\n",
       "    </tr>\n",
       "    <tr>\n",
       "      <th>2</th>\n",
       "      <td>Caldwell</td>\n",
       "      <td>Today</td>\n",
       "      <td>9534</td>\n",
       "      <td>1160</td>\n",
       "      <td>11602</td>\n",
       "      <td>111</td>\n",
       "    </tr>\n",
       "    <tr>\n",
       "      <th>3</th>\n",
       "      <td>Rowan</td>\n",
       "      <td>Today</td>\n",
       "      <td>17327</td>\n",
       "      <td>1219</td>\n",
       "      <td>12195</td>\n",
       "      <td>313</td>\n",
       "    </tr>\n",
       "    <tr>\n",
       "      <th>4</th>\n",
       "      <td>Burke</td>\n",
       "      <td>Today</td>\n",
       "      <td>10161</td>\n",
       "      <td>1123</td>\n",
       "      <td>11229</td>\n",
       "      <td>164</td>\n",
       "    </tr>\n",
       "  </tbody>\n",
       "</table>\n",
       "</div>"
      ],
      "text/plain": [
       "        County Date Range   Cases  Cases Per 10,000 Residents  \\\n",
       "0  Mecklenburg      Today  115088                        1036   \n",
       "1    Brunswick      Today    9402                         658   \n",
       "2     Caldwell      Today    9534                        1160   \n",
       "3        Rowan      Today   17327                        1219   \n",
       "4        Burke      Today   10161                        1123   \n",
       "\n",
       "   Cases Per 100,000 Residents  Deaths  \n",
       "0                        10365     980  \n",
       "1                         6583     156  \n",
       "2                        11602     111  \n",
       "3                        12195     313  \n",
       "4                        11229     164  "
      ]
     },
     "execution_count": 45,
     "metadata": {},
     "output_type": "execute_result"
    }
   ],
   "source": [
    "covid_county_deaths = pd.read_csv(r\"./NCCountyDeaths.csv\")\n",
    "covid_county_deaths.head()"
   ]
  },
  {
   "cell_type": "code",
   "execution_count": 46,
   "metadata": {},
   "outputs": [
    {
     "data": {
      "text/html": [
       "<div>\n",
       "<style scoped>\n",
       "    .dataframe tbody tr th:only-of-type {\n",
       "        vertical-align: middle;\n",
       "    }\n",
       "\n",
       "    .dataframe tbody tr th {\n",
       "        vertical-align: top;\n",
       "    }\n",
       "\n",
       "    .dataframe thead th {\n",
       "        text-align: right;\n",
       "    }\n",
       "</style>\n",
       "<table border=\"1\" class=\"dataframe\">\n",
       "  <thead>\n",
       "    <tr style=\"text-align: right;\">\n",
       "      <th></th>\n",
       "      <th>County</th>\n",
       "      <th>Date Range</th>\n",
       "      <th>Cases</th>\n",
       "      <th>Cases Per 10,000 Residents</th>\n",
       "      <th>Cases Per 100,000 Residents</th>\n",
       "      <th>Deaths</th>\n",
       "    </tr>\n",
       "  </thead>\n",
       "  <tbody>\n",
       "    <tr>\n",
       "      <th>78</th>\n",
       "      <td>Yancey</td>\n",
       "      <td>Today</td>\n",
       "      <td>1638</td>\n",
       "      <td>907</td>\n",
       "      <td>9065</td>\n",
       "      <td>28</td>\n",
       "    </tr>\n",
       "    <tr>\n",
       "      <th>94</th>\n",
       "      <td>Yadkin</td>\n",
       "      <td>Today</td>\n",
       "      <td>4142</td>\n",
       "      <td>1100</td>\n",
       "      <td>10996</td>\n",
       "      <td>55</td>\n",
       "    </tr>\n",
       "    <tr>\n",
       "      <th>69</th>\n",
       "      <td>Wilson</td>\n",
       "      <td>Today</td>\n",
       "      <td>9974</td>\n",
       "      <td>1219</td>\n",
       "      <td>12193</td>\n",
       "      <td>181</td>\n",
       "    </tr>\n",
       "    <tr>\n",
       "      <th>24</th>\n",
       "      <td>Wilkes</td>\n",
       "      <td>Today</td>\n",
       "      <td>6961</td>\n",
       "      <td>1018</td>\n",
       "      <td>10175</td>\n",
       "      <td>117</td>\n",
       "    </tr>\n",
       "    <tr>\n",
       "      <th>9</th>\n",
       "      <td>Wayne</td>\n",
       "      <td>Today</td>\n",
       "      <td>11559</td>\n",
       "      <td>939</td>\n",
       "      <td>9388</td>\n",
       "      <td>244</td>\n",
       "    </tr>\n",
       "  </tbody>\n",
       "</table>\n",
       "</div>"
      ],
      "text/plain": [
       "    County Date Range  Cases  Cases Per 10,000 Residents  \\\n",
       "78  Yancey      Today   1638                         907   \n",
       "94  Yadkin      Today   4142                        1100   \n",
       "69  Wilson      Today   9974                        1219   \n",
       "24  Wilkes      Today   6961                        1018   \n",
       "9    Wayne      Today  11559                         939   \n",
       "\n",
       "    Cases Per 100,000 Residents  Deaths  \n",
       "78                         9065      28  \n",
       "94                        10996      55  \n",
       "69                        12193     181  \n",
       "24                        10175     117  \n",
       "9                          9388     244  "
      ]
     },
     "execution_count": 46,
     "metadata": {},
     "output_type": "execute_result"
    }
   ],
   "source": [
    "covid_county_deaths = covid_county_deaths.sort_values('County', ascending=False)\n",
    "covid_county_deaths.head()"
   ]
  },
  {
   "cell_type": "code",
   "execution_count": 47,
   "metadata": {},
   "outputs": [
    {
     "data": {
      "text/html": [
       "<div>\n",
       "<style scoped>\n",
       "    .dataframe tbody tr th:only-of-type {\n",
       "        vertical-align: middle;\n",
       "    }\n",
       "\n",
       "    .dataframe tbody tr th {\n",
       "        vertical-align: top;\n",
       "    }\n",
       "\n",
       "    .dataframe thead th {\n",
       "        text-align: right;\n",
       "    }\n",
       "</style>\n",
       "<table border=\"1\" class=\"dataframe\">\n",
       "  <thead>\n",
       "    <tr style=\"text-align: right;\">\n",
       "      <th></th>\n",
       "      <th>County</th>\n",
       "      <th>Date Range</th>\n",
       "      <th>Cases</th>\n",
       "      <th>Cases Per 10,000 Residents</th>\n",
       "      <th>Cases Per 100,000 Residents</th>\n",
       "      <th>Deaths</th>\n",
       "      <th>Total Vaccinated</th>\n",
       "    </tr>\n",
       "  </thead>\n",
       "  <tbody>\n",
       "    <tr>\n",
       "      <th>78</th>\n",
       "      <td>Yancey</td>\n",
       "      <td>Today</td>\n",
       "      <td>1638</td>\n",
       "      <td>907</td>\n",
       "      <td>9065</td>\n",
       "      <td>28</td>\n",
       "      <td>17300</td>\n",
       "    </tr>\n",
       "    <tr>\n",
       "      <th>94</th>\n",
       "      <td>Yadkin</td>\n",
       "      <td>Today</td>\n",
       "      <td>4142</td>\n",
       "      <td>1100</td>\n",
       "      <td>10996</td>\n",
       "      <td>55</td>\n",
       "      <td>7510</td>\n",
       "    </tr>\n",
       "    <tr>\n",
       "      <th>69</th>\n",
       "      <td>Wilson</td>\n",
       "      <td>Today</td>\n",
       "      <td>9974</td>\n",
       "      <td>1219</td>\n",
       "      <td>12193</td>\n",
       "      <td>181</td>\n",
       "      <td>17607</td>\n",
       "    </tr>\n",
       "    <tr>\n",
       "      <th>24</th>\n",
       "      <td>Wilkes</td>\n",
       "      <td>Today</td>\n",
       "      <td>6961</td>\n",
       "      <td>1018</td>\n",
       "      <td>10175</td>\n",
       "      <td>117</td>\n",
       "      <td>44915</td>\n",
       "    </tr>\n",
       "    <tr>\n",
       "      <th>9</th>\n",
       "      <td>Wayne</td>\n",
       "      <td>Today</td>\n",
       "      <td>11559</td>\n",
       "      <td>939</td>\n",
       "      <td>9388</td>\n",
       "      <td>244</td>\n",
       "      <td>18058</td>\n",
       "    </tr>\n",
       "  </tbody>\n",
       "</table>\n",
       "</div>"
      ],
      "text/plain": [
       "    County Date Range  Cases  Cases Per 10,000 Residents  \\\n",
       "78  Yancey      Today   1638                         907   \n",
       "94  Yadkin      Today   4142                        1100   \n",
       "69  Wilson      Today   9974                        1219   \n",
       "24  Wilkes      Today   6961                        1018   \n",
       "9    Wayne      Today  11559                         939   \n",
       "\n",
       "    Cases Per 100,000 Residents  Deaths  Total Vaccinated  \n",
       "78                         9065      28             17300  \n",
       "94                        10996      55              7510  \n",
       "69                        12193     181             17607  \n",
       "24                        10175     117             44915  \n",
       "9                          9388     244             18058  "
      ]
     },
     "execution_count": 47,
     "metadata": {},
     "output_type": "execute_result"
    }
   ],
   "source": [
    "covid_nc = covid_county_deaths.join(covid_vac[\"Total Vaccinated\"])\n",
    "covid_nc.head()"
   ]
  },
  {
   "cell_type": "code",
   "execution_count": 49,
   "metadata": {},
   "outputs": [
    {
     "data": {
      "text/plain": [
       "<matplotlib.collections.PathCollection at 0x7fb19a426e20>"
      ]
     },
     "execution_count": 49,
     "metadata": {},
     "output_type": "execute_result"
    },
    {
     "data": {
      "image/png": "[encoded data removed]",
      "text/plain": [
       "<Figure size 432x288 with 1 Axes>"
      ]
     },
     "metadata": {
      "needs_background": "light"
     },
     "output_type": "display_data"
    }
   ],
   "source": [
    "plt.xlabel('Deaths')\n",
    "plt.ylabel('Total Vaccinated')\n",
    "plt.title('Deaths vs People Vaccinated')\n",
    "plt.scatter(covid_nc[\"Deaths\"], covid_nc[\"Total Vaccinated\"], c = \"b\")"
   ]
  },
  {
   "cell_type": "code",
   "execution_count": 51,
   "metadata": {
    "scrolled": true
   },
   "outputs": [
    {
     "data": {
      "text/plain": [
       "<matplotlib.collections.PathCollection at 0x7fb199ca84c0>"
      ]
     },
     "execution_count": 51,
     "metadata": {},
     "output_type": "execute_result"
    },
    {
     "data": {
      "image/png": "[encoded data removed]",
      "text/plain": [
       "<Figure size 432x288 with 1 Axes>"
      ]
     },
     "metadata": {
      "needs_background": "light"
     },
     "output_type": "display_data"
    }
   ],
   "source": [
    "plt.xlabel('Cases')\n",
    "plt.ylabel('Total Vaccinated')\n",
    "plt.title('Cases vs People Vaccinated')\n",
    "plt.scatter(covid_nc[\"Cases Per 10,000 Residents\"], covid_nc[\"Total Vaccinated\"], c = \"b\")"
   ]
  },
  {
   "cell_type": "code",
   "execution_count": 52,
   "metadata": {
    "scrolled": true
   },
   "outputs": [
    {
     "name": "stdout",
     "output_type": "stream",
     "text": [
      "0.00786776928864091\n"
     ]
    }
   ],
   "source": [
    "print(covid_nc[\"Deaths\"].corr(covid_nc[\"Total Vaccinated\"]))"
   ]
  }
 ],
 "metadata": {
  "kernelspec": {
   "display_name": "Python 3",
   "language": "python",
   "name": "python3"
  },
  "language_info": {
   "codemirror_mode": {
    "name": "ipython",
    "version": 3
   },
   "file_extension": ".py",
   "mimetype": "text/x-python",
   "name": "python",
   "nbconvert_exporter": "python",
   "pygments_lexer": "ipython3",
   "version": "3.8.5"
  }
 },
 "nbformat": 4,
 "nbformat_minor": 4
}
